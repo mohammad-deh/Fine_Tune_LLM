{
 "cells": [
  {
   "cell_type": "code",
   "execution_count": 5,
   "metadata": {},
   "outputs": [
    {
     "name": "stdout",
     "output_type": "stream",
     "text": [
      "Requirement already satisfied: tqdm in c:\\users\\user\\desktop\\lora 2\\.venv\\lib\\site-packages (4.66.1)\n",
      "Requirement already satisfied: colorama in c:\\users\\user\\desktop\\lora 2\\.venv\\lib\\site-packages (from tqdm) (0.4.6)\n"
     ]
    }
   ],
   "source": [
    "!pip install tqdm"
   ]
  },
  {
   "cell_type": "code",
   "execution_count": 1,
   "metadata": {},
   "outputs": [],
   "source": [
    "import torch\n",
    "from torch.utils.data import DataLoader\n",
    "from transformers import AutoTokenizer, AutoModelForSequenceClassification, AdamW\n",
    "from sklearn.model_selection import train_test_split\n",
    "from sklearn.metrics import accuracy_score\n",
    "#from google.colab import drive\n",
    "from transformers import BertForSequenceClassification\n",
    "from peft import LoraConfig, TaskType\n",
    "from peft import get_peft_model\n",
    "from tqdm import tqdm\n"
   ]
  },
  {
   "cell_type": "code",
   "execution_count": 2,
   "metadata": {},
   "outputs": [],
   "source": [
    "import pandas as pd"
   ]
  },
  {
   "cell_type": "code",
   "execution_count": 3,
   "metadata": {},
   "outputs": [],
   "source": [
    "#pip install torch torchvision torchaudio"
   ]
  },
  {
   "cell_type": "code",
   "execution_count": 4,
   "metadata": {},
   "outputs": [],
   "source": [
    "NAICS_2022 = pd.read_csv('NAICS_2022.csv')"
   ]
  },
  {
   "cell_type": "code",
   "execution_count": 5,
   "metadata": {},
   "outputs": [],
   "source": [
    "NAICS_2022['INDUSTRY_GROUP'] = NAICS_2022['Code']//100\n",
    "\n",
    "NAICS_2022 = NAICS_2022.dropna(subset=['EXAMPLE']).reset_index(drop=True)\n",
    "\n",
    "# We define a function called extract_examples whose input is a text and output is a list of words\n",
    "# which are extracted from that text. After doing some preprocess on the text, we split the text by semi-colon.\n",
    "\n",
    "def extract_examples(text):\n",
    "    # Lowercase the text\n",
    "    text = text.lower()\n",
    "    text = text.replace('for example, ','')\n",
    "    \n",
    "    # Remove punctuation marks\n",
    "    #text = ''.join(char for char in text if char not in punctuation_without_semicolon)\n",
    "    \n",
    "    # Remove stopwords\n",
    "    words = text.split()\n",
    "    #words = [word for word in words if word not in stopwords]\n",
    "    \n",
    "    for i in range(len(words)):\n",
    "        if \";\" in words[i]:\n",
    "            word = words[i].replace(\";\", \"\")\n",
    "            stemmed_word = word + \";\"\n",
    "            words[i] = stemmed_word        \n",
    "        #else:\n",
    "         #   words[i] = stemmer.stem(words[i])\n",
    "    \n",
    "    \n",
    "    \n",
    "    # Stem the words\n",
    "    #words = [stemmer.stem(word) for word in words]\n",
    "    \n",
    "    # Join the words back into a string\n",
    "    text = ' '.join(words)\n",
    "    \n",
    "    list_words = text.rstrip('; ').split(';')\n",
    "    # Use Yake to extract keywords from the preprocessed text\n",
    "    #keywords = custom_kw_extractor.extract_keywords(text)\n",
    "    #keywords = [t[0] for t in keywords]\n",
    "    #if len(keywords) != 1:\n",
    "       # keywords = [t for t in keywords if len(t.split()) > 1]\n",
    "        \n",
    "    #keywords = [t[0] for t in keywords if len(t[0].split()) > 1]\n",
    "    \n",
    "    return list_words\n",
    "\n",
    "\n",
    "# Here we apply the extract_examples function on the EXAMPLE column of the dataset. \n",
    "# EXAMPLE column comprises of many examples which are separated by semi-colon.\n",
    "\n",
    "NAICS_2022['EXAMPLE_SPLIT'] = NAICS_2022['EXAMPLE'].apply(lambda x: extract_examples(x))\n",
    "\n",
    "\n",
    "# Labeling the INDUSTRY_GROUP column: we have 312 classes in the industry group level (first 4 digits of NAICS code)\n",
    "# and we label them from 0 to 311.\n",
    "\n",
    "INPUT_DF = NAICS_2022.copy()\n",
    "\n",
    "\n",
    "INPUT_DF_EXPLODE = INPUT_DF.explode('EXAMPLE_SPLIT').reset_index(drop = True)\n",
    "\n",
    "\n"
   ]
  },
  {
   "cell_type": "code",
   "execution_count": 6,
   "metadata": {},
   "outputs": [],
   "source": [
    "value_counts = INPUT_DF_EXPLODE['Code'].value_counts()\n",
    "# Get the values that occur more than once\n",
    "values_to_keep = value_counts[value_counts > 1].index\n",
    "\n",
    "# Filter the DataFrame to keep only rows where the value in 'a' occurs more than once\n",
    "INPUT_DF_EXPLODE = INPUT_DF_EXPLODE[INPUT_DF_EXPLODE['Code'].isin(values_to_keep)].reset_index(drop = True)"
   ]
  },
  {
   "cell_type": "code",
   "execution_count": 7,
   "metadata": {},
   "outputs": [
    {
     "data": {
      "text/plain": [
       "869"
      ]
     },
     "execution_count": 7,
     "metadata": {},
     "output_type": "execute_result"
    }
   ],
   "source": [
    "INPUT_DF_EXPLODE.Code.nunique()"
   ]
  },
  {
   "cell_type": "code",
   "execution_count": 8,
   "metadata": {},
   "outputs": [],
   "source": [
    "mapping_IG = {sec:idx for idx, sec in enumerate(list(INPUT_DF_EXPLODE.INDUSTRY_GROUP.unique()))}\n",
    "INPUT_DF_EXPLODE['industry_group_label'] = INPUT_DF_EXPLODE['INDUSTRY_GROUP'].map(mapping_IG)"
   ]
  },
  {
   "cell_type": "code",
   "execution_count": 9,
   "metadata": {},
   "outputs": [],
   "source": [
    "mapping_NAICS = {sec:idx for idx, sec in enumerate(list(INPUT_DF_EXPLODE.Code.unique()))}\n",
    "INPUT_DF_EXPLODE['naics_label'] = INPUT_DF_EXPLODE['Code'].map(mapping_NAICS)"
   ]
  },
  {
   "cell_type": "code",
   "execution_count": 10,
   "metadata": {},
   "outputs": [],
   "source": [
    "mapping_IG_reverse = {v:k for k, v in mapping_IG.items()}\n",
    "mapping_NAICS_reverse = {v:k for k, v in mapping_NAICS.items()}"
   ]
  },
  {
   "cell_type": "code",
   "execution_count": 11,
   "metadata": {},
   "outputs": [],
   "source": [
    "INPUT_DF_EXPLODE_SELECT = INPUT_DF_EXPLODE[['Class definition','EXAMPLE_SPLIT','industry_group_label','naics_label']]"
   ]
  },
  {
   "cell_type": "code",
   "execution_count": 12,
   "metadata": {},
   "outputs": [
    {
     "data": {
      "text/html": [
       "<div>\n",
       "<style scoped>\n",
       "    .dataframe tbody tr th:only-of-type {\n",
       "        vertical-align: middle;\n",
       "    }\n",
       "\n",
       "    .dataframe tbody tr th {\n",
       "        vertical-align: top;\n",
       "    }\n",
       "\n",
       "    .dataframe thead th {\n",
       "        text-align: right;\n",
       "    }\n",
       "</style>\n",
       "<table border=\"1\" class=\"dataframe\">\n",
       "  <thead>\n",
       "    <tr style=\"text-align: right;\">\n",
       "      <th></th>\n",
       "      <th>Class definition</th>\n",
       "      <th>EXAMPLE_SPLIT</th>\n",
       "      <th>industry_group_label</th>\n",
       "      <th>naics_label</th>\n",
       "    </tr>\n",
       "  </thead>\n",
       "  <tbody>\n",
       "    <tr>\n",
       "      <th>0</th>\n",
       "      <td>This Canadian industry comprises establishment...</td>\n",
       "      <td>soybean farming, field and seed production</td>\n",
       "      <td>0</td>\n",
       "      <td>0</td>\n",
       "    </tr>\n",
       "    <tr>\n",
       "      <th>1</th>\n",
       "      <td>This Canadian industry comprises establishment...</td>\n",
       "      <td>soybeans (soya beans), growing</td>\n",
       "      <td>0</td>\n",
       "      <td>0</td>\n",
       "    </tr>\n",
       "    <tr>\n",
       "      <th>2</th>\n",
       "      <td>This Canadian industry comprises establishment...</td>\n",
       "      <td>canola (rapeseed) farming</td>\n",
       "      <td>0</td>\n",
       "      <td>1</td>\n",
       "    </tr>\n",
       "    <tr>\n",
       "      <th>3</th>\n",
       "      <td>This Canadian industry comprises establishment...</td>\n",
       "      <td>linseed (flaxseed) growing</td>\n",
       "      <td>0</td>\n",
       "      <td>1</td>\n",
       "    </tr>\n",
       "    <tr>\n",
       "      <th>4</th>\n",
       "      <td>This Canadian industry comprises establishment...</td>\n",
       "      <td>mixed oilseeds (except soybean) farming</td>\n",
       "      <td>0</td>\n",
       "      <td>1</td>\n",
       "    </tr>\n",
       "    <tr>\n",
       "      <th>...</th>\n",
       "      <td>...</td>\n",
       "      <td>...</td>\n",
       "      <td>...</td>\n",
       "      <td>...</td>\n",
       "    </tr>\n",
       "    <tr>\n",
       "      <th>19133</th>\n",
       "      <td>This Canadian industry comprises establishment...</td>\n",
       "      <td>organization of american states, office in ca...</td>\n",
       "      <td>319</td>\n",
       "      <td>868</td>\n",
       "    </tr>\n",
       "    <tr>\n",
       "      <th>19134</th>\n",
       "      <td>This Canadian industry comprises establishment...</td>\n",
       "      <td>organization of oil producing and exporting c...</td>\n",
       "      <td>319</td>\n",
       "      <td>868</td>\n",
       "    </tr>\n",
       "    <tr>\n",
       "      <th>19135</th>\n",
       "      <td>This Canadian industry comprises establishment...</td>\n",
       "      <td>united nations, office in canada</td>\n",
       "      <td>319</td>\n",
       "      <td>868</td>\n",
       "    </tr>\n",
       "    <tr>\n",
       "      <th>19136</th>\n",
       "      <td>This Canadian industry comprises establishment...</td>\n",
       "      <td>world bank, office in canada</td>\n",
       "      <td>319</td>\n",
       "      <td>868</td>\n",
       "    </tr>\n",
       "    <tr>\n",
       "      <th>19137</th>\n",
       "      <td>This Canadian industry comprises establishment...</td>\n",
       "      <td>world customs organization</td>\n",
       "      <td>319</td>\n",
       "      <td>868</td>\n",
       "    </tr>\n",
       "  </tbody>\n",
       "</table>\n",
       "<p>19138 rows × 4 columns</p>\n",
       "</div>"
      ],
      "text/plain": [
       "                                        Class definition  \\\n",
       "0      This Canadian industry comprises establishment...   \n",
       "1      This Canadian industry comprises establishment...   \n",
       "2      This Canadian industry comprises establishment...   \n",
       "3      This Canadian industry comprises establishment...   \n",
       "4      This Canadian industry comprises establishment...   \n",
       "...                                                  ...   \n",
       "19133  This Canadian industry comprises establishment...   \n",
       "19134  This Canadian industry comprises establishment...   \n",
       "19135  This Canadian industry comprises establishment...   \n",
       "19136  This Canadian industry comprises establishment...   \n",
       "19137  This Canadian industry comprises establishment...   \n",
       "\n",
       "                                           EXAMPLE_SPLIT  \\\n",
       "0             soybean farming, field and seed production   \n",
       "1                         soybeans (soya beans), growing   \n",
       "2                              canola (rapeseed) farming   \n",
       "3                             linseed (flaxseed) growing   \n",
       "4                mixed oilseeds (except soybean) farming   \n",
       "...                                                  ...   \n",
       "19133   organization of american states, office in ca...   \n",
       "19134   organization of oil producing and exporting c...   \n",
       "19135                   united nations, office in canada   \n",
       "19136                       world bank, office in canada   \n",
       "19137                         world customs organization   \n",
       "\n",
       "       industry_group_label  naics_label  \n",
       "0                         0            0  \n",
       "1                         0            0  \n",
       "2                         0            1  \n",
       "3                         0            1  \n",
       "4                         0            1  \n",
       "...                     ...          ...  \n",
       "19133                   319          868  \n",
       "19134                   319          868  \n",
       "19135                   319          868  \n",
       "19136                   319          868  \n",
       "19137                   319          868  \n",
       "\n",
       "[19138 rows x 4 columns]"
      ]
     },
     "execution_count": 12,
     "metadata": {},
     "output_type": "execute_result"
    }
   ],
   "source": [
    "INPUT_DF_EXPLODE_SELECT"
   ]
  },
  {
   "cell_type": "code",
   "execution_count": 13,
   "metadata": {},
   "outputs": [
    {
     "name": "stdout",
     "output_type": "stream",
     "text": [
      "GPU is available!\n"
     ]
    }
   ],
   "source": [
    "if torch.cuda.is_available():\n",
    "    print(\"GPU is available!\")\n",
    "else:\n",
    "    print(\"GPU is not available. Using CPU.\")"
   ]
  },
  {
   "cell_type": "code",
   "execution_count": 14,
   "metadata": {},
   "outputs": [
    {
     "data": {
      "text/plain": [
       "869"
      ]
     },
     "execution_count": 14,
     "metadata": {},
     "output_type": "execute_result"
    }
   ],
   "source": [
    "INPUT_DF_EXPLODE_SELECT.naics_label.nunique()"
   ]
  },
  {
   "cell_type": "code",
   "execution_count": 15,
   "metadata": {},
   "outputs": [],
   "source": [
    "#X_train, X_valid, y_train, y_valid = train_test_split(INPUT_DF_EXPLODE_SELECT['EXAMPLE_SPLIT'], \n",
    " #                                                     INPUT_DF_EXPLODE_SELECT['naics_label'], test_size=0.1, random_state=42)"
   ]
  },
  {
   "cell_type": "code",
   "execution_count": 16,
   "metadata": {},
   "outputs": [],
   "source": [
    "X_train, X_valid, y_train, y_valid = train_test_split(\n",
    "    INPUT_DF_EXPLODE_SELECT['EXAMPLE_SPLIT'],\n",
    "    INPUT_DF_EXPLODE_SELECT['industry_group_label'],\n",
    "    test_size=0.1,\n",
    "    random_state=42,\n",
    "    stratify=INPUT_DF_EXPLODE_SELECT['industry_group_label']\n",
    ")"
   ]
  },
  {
   "cell_type": "code",
   "execution_count": 17,
   "metadata": {},
   "outputs": [
    {
     "data": {
      "text/plain": [
       "320"
      ]
     },
     "execution_count": 17,
     "metadata": {},
     "output_type": "execute_result"
    }
   ],
   "source": [
    "len(list(set(list(y_train))))"
   ]
  },
  {
   "cell_type": "code",
   "execution_count": 18,
   "metadata": {},
   "outputs": [],
   "source": [
    "tokenizer = AutoTokenizer.from_pretrained('bert-base-uncased')\n",
    "train_encodings = tokenizer(list(X_train), truncation=True, padding=True, return_tensors='pt')\n",
    "valid_encodings = tokenizer(list(X_valid), truncation=True, padding=True, return_tensors='pt')"
   ]
  },
  {
   "cell_type": "code",
   "execution_count": 19,
   "metadata": {},
   "outputs": [
    {
     "data": {
      "text/plain": [
       "{'input_ids': tensor([[  101, 10013,  2240,  ...,     0,     0,     0],\n",
       "        [  101,  6617,  1005,  ...,     0,     0,     0],\n",
       "        [  101,  4517, 20145,  ...,     0,     0,     0],\n",
       "        ...,\n",
       "        [  101, 10250, 19915,  ...,     0,     0,     0],\n",
       "        [  101, 23750, 25496,  ...,     0,     0,     0],\n",
       "        [  101, 11408,  1006,  ...,     0,     0,     0]]), 'token_type_ids': tensor([[0, 0, 0,  ..., 0, 0, 0],\n",
       "        [0, 0, 0,  ..., 0, 0, 0],\n",
       "        [0, 0, 0,  ..., 0, 0, 0],\n",
       "        ...,\n",
       "        [0, 0, 0,  ..., 0, 0, 0],\n",
       "        [0, 0, 0,  ..., 0, 0, 0],\n",
       "        [0, 0, 0,  ..., 0, 0, 0]]), 'attention_mask': tensor([[1, 1, 1,  ..., 0, 0, 0],\n",
       "        [1, 1, 1,  ..., 0, 0, 0],\n",
       "        [1, 1, 1,  ..., 0, 0, 0],\n",
       "        ...,\n",
       "        [1, 1, 1,  ..., 0, 0, 0],\n",
       "        [1, 1, 1,  ..., 0, 0, 0],\n",
       "        [1, 1, 1,  ..., 0, 0, 0]])}"
      ]
     },
     "execution_count": 19,
     "metadata": {},
     "output_type": "execute_result"
    }
   ],
   "source": [
    "train_encodings"
   ]
  },
  {
   "cell_type": "code",
   "execution_count": 20,
   "metadata": {},
   "outputs": [],
   "source": [
    "# Convert labels to tensors\n",
    "train_labels = torch.tensor(list(y_train))\n",
    "valid_labels = torch.tensor(list(y_valid))\n"
   ]
  },
  {
   "cell_type": "code",
   "execution_count": 21,
   "metadata": {},
   "outputs": [
    {
     "data": {
      "text/plain": [
       "tensor([ 29, 306,  67,  ...,  21,  66,  55])"
      ]
     },
     "execution_count": 21,
     "metadata": {},
     "output_type": "execute_result"
    }
   ],
   "source": [
    "train_labels"
   ]
  },
  {
   "cell_type": "code",
   "execution_count": 22,
   "metadata": {},
   "outputs": [],
   "source": [
    "device = torch.device('cuda' if torch.cuda.is_available() else 'cpu')\n",
    "#device = 'cpu'\n",
    "train_encodings = {key: val.to(device) for key, val in train_encodings.items()}\n",
    "valid_encodings = {key: val.to(device) for key, val in valid_encodings.items()}\n",
    "train_labels = train_labels.to(device)\n",
    "valid_labels = valid_labels.to(device)"
   ]
  },
  {
   "cell_type": "code",
   "execution_count": 23,
   "metadata": {},
   "outputs": [
    {
     "data": {
      "text/plain": [
       "{'input_ids': tensor([[  101, 10013,  2240,  ...,     0,     0,     0],\n",
       "         [  101,  6617,  1005,  ...,     0,     0,     0],\n",
       "         [  101,  4517, 20145,  ...,     0,     0,     0],\n",
       "         ...,\n",
       "         [  101, 10250, 19915,  ...,     0,     0,     0],\n",
       "         [  101, 23750, 25496,  ...,     0,     0,     0],\n",
       "         [  101, 11408,  1006,  ...,     0,     0,     0]], device='cuda:0'),\n",
       " 'token_type_ids': tensor([[0, 0, 0,  ..., 0, 0, 0],\n",
       "         [0, 0, 0,  ..., 0, 0, 0],\n",
       "         [0, 0, 0,  ..., 0, 0, 0],\n",
       "         ...,\n",
       "         [0, 0, 0,  ..., 0, 0, 0],\n",
       "         [0, 0, 0,  ..., 0, 0, 0],\n",
       "         [0, 0, 0,  ..., 0, 0, 0]], device='cuda:0'),\n",
       " 'attention_mask': tensor([[1, 1, 1,  ..., 0, 0, 0],\n",
       "         [1, 1, 1,  ..., 0, 0, 0],\n",
       "         [1, 1, 1,  ..., 0, 0, 0],\n",
       "         ...,\n",
       "         [1, 1, 1,  ..., 0, 0, 0],\n",
       "         [1, 1, 1,  ..., 0, 0, 0],\n",
       "         [1, 1, 1,  ..., 0, 0, 0]], device='cuda:0')}"
      ]
     },
     "execution_count": 23,
     "metadata": {},
     "output_type": "execute_result"
    }
   ],
   "source": [
    "train_encodings"
   ]
  },
  {
   "cell_type": "code",
   "execution_count": 24,
   "metadata": {},
   "outputs": [
    {
     "data": {
      "text/plain": [
       "tensor([ 29, 306,  67,  ...,  21,  66,  55], device='cuda:0')"
      ]
     },
     "execution_count": 24,
     "metadata": {},
     "output_type": "execute_result"
    }
   ],
   "source": [
    "train_labels"
   ]
  },
  {
   "cell_type": "code",
   "execution_count": 25,
   "metadata": {},
   "outputs": [],
   "source": [
    "from torch.utils.data import TensorDataset, DataLoader\n",
    "\n",
    "# Assuming train_encoding and train_labels are your input data\n",
    "train_dataset = TensorDataset(train_encodings['input_ids'], \n",
    "                              train_encodings['token_type_ids'], \n",
    "                              train_encodings['attention_mask'], \n",
    "                              train_labels)\n"
   ]
  },
  {
   "cell_type": "code",
   "execution_count": 26,
   "metadata": {},
   "outputs": [],
   "source": [
    "# Set batch size according to your preference\n",
    "batch_size = 16\n",
    "\n",
    "# Create DataLoader\n",
    "train_dataloader = DataLoader(train_dataset, batch_size=batch_size, shuffle=True)\n"
   ]
  },
  {
   "cell_type": "code",
   "execution_count": 27,
   "metadata": {},
   "outputs": [],
   "source": [
    "valid_dataset = TensorDataset(valid_encodings['input_ids'], \n",
    "                              valid_encodings['token_type_ids'], \n",
    "                              valid_encodings['attention_mask'], \n",
    "                              valid_labels)\n",
    "\n",
    "valid_dataloader = DataLoader(valid_dataset, batch_size=batch_size, shuffle=True)"
   ]
  },
  {
   "cell_type": "code",
   "execution_count": 28,
   "metadata": {},
   "outputs": [],
   "source": [
    "NUM_CLASS = len(list(set(list(y_train))))"
   ]
  },
  {
   "cell_type": "code",
   "execution_count": 29,
   "metadata": {},
   "outputs": [
    {
     "data": {
      "text/plain": [
       "320"
      ]
     },
     "execution_count": 29,
     "metadata": {},
     "output_type": "execute_result"
    }
   ],
   "source": [
    "NUM_CLASS"
   ]
  },
  {
   "cell_type": "code",
   "execution_count": 30,
   "metadata": {},
   "outputs": [
    {
     "name": "stderr",
     "output_type": "stream",
     "text": [
      "Some weights of BertForSequenceClassification were not initialized from the model checkpoint at bert-base-uncased and are newly initialized: ['classifier.bias', 'classifier.weight']\n",
      "You should probably TRAIN this model on a down-stream task to be able to use it for predictions and inference.\n"
     ]
    },
    {
     "name": "stdout",
     "output_type": "stream",
     "text": [
      "Number of trainable parameters: 540992\n",
      "Total number of parameters: 110269312\n"
     ]
    }
   ],
   "source": [
    "model = BertForSequenceClassification.from_pretrained(\n",
    "    'bert-base-uncased', \n",
    "    num_labels=NUM_CLASS\n",
    ")\n",
    "\n",
    "lora_config = LoraConfig(\n",
    "    task_type=TaskType.SEQ_CLS, r=8, lora_alpha=1, lora_dropout=0.1\n",
    ")\n",
    "\n",
    "model = get_peft_model(model, lora_config)\n",
    "\n",
    "# Set up training parameters\n",
    "optimizer = torch.optim.AdamW(model.parameters(), lr=5e-5)\n",
    "model.to(device)\n",
    "\n",
    "# Count trainable parameters\n",
    "num_trainable_params = sum(p.numel() for p in model.parameters() if p.requires_grad)\n",
    "print(f\"Number of trainable parameters: {num_trainable_params}\")\n",
    "\n",
    "# Count total parameters (including non-trainable)\n",
    "num_total_params = sum(p.numel() for p in model.parameters())\n",
    "print(f\"Total number of parameters: {num_total_params}\")"
   ]
  },
  {
   "cell_type": "code",
   "execution_count": 32,
   "metadata": {},
   "outputs": [
    {
     "data": {
      "text/plain": [
       "0.00490609753691036"
      ]
     },
     "execution_count": 32,
     "metadata": {},
     "output_type": "execute_result"
    }
   ],
   "source": [
    "540992/110269312"
   ]
  },
  {
   "cell_type": "code",
   "execution_count": 31,
   "metadata": {
    "scrolled": true
   },
   "outputs": [
    {
     "name": "stdout",
     "output_type": "stream",
     "text": [
      "PeftModelForSequenceClassification(\n",
      "  (base_model): LoraModel(\n",
      "    (model): BertForSequenceClassification(\n",
      "      (bert): BertModel(\n",
      "        (embeddings): BertEmbeddings(\n",
      "          (word_embeddings): Embedding(30522, 768, padding_idx=0)\n",
      "          (position_embeddings): Embedding(512, 768)\n",
      "          (token_type_embeddings): Embedding(2, 768)\n",
      "          (LayerNorm): LayerNorm((768,), eps=1e-12, elementwise_affine=True)\n",
      "          (dropout): Dropout(p=0.1, inplace=False)\n",
      "        )\n",
      "        (encoder): BertEncoder(\n",
      "          (layer): ModuleList(\n",
      "            (0-11): 12 x BertLayer(\n",
      "              (attention): BertAttention(\n",
      "                (self): BertSelfAttention(\n",
      "                  (query): Linear(\n",
      "                    in_features=768, out_features=768, bias=True\n",
      "                    (lora_dropout): ModuleDict(\n",
      "                      (default): Dropout(p=0.1, inplace=False)\n",
      "                    )\n",
      "                    (lora_A): ModuleDict(\n",
      "                      (default): Linear(in_features=768, out_features=8, bias=False)\n",
      "                    )\n",
      "                    (lora_B): ModuleDict(\n",
      "                      (default): Linear(in_features=8, out_features=768, bias=False)\n",
      "                    )\n",
      "                    (lora_embedding_A): ParameterDict()\n",
      "                    (lora_embedding_B): ParameterDict()\n",
      "                  )\n",
      "                  (key): Linear(in_features=768, out_features=768, bias=True)\n",
      "                  (value): Linear(\n",
      "                    in_features=768, out_features=768, bias=True\n",
      "                    (lora_dropout): ModuleDict(\n",
      "                      (default): Dropout(p=0.1, inplace=False)\n",
      "                    )\n",
      "                    (lora_A): ModuleDict(\n",
      "                      (default): Linear(in_features=768, out_features=8, bias=False)\n",
      "                    )\n",
      "                    (lora_B): ModuleDict(\n",
      "                      (default): Linear(in_features=8, out_features=768, bias=False)\n",
      "                    )\n",
      "                    (lora_embedding_A): ParameterDict()\n",
      "                    (lora_embedding_B): ParameterDict()\n",
      "                  )\n",
      "                  (dropout): Dropout(p=0.1, inplace=False)\n",
      "                )\n",
      "                (output): BertSelfOutput(\n",
      "                  (dense): Linear(in_features=768, out_features=768, bias=True)\n",
      "                  (LayerNorm): LayerNorm((768,), eps=1e-12, elementwise_affine=True)\n",
      "                  (dropout): Dropout(p=0.1, inplace=False)\n",
      "                )\n",
      "              )\n",
      "              (intermediate): BertIntermediate(\n",
      "                (dense): Linear(in_features=768, out_features=3072, bias=True)\n",
      "                (intermediate_act_fn): GELUActivation()\n",
      "              )\n",
      "              (output): BertOutput(\n",
      "                (dense): Linear(in_features=3072, out_features=768, bias=True)\n",
      "                (LayerNorm): LayerNorm((768,), eps=1e-12, elementwise_affine=True)\n",
      "                (dropout): Dropout(p=0.1, inplace=False)\n",
      "              )\n",
      "            )\n",
      "          )\n",
      "        )\n",
      "        (pooler): BertPooler(\n",
      "          (dense): Linear(in_features=768, out_features=768, bias=True)\n",
      "          (activation): Tanh()\n",
      "        )\n",
      "      )\n",
      "      (dropout): Dropout(p=0.1, inplace=False)\n",
      "      (classifier): ModulesToSaveWrapper(\n",
      "        (original_module): Linear(in_features=768, out_features=320, bias=True)\n",
      "        (modules_to_save): ModuleDict(\n",
      "          (default): Linear(in_features=768, out_features=320, bias=True)\n",
      "        )\n",
      "      )\n",
      "    )\n",
      "  )\n",
      ")\n"
     ]
    }
   ],
   "source": [
    "print(model)"
   ]
  },
  {
   "cell_type": "code",
   "execution_count": 34,
   "metadata": {},
   "outputs": [
    {
     "name": "stderr",
     "output_type": "stream",
     "text": [
      "                                                                                                                       \r"
     ]
    },
    {
     "name": "stdout",
     "output_type": "stream",
     "text": [
      "Epoch 1/10:\n",
      "Training Loss: 3.5055981997327885\n",
      "Validation Loss: 2.1575787484645845\n",
      "F1 Score: 0.4732585768894675\n",
      "Balanced Accuracy: 0.3010826775453184\n",
      "--------------------------------------------------\n"
     ]
    },
    {
     "name": "stderr",
     "output_type": "stream",
     "text": [
      "                                                                                                                       \r"
     ]
    },
    {
     "name": "stdout",
     "output_type": "stream",
     "text": [
      "Epoch 2/10:\n",
      "Training Loss: 1.6587605665653198\n",
      "Validation Loss: 1.3646453201770783\n",
      "F1 Score: 0.6457100727172546\n",
      "Balanced Accuracy: 0.4666666728757815\n",
      "--------------------------------------------------\n"
     ]
    },
    {
     "name": "stderr",
     "output_type": "stream",
     "text": [
      "                                                                                                                       \r"
     ]
    },
    {
     "name": "stdout",
     "output_type": "stream",
     "text": [
      "Epoch 3/10:\n",
      "Training Loss: 0.9509596565639741\n",
      "Validation Loss: 1.0383311272909244\n",
      "F1 Score: 0.7367638126334053\n",
      "Balanced Accuracy: 0.5940342423623972\n",
      "--------------------------------------------------\n"
     ]
    },
    {
     "name": "stderr",
     "output_type": "stream",
     "text": [
      "                                                                                                                       \r"
     ]
    },
    {
     "name": "stdout",
     "output_type": "stream",
     "text": [
      "Epoch 4/10:\n",
      "Training Loss: 0.5479970782261926\n",
      "Validation Loss: 0.9192217960953712\n",
      "F1 Score: 0.7771228151208922\n",
      "Balanced Accuracy: 0.6684233161882015\n",
      "--------------------------------------------------\n"
     ]
    },
    {
     "name": "stderr",
     "output_type": "stream",
     "text": [
      "                                                                                                                       \r"
     ]
    },
    {
     "name": "stdout",
     "output_type": "stream",
     "text": [
      "Epoch 5/10:\n",
      "Training Loss: 0.32171278023537153\n",
      "Validation Loss: 0.8359877929712335\n",
      "F1 Score: 0.7881990858437201\n",
      "Balanced Accuracy: 0.6943965895042671\n",
      "--------------------------------------------------\n"
     ]
    },
    {
     "name": "stderr",
     "output_type": "stream",
     "text": [
      "                                                                                                                       \r"
     ]
    },
    {
     "name": "stdout",
     "output_type": "stream",
     "text": [
      "Epoch 6/10:\n",
      "Training Loss: 0.1819184483197572\n",
      "Validation Loss: 0.8503637941554189\n",
      "F1 Score: 0.7991295673659142\n",
      "Balanced Accuracy: 0.7283042930664383\n",
      "--------------------------------------------------\n"
     ]
    },
    {
     "name": "stderr",
     "output_type": "stream",
     "text": [
      "                                                                                                                       \r"
     ]
    },
    {
     "name": "stdout",
     "output_type": "stream",
     "text": [
      "Epoch 7/10:\n",
      "Training Loss: 0.10717761831508539\n",
      "Validation Loss: 0.8656136797275394\n",
      "F1 Score: 0.8048320379651425\n",
      "Balanced Accuracy: 0.7477640494991196\n",
      "--------------------------------------------------\n"
     ]
    },
    {
     "name": "stderr",
     "output_type": "stream",
     "text": [
      "                                                                                                                       \r"
     ]
    },
    {
     "name": "stdout",
     "output_type": "stream",
     "text": [
      "Epoch 8/10:\n",
      "Training Loss: 0.06244758986751225\n",
      "Validation Loss: 0.8573804115333284\n",
      "F1 Score: 0.8138926443762344\n",
      "Balanced Accuracy: 0.7592269815224727\n",
      "--------------------------------------------------\n"
     ]
    },
    {
     "name": "stderr",
     "output_type": "stream",
     "text": [
      "C:\\Users\\User\\Desktop\\Lora 2\\.venv\\Lib\\site-packages\\sklearn\\metrics\\_classification.py:2399: UserWarning: y_pred contains classes not in y_true\n",
      "  warnings.warn(\"y_pred contains classes not in y_true\")\n"
     ]
    },
    {
     "name": "stdout",
     "output_type": "stream",
     "text": [
      "Epoch 9/10:\n",
      "Training Loss: 0.03977706420759367\n",
      "Validation Loss: 0.8520736526542654\n",
      "F1 Score: 0.8189403473926167\n",
      "Balanced Accuracy: 0.771866271769918\n",
      "--------------------------------------------------\n"
     ]
    },
    {
     "name": "stderr",
     "output_type": "stream",
     "text": [
      "                                                                                                                       \r"
     ]
    },
    {
     "name": "stdout",
     "output_type": "stream",
     "text": [
      "Epoch 10/10:\n",
      "Training Loss: 0.0301669634934411\n",
      "Validation Loss: 0.8580603966101383\n",
      "F1 Score: 0.818669244204441\n",
      "Balanced Accuracy: 0.7668365473959313\n",
      "--------------------------------------------------\n"
     ]
    }
   ],
   "source": [
    "from transformers import BertForSequenceClassification, AdamW, get_linear_schedule_with_warmup\n",
    "from sklearn.metrics import f1_score, balanced_accuracy_score\n",
    "from tqdm import tqdm\n",
    "\n",
    "# Number of training epochs\n",
    "NUM_EPOCHS = 10\n",
    "scheduler = get_linear_schedule_with_warmup(optimizer, num_warmup_steps=0, num_training_steps=len(train_dataloader)*NUM_EPOCHS)\n",
    "criterion = torch.nn.CrossEntropyLoss()\n",
    "\n",
    "\n",
    "\n",
    "# Lists to store training losses and F1 scores\n",
    "train_losses = []\n",
    "valid_losses = []\n",
    "f1_scores = []\n",
    "balanced_accuracies = []\n",
    "# Training loop with tqdm\n",
    "for epoch in range(NUM_EPOCHS):\n",
    "    model.train()\n",
    "    total_train_loss = 0.0\n",
    "\n",
    "    # Use tqdm to create a progress bar\n",
    "    progress_bar = tqdm(train_dataloader, desc=f'Epoch {epoch + 1}/{NUM_EPOCHS}', leave=False)\n",
    "\n",
    "    for batch in progress_bar:\n",
    "        input_ids, token_type_ids, attention_mask, labels = batch\n",
    "\n",
    "        optimizer.zero_grad()\n",
    "\n",
    "        outputs = model(input_ids, token_type_ids=token_type_ids, attention_mask=attention_mask, labels=labels)\n",
    "        loss = outputs.loss\n",
    "\n",
    "        total_train_loss += loss.item()\n",
    "\n",
    "        loss.backward()\n",
    "        torch.nn.utils.clip_grad_norm_(model.parameters(), 1.0)  # Gradient clipping to prevent exploding gradients\n",
    "\n",
    "        optimizer.step()\n",
    "        scheduler.step()\n",
    "\n",
    "        # Update the tqdm progress bar with the current loss\n",
    "        progress_bar.set_postfix({'Training Loss': loss.item()})\n",
    "\n",
    "    average_train_loss = total_train_loss / len(train_dataloader)\n",
    "    train_losses.append(average_train_loss)\n",
    "\n",
    "    # Validation\n",
    "    model.eval()\n",
    "    total_valid_loss = 0.0\n",
    "    all_preds = []\n",
    "    all_labels = []\n",
    "\n",
    "    with torch.no_grad():\n",
    "        for batch in valid_dataloader:\n",
    "            input_ids, token_type_ids, attention_mask, labels = batch\n",
    "\n",
    "            outputs = model(input_ids, token_type_ids=token_type_ids, attention_mask=attention_mask, labels=labels)\n",
    "            loss = outputs.loss\n",
    "\n",
    "            total_valid_loss += loss.item()\n",
    "\n",
    "            logits = outputs.logits\n",
    "            preds = torch.argmax(logits, dim=1).cpu().numpy()\n",
    "            all_preds.extend(preds)\n",
    "            all_labels.extend(labels.cpu().numpy())\n",
    "\n",
    "    average_valid_loss = total_valid_loss / len(valid_dataloader)\n",
    "    valid_losses.append(average_valid_loss)\n",
    "\n",
    "    # Calculate F1 score\n",
    "    f1 = f1_score(all_labels, all_preds, average='weighted')\n",
    "    f1_scores.append(f1)\n",
    "    balanced_acc = balanced_accuracy_score(all_labels, all_preds)\n",
    "    balanced_accuracies.append(balanced_acc)\n",
    "\n",
    "    # Print training and validation statistics\n",
    "    print(f'Epoch {epoch + 1}/{NUM_EPOCHS}:')\n",
    "    print(f'Training Loss: {average_train_loss}')\n",
    "    print(f'Validation Loss: {average_valid_loss}')\n",
    "    print(f'F1 Score: {f1}')\n",
    "    print(f'Balanced Accuracy: {balanced_acc}')\n",
    "    print('-' * 50)\n"
   ]
  },
  {
   "cell_type": "code",
   "execution_count": 3,
   "metadata": {},
   "outputs": [],
   "source": [
    "with open('train_losses_bert.txt', 'w') as file:\n",
    "    for item in train_losses:\n",
    "        file.write(f\"{item}\\n\")\n",
    "\n",
    "with open('valid_losses_bert.txt', 'w') as file:\n",
    "    for item in valid_losses:\n",
    "        file.write(f\"{item}\\n\")\n",
    "\n",
    "with open('f1_scores_bert.txt', 'w') as file:\n",
    "    for item in f1_scores:\n",
    "        file.write(f\"{item}\\n\")\n",
    "\n",
    "with open('balanced_accuracies_bert.txt', 'w') as file:\n",
    "    for item in balanced_accuracies:\n",
    "        file.write(f\"{item}\\n\")"
   ]
  },
  {
   "cell_type": "code",
   "execution_count": 5,
   "metadata": {},
   "outputs": [],
   "source": [
    "with open('train_losses_bert.txt', 'r') as file:\n",
    "    train_losses_bert = [float(line.strip()) for line in file]\n",
    "\n",
    "with open('valid_losses_bert.txt', 'r') as file:\n",
    "    valid_losses_bert = [float(line.strip()) for line in file]\n",
    "\n",
    "with open('f1_scores_bert.txt', 'r') as file:\n",
    "    f1_scores_bert = [float(line.strip()) for line in file]\n",
    "\n",
    "with open('balanced_accuracies_bert.txt', 'r') as file:\n",
    "    balanced_accuracies_bert = [float(line.strip()) for line in file]\n",
    "\n"
   ]
  },
  {
   "cell_type": "code",
   "execution_count": 6,
   "metadata": {},
   "outputs": [
    {
     "data": {
      "image/png": "[encoded data removed]",
      "text/plain": [
       "<Figure size 640x480 with 1 Axes>"
      ]
     },
     "metadata": {},
     "output_type": "display_data"
    }
   ],
   "source": [
    "import matplotlib.pyplot as plt\n",
    "\n",
    "# Sample data\n",
    "x = [1, 2, 3, 4, 5,6,7,8,9,10]\n",
    "\n",
    "\n",
    "# Plotting the first list\n",
    "plt.plot(x, train_losses_bert, label='Train Loss', marker='o')\n",
    "\n",
    "# Plotting the second list\n",
    "plt.plot(x, valid_losses_bert, label='Validation Loss', marker='s')\n",
    "\n",
    "# Adding labels to the plot\n",
    "plt.xlabel('Number of Epochs')\n",
    "plt.ylabel('Loss')\n",
    "\n",
    "# Adding a legend\n",
    "plt.legend()\n",
    "\n",
    "# Display the plot\n",
    "plt.show()"
   ]
  },
  {
   "cell_type": "markdown",
   "metadata": {},
   "source": [
    "# Prediction of TM dataset based on NICE classes"
   ]
  },
  {
   "cell_type": "code",
   "execution_count": 40,
   "metadata": {},
   "outputs": [],
   "source": [
    "Sample_TM_800_Unique_Files = pd.read_excel('Sample_TM_800_Unique_Files.xlsx')"
   ]
  },
  {
   "cell_type": "code",
   "execution_count": 41,
   "metadata": {},
   "outputs": [],
   "source": [
    "Sample_TM_800_Unique_Files = Sample_TM_800_Unique_Files.dropna(subset=['TEXT']).reset_index(drop=True)"
   ]
  },
  {
   "cell_type": "code",
   "execution_count": 42,
   "metadata": {},
   "outputs": [
    {
     "data": {
      "text/plain": [
       "2083"
      ]
     },
     "execution_count": 42,
     "metadata": {},
     "output_type": "execute_result"
    }
   ],
   "source": [
    "len(Sample_TM_800_Unique_Files)"
   ]
  },
  {
   "cell_type": "code",
   "execution_count": 43,
   "metadata": {},
   "outputs": [],
   "source": [
    "texts = Sample_TM_800_Unique_Files['TEXT'].tolist()"
   ]
  },
  {
   "cell_type": "code",
   "execution_count": 44,
   "metadata": {},
   "outputs": [
    {
     "data": {
      "text/plain": [
       "2083"
      ]
     },
     "execution_count": 44,
     "metadata": {},
     "output_type": "execute_result"
    }
   ],
   "source": [
    "len(texts)"
   ]
  },
  {
   "cell_type": "code",
   "execution_count": 45,
   "metadata": {},
   "outputs": [],
   "source": [
    "tokenizer = AutoTokenizer.from_pretrained('bert-base-uncased')\n",
    "test_encodings = tokenizer(texts, truncation=True, padding=True, return_tensors='pt')"
   ]
  },
  {
   "cell_type": "code",
   "execution_count": 46,
   "metadata": {},
   "outputs": [],
   "source": [
    "device = torch.device('cuda' if torch.cuda.is_available() else 'cpu')\n",
    "test_encodings = {key: val.to(device) for key, val in test_encodings.items()}"
   ]
  },
  {
   "cell_type": "code",
   "execution_count": 47,
   "metadata": {},
   "outputs": [
    {
     "data": {
      "text/plain": [
       "{'input_ids': tensor([[  101,  3784,  5096,  ...,     0,     0,     0],\n",
       "         [  101, 19018,  2005,  ...,     0,     0,     0],\n",
       "         [  101,  4346,  2592,  ...,     0,     0,     0],\n",
       "         ...,\n",
       "         [  101, 11128,  2578,  ...,     0,     0,     0],\n",
       "         [  101,  4511,  1011,  ...,     0,     0,     0],\n",
       "         [  101,  6475,  1996,  ...,     0,     0,     0]], device='cuda:0'),\n",
       " 'token_type_ids': tensor([[0, 0, 0,  ..., 0, 0, 0],\n",
       "         [0, 0, 0,  ..., 0, 0, 0],\n",
       "         [0, 0, 0,  ..., 0, 0, 0],\n",
       "         ...,\n",
       "         [0, 0, 0,  ..., 0, 0, 0],\n",
       "         [0, 0, 0,  ..., 0, 0, 0],\n",
       "         [0, 0, 0,  ..., 0, 0, 0]], device='cuda:0'),\n",
       " 'attention_mask': tensor([[1, 1, 1,  ..., 0, 0, 0],\n",
       "         [1, 1, 1,  ..., 0, 0, 0],\n",
       "         [1, 1, 1,  ..., 0, 0, 0],\n",
       "         ...,\n",
       "         [1, 1, 1,  ..., 0, 0, 0],\n",
       "         [1, 1, 1,  ..., 0, 0, 0],\n",
       "         [1, 1, 1,  ..., 0, 0, 0]], device='cuda:0')}"
      ]
     },
     "execution_count": 47,
     "metadata": {},
     "output_type": "execute_result"
    }
   ],
   "source": [
    "test_encodings"
   ]
  },
  {
   "cell_type": "code",
   "execution_count": 48,
   "metadata": {},
   "outputs": [],
   "source": [
    "test_dataset = TensorDataset(test_encodings['input_ids'], \n",
    "                              test_encodings['token_type_ids'], \n",
    "                              test_encodings['attention_mask']\n",
    "                              )"
   ]
  },
  {
   "cell_type": "code",
   "execution_count": 49,
   "metadata": {},
   "outputs": [],
   "source": [
    "batch_size = 16\n",
    "\n",
    "# Create DataLoader\n",
    "test_dataloader = DataLoader(test_dataset, batch_size=batch_size, shuffle=False)"
   ]
  },
  {
   "cell_type": "code",
   "execution_count": 53,
   "metadata": {},
   "outputs": [],
   "source": [
    "model.eval()\n",
    "test_preds = []\n",
    "\n",
    "# Iterate through the test DataLoader\n",
    "with torch.no_grad():\n",
    "    for batch in test_dataloader:\n",
    "        input_ids, token_type_ids, attention_mask = batch  # adjust based on your input features\n",
    "\n",
    "        # Make predictions using the model\n",
    "        outputs = model(input_ids, token_type_ids=token_type_ids, attention_mask=attention_mask)\n",
    "        logits = outputs.logits\n",
    "\n",
    "        # Assuming a classification task, get predicted class labels\n",
    "        preds = torch.argmax(logits, dim=1).cpu().numpy()\n",
    "        test_preds.extend(preds)"
   ]
  },
  {
   "cell_type": "code",
   "execution_count": 54,
   "metadata": {},
   "outputs": [],
   "source": [
    "Sample_TM_800_Unique_Files['industry_group_label_pred'] = test_preds"
   ]
  },
  {
   "cell_type": "code",
   "execution_count": 55,
   "metadata": {},
   "outputs": [],
   "source": [
    "def map_values(value):\n",
    "    return mapping_IG_reverse.get(value, value)  # Use get to handle cases where the key is not in the dictionary\n",
    "\n",
    "# Apply the function to create the new column\n",
    "Sample_TM_800_Unique_Files['industry_group_pred'] = Sample_TM_800_Unique_Files['industry_group_label_pred'].apply(map_values)"
   ]
  },
  {
   "cell_type": "code",
   "execution_count": null,
   "metadata": {},
   "outputs": [],
   "source": []
  },
  {
   "cell_type": "code",
   "execution_count": 65,
   "metadata": {
    "scrolled": true
   },
   "outputs": [
    {
     "data": {
      "text/html": [
       "<div>\n",
       "<style scoped>\n",
       "    .dataframe tbody tr th:only-of-type {\n",
       "        vertical-align: middle;\n",
       "    }\n",
       "\n",
       "    .dataframe tbody tr th {\n",
       "        vertical-align: top;\n",
       "    }\n",
       "\n",
       "    .dataframe thead th {\n",
       "        text-align: right;\n",
       "    }\n",
       "</style>\n",
       "<table border=\"1\" class=\"dataframe\">\n",
       "  <thead>\n",
       "    <tr style=\"text-align: right;\">\n",
       "      <th></th>\n",
       "      <th>UNIQUE_FILE_NUMBER</th>\n",
       "      <th>NICE_CLASS_CODE</th>\n",
       "      <th>LEGAL_NAME_UPD</th>\n",
       "      <th>NAICS Marianne (multi)</th>\n",
       "      <th>NAICS Marianne</th>\n",
       "      <th>NAICS Sebastien</th>\n",
       "      <th>IND</th>\n",
       "      <th>TEXT</th>\n",
       "      <th>industry_group_label_pred</th>\n",
       "      <th>industry_group_pred</th>\n",
       "    </tr>\n",
       "  </thead>\n",
       "  <tbody>\n",
       "    <tr>\n",
       "      <th>160</th>\n",
       "      <td>2134459_0</td>\n",
       "      <td>8</td>\n",
       "      <td>la tablee des chefs</td>\n",
       "      <td>455212</td>\n",
       "      <td>455212.0</td>\n",
       "      <td>332210</td>\n",
       "      <td>0</td>\n",
       "      <td>kitchen knives; kitchen mandolines; scissors f...</td>\n",
       "      <td>87</td>\n",
       "      <td>3322</td>\n",
       "    </tr>\n",
       "    <tr>\n",
       "      <th>161</th>\n",
       "      <td>2134459_0</td>\n",
       "      <td>35</td>\n",
       "      <td>la tablee des chefs</td>\n",
       "      <td>NaN</td>\n",
       "      <td>NaN</td>\n",
       "      <td>624210</td>\n",
       "      <td>NaN</td>\n",
       "      <td>food recovery services, such as, managing logi...</td>\n",
       "      <td>276</td>\n",
       "      <td>6242</td>\n",
       "    </tr>\n",
       "    <tr>\n",
       "      <th>162</th>\n",
       "      <td>2134459_0</td>\n",
       "      <td>16</td>\n",
       "      <td>la tablee des chefs</td>\n",
       "      <td>NaN</td>\n",
       "      <td>NaN</td>\n",
       "      <td>513130</td>\n",
       "      <td>NaN</td>\n",
       "      <td>cookbooks; paper bags; plastic shopping bags</td>\n",
       "      <td>64</td>\n",
       "      <td>3222</td>\n",
       "    </tr>\n",
       "    <tr>\n",
       "      <th>163</th>\n",
       "      <td>2134459_0</td>\n",
       "      <td>36</td>\n",
       "      <td>la tablee des chefs</td>\n",
       "      <td>NaN</td>\n",
       "      <td>NaN</td>\n",
       "      <td>813210</td>\n",
       "      <td>NaN</td>\n",
       "      <td>charitable fund raising services</td>\n",
       "      <td>303</td>\n",
       "      <td>8132</td>\n",
       "    </tr>\n",
       "    <tr>\n",
       "      <th>164</th>\n",
       "      <td>2134459_0</td>\n",
       "      <td>18</td>\n",
       "      <td>la tablee des chefs</td>\n",
       "      <td>NaN</td>\n",
       "      <td>NaN</td>\n",
       "      <td>322220</td>\n",
       "      <td>NaN</td>\n",
       "      <td>grocery tote bags; shopping bags</td>\n",
       "      <td>174</td>\n",
       "      <td>4594</td>\n",
       "    </tr>\n",
       "    <tr>\n",
       "      <th>165</th>\n",
       "      <td>2134459_0</td>\n",
       "      <td>39</td>\n",
       "      <td>la tablee des chefs</td>\n",
       "      <td>NaN</td>\n",
       "      <td>NaN</td>\n",
       "      <td>624210</td>\n",
       "      <td>NaN</td>\n",
       "      <td>food brokerage services, such as, acting as a ...</td>\n",
       "      <td>17</td>\n",
       "      <td>1152</td>\n",
       "    </tr>\n",
       "    <tr>\n",
       "      <th>166</th>\n",
       "      <td>2134459_0</td>\n",
       "      <td>21</td>\n",
       "      <td>la tablee des chefs</td>\n",
       "      <td>455212</td>\n",
       "      <td>455212.0</td>\n",
       "      <td>332210</td>\n",
       "      <td>0</td>\n",
       "      <td>cookware; chopping boards for kitchen use; gra...</td>\n",
       "      <td>249</td>\n",
       "      <td>5617</td>\n",
       "    </tr>\n",
       "    <tr>\n",
       "      <th>167</th>\n",
       "      <td>2134459_0</td>\n",
       "      <td>41</td>\n",
       "      <td>la tablee des chefs</td>\n",
       "      <td>611690</td>\n",
       "      <td>611690.0</td>\n",
       "      <td>611510</td>\n",
       "      <td>0*</td>\n",
       "      <td>providing workshops, classes, and camps in the...</td>\n",
       "      <td>259</td>\n",
       "      <td>6116</td>\n",
       "    </tr>\n",
       "    <tr>\n",
       "      <th>168</th>\n",
       "      <td>2134459_0</td>\n",
       "      <td>25</td>\n",
       "      <td>la tablee des chefs</td>\n",
       "      <td>458114</td>\n",
       "      <td>458114.0</td>\n",
       "      <td>458119</td>\n",
       "      <td>0**</td>\n",
       "      <td>casual clothing and t-shirts</td>\n",
       "      <td>55</td>\n",
       "      <td>3152</td>\n",
       "    </tr>\n",
       "    <tr>\n",
       "      <th>169</th>\n",
       "      <td>2134459_0</td>\n",
       "      <td>43</td>\n",
       "      <td>la tablee des chefs</td>\n",
       "      <td>624210</td>\n",
       "      <td>624210.0</td>\n",
       "      <td>624210</td>\n",
       "      <td>1</td>\n",
       "      <td>providing food to charitable organizations for...</td>\n",
       "      <td>276</td>\n",
       "      <td>6242</td>\n",
       "    </tr>\n",
       "  </tbody>\n",
       "</table>\n",
       "</div>"
      ],
      "text/plain": [
       "    UNIQUE_FILE_NUMBER  NICE_CLASS_CODE       LEGAL_NAME_UPD  \\\n",
       "160          2134459_0                8  la tablee des chefs   \n",
       "161          2134459_0               35  la tablee des chefs   \n",
       "162          2134459_0               16  la tablee des chefs   \n",
       "163          2134459_0               36  la tablee des chefs   \n",
       "164          2134459_0               18  la tablee des chefs   \n",
       "165          2134459_0               39  la tablee des chefs   \n",
       "166          2134459_0               21  la tablee des chefs   \n",
       "167          2134459_0               41  la tablee des chefs   \n",
       "168          2134459_0               25  la tablee des chefs   \n",
       "169          2134459_0               43  la tablee des chefs   \n",
       "\n",
       "    NAICS Marianne (multi)  NAICS Marianne NAICS Sebastien  IND  \\\n",
       "160                 455212        455212.0          332210    0   \n",
       "161                    NaN             NaN          624210  NaN   \n",
       "162                    NaN             NaN          513130  NaN   \n",
       "163                    NaN             NaN          813210  NaN   \n",
       "164                    NaN             NaN          322220  NaN   \n",
       "165                    NaN             NaN          624210  NaN   \n",
       "166                 455212        455212.0          332210    0   \n",
       "167                 611690        611690.0          611510   0*   \n",
       "168                 458114        458114.0          458119  0**   \n",
       "169                 624210        624210.0          624210    1   \n",
       "\n",
       "                                                  TEXT  \\\n",
       "160  kitchen knives; kitchen mandolines; scissors f...   \n",
       "161  food recovery services, such as, managing logi...   \n",
       "162       cookbooks; paper bags; plastic shopping bags   \n",
       "163                   charitable fund raising services   \n",
       "164                   grocery tote bags; shopping bags   \n",
       "165  food brokerage services, such as, acting as a ...   \n",
       "166  cookware; chopping boards for kitchen use; gra...   \n",
       "167  providing workshops, classes, and camps in the...   \n",
       "168                       casual clothing and t-shirts   \n",
       "169  providing food to charitable organizations for...   \n",
       "\n",
       "     industry_group_label_pred  industry_group_pred  \n",
       "160                         87                 3322  \n",
       "161                        276                 6242  \n",
       "162                         64                 3222  \n",
       "163                        303                 8132  \n",
       "164                        174                 4594  \n",
       "165                         17                 1152  \n",
       "166                        249                 5617  \n",
       "167                        259                 6116  \n",
       "168                         55                 3152  \n",
       "169                        276                 6242  "
      ]
     },
     "execution_count": 65,
     "metadata": {},
     "output_type": "execute_result"
    }
   ],
   "source": [
    "Sample_TM_800_Unique_Files[160:170]"
   ]
  },
  {
   "cell_type": "code",
   "execution_count": null,
   "metadata": {},
   "outputs": [],
   "source": [
    "15,19,23,27*,"
   ]
  },
  {
   "cell_type": "code",
   "execution_count": 58,
   "metadata": {},
   "outputs": [
    {
     "data": {
      "text/plain": [
       "'promotion of the planting of trees and contribution to or completion of similar environmental remediation and stewardship projects by individuals and companies; social impact and remediation auditing services, namely auditing the planting of trees and contribution to or completion of similar environmental remediation and social impact projects offered in conjunction with the sales of products and services of others; social impact and remediation tracking and reporting services, namely tracking the status and completion of the planting of trees and contribution to or completion of similar environmental remediation and social impact projects and making the tracking information available through software or web site interfaces;'"
      ]
     },
     "execution_count": 58,
     "metadata": {},
     "output_type": "execute_result"
    }
   ],
   "source": [
    "Sample_TM_800_Unique_Files['TEXT'][15]"
   ]
  },
  {
   "cell_type": "code",
   "execution_count": 64,
   "metadata": {
    "scrolled": true
   },
   "outputs": [
    {
     "name": "stdout",
     "output_type": "stream",
     "text": [
      "This Canadian industry comprises establishments primarily engaged in planning and designing the construction of residential, institutional, leisure, commercial and industrial buildings and other structures by applying knowledge of design, construction procedures, zoning regulations, building codes and building materials.\n",
      "This Canadian industry comprises establishments primarily engaged in planning, designing and administering the development of land areas for projects such as parks and other recreational areas, airports, highways, hospitals, schools, land subdivisions, and commercial, industrial and residential areas by applying knowledge of land characteristics, location of buildings and structures, use of land areas, and design of landscape projects.\n",
      "This Canadian industry comprises establishments primarily engaged in applying principles of engineering in the design, development and utilization of machines, materials, instruments, structures, processes and systems.\n",
      "This Canadian industry comprises establishments primarily engaged in drawing detailed layouts, plans and illustrations of buildings, structures, systems or components from engineering and architectural specifications.\n",
      "This Canadian industry comprises establishments primarily engaged in providing building inspection services. These establishments typically evaluate all aspects of the building structure and component systems and prepare a report on the physical condition of the property, generally for buyers or others involved in real estate transactions.\n",
      "This Canadian industry comprises establishments primarily engaged in gathering, interpreting and mapping geophysical data. These establishments often specialize in locating and measuring the extent of subsurface resources, such as oil, gas and minerals.\n",
      "This Canadian industry comprises establishments primarily engaged in providing surveying and mapping services of the surface of the earth, including the sea floor. These services may include surveying and mapping of areas above or below the surface of the earth, such as the creation of view easements or segregating rights in parcels of land by creating underground utility easements.\n",
      "This Canadian industry comprises establishments primarily engaged in providing physical, chemical and other analytical testing services.\n"
     ]
    }
   ],
   "source": [
    "IG = 5413\n",
    "for i in range(len(NAICS_2022[NAICS_2022.INDUSTRY_GROUP == IG]['Class definition'].reset_index(drop = True))):\n",
    "    print(NAICS_2022[NAICS_2022.INDUSTRY_GROUP == IG]['Class definition'].reset_index(drop = True)[i])"
   ]
  },
  {
   "cell_type": "code",
   "execution_count": 63,
   "metadata": {},
   "outputs": [
    {
     "name": "stdout",
     "output_type": "stream",
     "text": [
      "Architectural services\n",
      "Landscape architectural services\n",
      "Engineering services\n",
      "Drafting services\n",
      "Building inspection services\n",
      "Geophysical surveying and mapping services\n",
      "Surveying and mapping (except geophysical) services\n",
      "Testing laboratories\n"
     ]
    }
   ],
   "source": [
    "for i in range(len(NAICS_2022[NAICS_2022.INDUSTRY_GROUP == IG]['Class title'].reset_index(drop = True))):\n",
    "    print(NAICS_2022[NAICS_2022.INDUSTRY_GROUP == IG]['Class title'].reset_index(drop = True)[i])"
   ]
  },
  {
   "cell_type": "code",
   "execution_count": 60,
   "metadata": {
    "scrolled": true
   },
   "outputs": [
    {
     "name": "stdout",
     "output_type": "stream",
     "text": [
      "['architects (except landscape), offices of', ' architectural consultants (except landscape)', ' architectural design services and advice', ' buildings and structures, architectural design services (except landscape)']\n",
      "['city, town or urban planning services (except engineers)', ' garden planning services', ' industrial development planning service (i.e., urban planning)', ' land use planning services', ' landscape planning services', ' offices of landscape architects', ' recreational area planning and designing services (e.g., ski, golf course, waterparks)', ' waterpark designing and planning']\n",
      "['acoustical engineering consulting and design services', ' aeronautical design services', ' boat engineering designing services', ' chemical engineering services', ' civil engineering services', ' combustion and heating engineering consultants', ' construction engineering services', ' consulting engineering services', ' electrical and electronic engineering services', ' electrical engineering services', ' electronic engineering services', ' engineering design services', ' engineers, private practice', ' environmental engineering services', ' erosion control engineering services', ' forestry consultants (own account engineering)', ' geological engineering services', ' geophysical engineering services', ' industrial engineering services', ' logging engineering services', ' marine engineering services', ' mechanical engineering services', ' mining engineering services', ' office of engineers', ' petroleum engineering services', ' provision of advice, preparation of feasibility studies, preparation of preliminary and final plans and designs, provision of technical services during the construction or installation phase, inspection and evaluation of engineering projects, and related services', ' solar energy units (designing)', ' telecommunications engineering consulting', ' traffic consultants, engineering services', ' transformer engineering services', ' transportation consultants (consulting engineering)']\n",
      "['blueprint drafting services', ' drafting services (draftmen)', ' printed circuitry graphic layout']\n",
      "['energy efficiency inspection services', ' fire protection inspection services', ' home inspection services']\n",
      "['aerial geophysical surveying and mapping', ' conducting surveys for engineering purposes', ' electrical geophysical surveying services', ' electromagnetic geophysical surveying services', ' geological surveying services', ' geophysical mapping and surveying services', ' gravity geophysical surveying services', ' magnetic geophysical surveying services', ' oceanic surveying, geophysical', ' oil gas field seismographic surveys', ' radioactive geophysical surveying services', ' remote sensing, geophysical surveying services', ' seismic brokerage consultant', ' seismic brokerage services', ' seismic geophysical surveying services', ' seismic surveys, oil and gas field, on a contract basis']\n",
      "['aerial map making, using specialized equipment', ' aerial surveying (except geophysical), using specialized equipment', ' aeronautical charting services', ' aerotriangulation services', ' cadastral surveying and mapping services', ' cartographic surveying services', ' construction surveying services', ' control surveying services', ' geodesy and global positioning system (gps) surveying', ' geodetic (geodesy) surveying services', ' geographic information system (gis) base mapping and quality control services', ' geospatial mapping services', ' hydrographic mapping and surveying services', ' land surveying services (except geophysical)', ' magnetometric survey services (except geophysical)', ' map drafting services', ' mapmaking (except geophysical) services', ' mapping services, topographic', ' oceanic surveying (except geophysical) services', ' orthophoto mapping services', ' photogrammetric mapping services', ' seafloor imaging services', ' surveying and mapping services (except geophysical)', ' thematic mapping services', ' topographic mapping and surveying services']\n",
      "['acoustics testing services', ' assaying services', ' automobile proving and testing ground', ' biological testing (except clinical and veterinary)', ' calibration and certification services', ' cannabis quality testing laboratories', ' drill tool inspection, service', ' electrical testing laboratory', ' environmental laboratory testing services', ' film badge testing services', \" fire insurance underwriters' laboratories\", ' food testing laboratory', ' forensic laboratories (except medical)', ' gas pipeline testing services (except aerial)', ' gemologist services', ' geotechnical testing laboratory', ' hydrostatic testing laboratories', ' industrial testing laboratories', ' laboratories, product testing', ' laboratory testing service (except clinical and veterinary)', ' mechanical testing, laboratories', ' metallurgical testing laboratories', ' non destructive testing services', ' pipeline and related facilities inspection services (except visual)', ' police laboratories', ' pollution testing service (except automotive emissions testing)', ' pressure testing lines on site, service', ' product testing services', ' production equipment inspection service', ' radiation dosimetry laboratories', ' radiation testing services', ' radiographic testing services', ' radon testing services', ' recreational watercraft safety inspection', ' seed testing laboratories', ' soil testing services', ' testing laboratory (except medical or dental)', ' testing of activities in a laboratory or on-site', ' thermal testing, laboratories', ' thermography services (testing for heat loss in buildings)', ' underground utility lines (e.g., telephone, cablevision, hydro), locating on contract', ' vibration testing services', ' welding inspection service', ' x-ray inspection service']\n"
     ]
    }
   ],
   "source": [
    "for i in range(len(NAICS_2022[NAICS_2022.INDUSTRY_GROUP == IG]['EXAMPLE_SPLIT'].reset_index(drop = True))):\n",
    "    print(NAICS_2022[NAICS_2022.INDUSTRY_GROUP == IG]['EXAMPLE_SPLIT'].reset_index(drop = True)[i])\n"
   ]
  },
  {
   "cell_type": "code",
   "execution_count": 66,
   "metadata": {},
   "outputs": [],
   "source": [
    "Sample_TM_800_Unique_Files.to_csv('Sample_TM_800_Unique_Files_BERT_PREDICT.csv', index=False)"
   ]
  },
  {
   "cell_type": "markdown",
   "metadata": {},
   "source": [
    "# Predicting top three classes"
   ]
  },
  {
   "cell_type": "code",
   "execution_count": 119,
   "metadata": {},
   "outputs": [],
   "source": [
    "model.eval()\n",
    "test_preds_top3 = []\n",
    "\n",
    "# Specify the number of top classes you want (e.g., 3)\n",
    "top_k = 3\n",
    "\n",
    "# Iterate through the test DataLoader\n",
    "with torch.no_grad():\n",
    "    for batch in test_dataloader:\n",
    "        input_ids, token_type_ids, attention_mask = batch  # adjust based on your input features\n",
    "\n",
    "        # Make predictions using the model\n",
    "        outputs = model(input_ids, token_type_ids=token_type_ids, attention_mask=attention_mask)\n",
    "        logits = outputs.logits\n",
    "\n",
    "        # Assuming a classification task, get top k predicted class labels\n",
    "        _, topk_preds = torch.topk(logits, k=top_k, dim=1)\n",
    "        topk_preds = topk_preds.cpu().numpy()\n",
    "        test_preds_top3.extend(topk_preds)"
   ]
  },
  {
   "cell_type": "code",
   "execution_count": 120,
   "metadata": {},
   "outputs": [],
   "source": [
    "Sample_TM_800_Unique_Files['industry_group_label_pred_top3'] = test_preds_top3"
   ]
  },
  {
   "cell_type": "code",
   "execution_count": 122,
   "metadata": {},
   "outputs": [],
   "source": [
    "def list_labeld_to_IG(labels):\n",
    "    return [mapping_IG_reverse[s] for s in labels]\n",
    "\n",
    "Sample_TM_800_Unique_Files['industry_group_pred_top3'] = Sample_TM_800_Unique_Files['industry_group_label_pred_top3'].apply(lambda x: list_labeld_to_IG(x))"
   ]
  },
  {
   "cell_type": "code",
   "execution_count": 189,
   "metadata": {},
   "outputs": [
    {
     "data": {
      "text/html": [
       "<div>\n",
       "<style scoped>\n",
       "    .dataframe tbody tr th:only-of-type {\n",
       "        vertical-align: middle;\n",
       "    }\n",
       "\n",
       "    .dataframe tbody tr th {\n",
       "        vertical-align: top;\n",
       "    }\n",
       "\n",
       "    .dataframe thead th {\n",
       "        text-align: right;\n",
       "    }\n",
       "</style>\n",
       "<table border=\"1\" class=\"dataframe\">\n",
       "  <thead>\n",
       "    <tr style=\"text-align: right;\">\n",
       "      <th></th>\n",
       "      <th>UNIQUE_FILE_NUMBER</th>\n",
       "      <th>NICE_CLASS_CODE</th>\n",
       "      <th>LEGAL_NAME_UPD</th>\n",
       "      <th>NAICS Marianne (multi)</th>\n",
       "      <th>NAICS Marianne</th>\n",
       "      <th>NAICS Sebastien</th>\n",
       "      <th>IND</th>\n",
       "      <th>TEXT</th>\n",
       "      <th>industry_group_label_pred</th>\n",
       "      <th>industry_group_pred</th>\n",
       "      <th>industry_group_label_pred_top3</th>\n",
       "      <th>industry_group_pred_top3</th>\n",
       "    </tr>\n",
       "  </thead>\n",
       "  <tbody>\n",
       "    <tr>\n",
       "      <th>170</th>\n",
       "      <td>2134459_0</td>\n",
       "      <td>29</td>\n",
       "      <td>la tablee des chefs</td>\n",
       "      <td>NaN</td>\n",
       "      <td>NaN</td>\n",
       "      <td>311990</td>\n",
       "      <td>NaN</td>\n",
       "      <td>prepared meals; preserved foods, including pre...</td>\n",
       "      <td>40</td>\n",
       "      <td>3114</td>\n",
       "      <td>[40, 43, 44]</td>\n",
       "      <td>[3114, 3117, 3118]</td>\n",
       "    </tr>\n",
       "    <tr>\n",
       "      <th>171</th>\n",
       "      <td>2134658_0</td>\n",
       "      <td>9</td>\n",
       "      <td>legacy enterprises ltd</td>\n",
       "      <td>459210</td>\n",
       "      <td>459210.0</td>\n",
       "      <td>516219</td>\n",
       "      <td>0</td>\n",
       "      <td>electronic books; virtual goods, namely, downl...</td>\n",
       "      <td>214</td>\n",
       "      <td>5192</td>\n",
       "      <td>[214, 205, 213]</td>\n",
       "      <td>[5192, 5122, 5182]</td>\n",
       "    </tr>\n",
       "    <tr>\n",
       "      <th>172</th>\n",
       "      <td>2134658_0</td>\n",
       "      <td>41</td>\n",
       "      <td>legacy enterprises ltd</td>\n",
       "      <td>513130</td>\n",
       "      <td>513130.0</td>\n",
       "      <td>516219</td>\n",
       "      <td>0*</td>\n",
       "      <td>publication of electronic books, journals, art...</td>\n",
       "      <td>214</td>\n",
       "      <td>5192</td>\n",
       "      <td>[214, 206, 301]</td>\n",
       "      <td>[5192, 5131, 8129]</td>\n",
       "    </tr>\n",
       "    <tr>\n",
       "      <th>173</th>\n",
       "      <td>2134658_0</td>\n",
       "      <td>16</td>\n",
       "      <td>legacy enterprises ltd</td>\n",
       "      <td>513130</td>\n",
       "      <td>513130.0</td>\n",
       "      <td>459210</td>\n",
       "      <td>0</td>\n",
       "      <td>printed publications, namely, books, magazines...</td>\n",
       "      <td>206</td>\n",
       "      <td>5131</td>\n",
       "      <td>[206, 65, 240]</td>\n",
       "      <td>[5131, 3231, 5418]</td>\n",
       "    </tr>\n",
       "    <tr>\n",
       "      <th>174</th>\n",
       "      <td>2134658_0</td>\n",
       "      <td>25</td>\n",
       "      <td>legacy enterprises ltd</td>\n",
       "      <td>458114</td>\n",
       "      <td>458114.0</td>\n",
       "      <td>458119</td>\n",
       "      <td>0**</td>\n",
       "      <td>clothing, namely t-shirts, sweatshirts, sweat ...</td>\n",
       "      <td>55</td>\n",
       "      <td>3152</td>\n",
       "      <td>[55, 56, 51]</td>\n",
       "      <td>[3152, 3159, 3133]</td>\n",
       "    </tr>\n",
       "    <tr>\n",
       "      <th>175</th>\n",
       "      <td>2152413_0</td>\n",
       "      <td>36</td>\n",
       "      <td>magenta capital corporation</td>\n",
       "      <td>522310</td>\n",
       "      <td>522310.0</td>\n",
       "      <td>522310</td>\n",
       "      <td>1</td>\n",
       "      <td>Financial services, namely mortgage brokering ...</td>\n",
       "      <td>217</td>\n",
       "      <td>5223</td>\n",
       "      <td>[217, 216, 233]</td>\n",
       "      <td>[5223, 5222, 5411]</td>\n",
       "    </tr>\n",
       "    <tr>\n",
       "      <th>176</th>\n",
       "      <td>2134524_0</td>\n",
       "      <td>12</td>\n",
       "      <td>mitsubishi motor sales of canada inc</td>\n",
       "      <td>441330</td>\n",
       "      <td>441330.0</td>\n",
       "      <td>336110</td>\n",
       "      <td>0</td>\n",
       "      <td>Automobiles; automobile parts; braking systems...</td>\n",
       "      <td>114</td>\n",
       "      <td>3363</td>\n",
       "      <td>[114, 294, 296]</td>\n",
       "      <td>[3363, 8111, 8113]</td>\n",
       "    </tr>\n",
       "    <tr>\n",
       "      <th>177</th>\n",
       "      <td>2134524_0</td>\n",
       "      <td>35</td>\n",
       "      <td>mitsubishi motor sales of canada inc</td>\n",
       "      <td>441110</td>\n",
       "      <td>441110.0</td>\n",
       "      <td>441110</td>\n",
       "      <td>1</td>\n",
       "      <td>Automobile dealership services.</td>\n",
       "      <td>155</td>\n",
       "      <td>4413</td>\n",
       "      <td>[155, 166, 154]</td>\n",
       "      <td>[4413, 4571, 4412]</td>\n",
       "    </tr>\n",
       "    <tr>\n",
       "      <th>178</th>\n",
       "      <td>2134524_0</td>\n",
       "      <td>36</td>\n",
       "      <td>mitsubishi motor sales of canada inc</td>\n",
       "      <td>NaN</td>\n",
       "      <td>NaN</td>\n",
       "      <td>441110</td>\n",
       "      <td>NaN</td>\n",
       "      <td>Motor vehicle services including warranty serv...</td>\n",
       "      <td>294</td>\n",
       "      <td>8111</td>\n",
       "      <td>[294, 197, 155]</td>\n",
       "      <td>[8111, 4884, 4413]</td>\n",
       "    </tr>\n",
       "    <tr>\n",
       "      <th>179</th>\n",
       "      <td>2134524_0</td>\n",
       "      <td>45</td>\n",
       "      <td>mitsubishi motor sales of canada inc</td>\n",
       "      <td>NaN</td>\n",
       "      <td>NaN</td>\n",
       "      <td>441110</td>\n",
       "      <td>NaN</td>\n",
       "      <td>Providing information about automobiles via a ...</td>\n",
       "      <td>214</td>\n",
       "      <td>5192</td>\n",
       "      <td>[214, 213, 209]</td>\n",
       "      <td>[5192, 5182, 5162]</td>\n",
       "    </tr>\n",
       "  </tbody>\n",
       "</table>\n",
       "</div>"
      ],
      "text/plain": [
       "    UNIQUE_FILE_NUMBER  NICE_CLASS_CODE                        LEGAL_NAME_UPD  \\\n",
       "170          2134459_0               29                   la tablee des chefs   \n",
       "171          2134658_0                9                legacy enterprises ltd   \n",
       "172          2134658_0               41                legacy enterprises ltd   \n",
       "173          2134658_0               16                legacy enterprises ltd   \n",
       "174          2134658_0               25                legacy enterprises ltd   \n",
       "175          2152413_0               36           magenta capital corporation   \n",
       "176          2134524_0               12  mitsubishi motor sales of canada inc   \n",
       "177          2134524_0               35  mitsubishi motor sales of canada inc   \n",
       "178          2134524_0               36  mitsubishi motor sales of canada inc   \n",
       "179          2134524_0               45  mitsubishi motor sales of canada inc   \n",
       "\n",
       "    NAICS Marianne (multi)  NAICS Marianne NAICS Sebastien  IND  \\\n",
       "170                    NaN             NaN          311990  NaN   \n",
       "171                 459210        459210.0          516219    0   \n",
       "172                 513130        513130.0          516219   0*   \n",
       "173                 513130        513130.0          459210    0   \n",
       "174                 458114        458114.0          458119  0**   \n",
       "175                 522310        522310.0          522310    1   \n",
       "176                 441330        441330.0          336110    0   \n",
       "177                 441110        441110.0          441110    1   \n",
       "178                    NaN             NaN          441110  NaN   \n",
       "179                    NaN             NaN          441110  NaN   \n",
       "\n",
       "                                                  TEXT  \\\n",
       "170  prepared meals; preserved foods, including pre...   \n",
       "171  electronic books; virtual goods, namely, downl...   \n",
       "172  publication of electronic books, journals, art...   \n",
       "173  printed publications, namely, books, magazines...   \n",
       "174  clothing, namely t-shirts, sweatshirts, sweat ...   \n",
       "175  Financial services, namely mortgage brokering ...   \n",
       "176  Automobiles; automobile parts; braking systems...   \n",
       "177                    Automobile dealership services.   \n",
       "178  Motor vehicle services including warranty serv...   \n",
       "179  Providing information about automobiles via a ...   \n",
       "\n",
       "     industry_group_label_pred  industry_group_pred  \\\n",
       "170                         40                 3114   \n",
       "171                        214                 5192   \n",
       "172                        214                 5192   \n",
       "173                        206                 5131   \n",
       "174                         55                 3152   \n",
       "175                        217                 5223   \n",
       "176                        114                 3363   \n",
       "177                        155                 4413   \n",
       "178                        294                 8111   \n",
       "179                        214                 5192   \n",
       "\n",
       "    industry_group_label_pred_top3 industry_group_pred_top3  \n",
       "170                   [40, 43, 44]       [3114, 3117, 3118]  \n",
       "171                [214, 205, 213]       [5192, 5122, 5182]  \n",
       "172                [214, 206, 301]       [5192, 5131, 8129]  \n",
       "173                 [206, 65, 240]       [5131, 3231, 5418]  \n",
       "174                   [55, 56, 51]       [3152, 3159, 3133]  \n",
       "175                [217, 216, 233]       [5223, 5222, 5411]  \n",
       "176                [114, 294, 296]       [3363, 8111, 8113]  \n",
       "177                [155, 166, 154]       [4413, 4571, 4412]  \n",
       "178                [294, 197, 155]       [8111, 4884, 4413]  \n",
       "179                [214, 213, 209]       [5192, 5182, 5162]  "
      ]
     },
     "execution_count": 189,
     "metadata": {},
     "output_type": "execute_result"
    }
   ],
   "source": [
    "Sample_TM_800_Unique_Files[170:180]"
   ]
  },
  {
   "cell_type": "code",
   "execution_count": 209,
   "metadata": {
    "scrolled": true
   },
   "outputs": [
    {
     "data": {
      "text/plain": [
       "'Motor vehicle services including warranty services, financing and leasing services and repair services.'"
      ]
     },
     "execution_count": 209,
     "metadata": {},
     "output_type": "execute_result"
    }
   ],
   "source": [
    "Sample_TM_800_Unique_Files['TEXT'][176]"
   ]
  },
  {
   "cell_type": "code",
   "execution_count": 210,
   "metadata": {
    "scrolled": true
   },
   "outputs": [
    {
     "data": {
      "text/plain": [
       "'This Canadian industry comprises establishments primarily engaged in providing a range of mechanical and electrical repair and maintenance services for motor vehicles, such as engine repair and maintenance, exhaust system replacement, transmission repair and electrical system repair.'"
      ]
     },
     "execution_count": 210,
     "metadata": {},
     "output_type": "execute_result"
    }
   ],
   "source": [
    "NAICS_2022[NAICS_2022.INDUSTRY_GROUP == 8111]['Class definition'].reset_index(drop = True)[0]"
   ]
  },
  {
   "cell_type": "code",
   "execution_count": 217,
   "metadata": {},
   "outputs": [
    {
     "data": {
      "text/plain": [
       "'This Canadian industry comprises establishments primarily engaged in manufacturing soap and other cleaning compounds.'"
      ]
     },
     "execution_count": 217,
     "metadata": {},
     "output_type": "execute_result"
    }
   ],
   "source": [
    "NAICS_2022[NAICS_2022.INDUSTRY_GROUP == 3256].reset_index(drop=True)['Class definition'][0]"
   ]
  },
  {
   "cell_type": "markdown",
   "metadata": {},
   "source": [
    "# Prediction of TM datset based on Goods and Services classes"
   ]
  },
  {
   "cell_type": "code",
   "execution_count": 84,
   "metadata": {},
   "outputs": [],
   "source": [
    "Sample_TM_800_Unique_Files_goods_and_services_classes = pd.read_excel('Sample_TM_800_Unique_Files_goods_and_services_classes.xlsx')"
   ]
  },
  {
   "cell_type": "code",
   "execution_count": 86,
   "metadata": {},
   "outputs": [
    {
     "data": {
      "text/plain": [
       "22150"
      ]
     },
     "execution_count": 86,
     "metadata": {},
     "output_type": "execute_result"
    }
   ],
   "source": [
    "len(Sample_TM_800_Unique_Files_goods_and_services_classes)"
   ]
  },
  {
   "cell_type": "code",
   "execution_count": 92,
   "metadata": {},
   "outputs": [],
   "source": [
    "Sample_TM_800_Unique_Files_goods_and_services_classes = Sample_TM_800_Unique_Files_goods_and_services_classes.dropna(subset=['TEXT_SPLIT']).reset_index(drop=True)"
   ]
  },
  {
   "cell_type": "code",
   "execution_count": 93,
   "metadata": {},
   "outputs": [
    {
     "data": {
      "text/plain": [
       "22142"
      ]
     },
     "execution_count": 93,
     "metadata": {},
     "output_type": "execute_result"
    }
   ],
   "source": [
    "len(Sample_TM_800_Unique_Files_goods_and_services_classes)"
   ]
  },
  {
   "cell_type": "code",
   "execution_count": 94,
   "metadata": {},
   "outputs": [],
   "source": [
    "texts_GS = Sample_TM_800_Unique_Files_goods_and_services_classes['TEXT_SPLIT'].tolist()\n",
    "tokenizer = AutoTokenizer.from_pretrained('bert-base-uncased')\n",
    "test_encodings = tokenizer(texts_GS, truncation=True, padding=True, return_tensors='pt')"
   ]
  },
  {
   "cell_type": "code",
   "execution_count": 95,
   "metadata": {},
   "outputs": [],
   "source": [
    "device = torch.device('cuda' if torch.cuda.is_available() else 'cpu')\n",
    "test_encodings = {key: val.to(device) for key, val in test_encodings.items()}"
   ]
  },
  {
   "cell_type": "code",
   "execution_count": 97,
   "metadata": {},
   "outputs": [],
   "source": [
    "test_dataset = TensorDataset(test_encodings['input_ids'], \n",
    "                              test_encodings['token_type_ids'], \n",
    "                              test_encodings['attention_mask']\n",
    "                              )\n",
    "\n",
    "batch_size = 16\n",
    "\n",
    "# Create DataLoader\n",
    "test_dataloader = DataLoader(test_dataset, batch_size=batch_size, shuffle=False)\n",
    "\n"
   ]
  },
  {
   "cell_type": "code",
   "execution_count": 99,
   "metadata": {},
   "outputs": [],
   "source": [
    "model.eval()\n",
    "test_preds_GS = []\n",
    "\n",
    "# Iterate through the test DataLoader\n",
    "with torch.no_grad():\n",
    "    for batch in test_dataloader:\n",
    "        input_ids, token_type_ids, attention_mask = batch  # adjust based on your input features\n",
    "\n",
    "        # Make predictions using the model\n",
    "        outputs = model(input_ids, token_type_ids=token_type_ids, attention_mask=attention_mask)\n",
    "        logits = outputs.logits\n",
    "\n",
    "        # Assuming a classification task, get predicted class labels\n",
    "        preds = torch.argmax(logits, dim=1).cpu().numpy()\n",
    "        test_preds_GS.extend(preds)"
   ]
  },
  {
   "cell_type": "code",
   "execution_count": 100,
   "metadata": {},
   "outputs": [],
   "source": [
    "Sample_TM_800_Unique_Files_goods_and_services_classes['industry_group_label_pred'] = test_preds_GS"
   ]
  },
  {
   "cell_type": "code",
   "execution_count": 101,
   "metadata": {},
   "outputs": [],
   "source": [
    "Sample_TM_800_Unique_Files_goods_and_services_classes['industry_group_pred'] = Sample_TM_800_Unique_Files_goods_and_services_classes['industry_group_label_pred'].apply(map_values)"
   ]
  },
  {
   "cell_type": "code",
   "execution_count": 103,
   "metadata": {},
   "outputs": [
    {
     "data": {
      "text/html": [
       "<div>\n",
       "<style scoped>\n",
       "    .dataframe tbody tr th:only-of-type {\n",
       "        vertical-align: middle;\n",
       "    }\n",
       "\n",
       "    .dataframe tbody tr th {\n",
       "        vertical-align: top;\n",
       "    }\n",
       "\n",
       "    .dataframe thead th {\n",
       "        text-align: right;\n",
       "    }\n",
       "</style>\n",
       "<table border=\"1\" class=\"dataframe\">\n",
       "  <thead>\n",
       "    <tr style=\"text-align: right;\">\n",
       "      <th></th>\n",
       "      <th>UNIQUE_FILE_NUMBER</th>\n",
       "      <th>NICE_CLASS_CODE</th>\n",
       "      <th>LEGAL_NAME_UPD</th>\n",
       "      <th>NAICS Marianne (multi)</th>\n",
       "      <th>NAICS Marianne</th>\n",
       "      <th>NAICS Sebastien</th>\n",
       "      <th>IND</th>\n",
       "      <th>TEXT_SPLIT</th>\n",
       "      <th>industry_group_label_pred</th>\n",
       "      <th>industry_group_pred</th>\n",
       "    </tr>\n",
       "  </thead>\n",
       "  <tbody>\n",
       "    <tr>\n",
       "      <th>10</th>\n",
       "      <td>2153878_0</td>\n",
       "      <td>41</td>\n",
       "      <td>911979 alberta ltd</td>\n",
       "      <td>611710*\\n611690</td>\n",
       "      <td>611710.0</td>\n",
       "      <td>621390</td>\n",
       "      <td>0.0</td>\n",
       "      <td>providing information to others in the field ...</td>\n",
       "      <td>264</td>\n",
       "      <td>6214</td>\n",
       "    </tr>\n",
       "    <tr>\n",
       "      <th>11</th>\n",
       "      <td>2153878_0</td>\n",
       "      <td>44</td>\n",
       "      <td>911979 alberta ltd</td>\n",
       "      <td>456110</td>\n",
       "      <td>456110.0</td>\n",
       "      <td>456110</td>\n",
       "      <td>1.0</td>\n",
       "      <td>prescription refill services</td>\n",
       "      <td>301</td>\n",
       "      <td>8129</td>\n",
       "    </tr>\n",
       "    <tr>\n",
       "      <th>12</th>\n",
       "      <td>2153878_0</td>\n",
       "      <td>44</td>\n",
       "      <td>911979 alberta ltd</td>\n",
       "      <td>456110</td>\n",
       "      <td>456110.0</td>\n",
       "      <td>456110</td>\n",
       "      <td>1.0</td>\n",
       "      <td>online prescription refill services</td>\n",
       "      <td>267</td>\n",
       "      <td>6219</td>\n",
       "    </tr>\n",
       "    <tr>\n",
       "      <th>13</th>\n",
       "      <td>2153878_0</td>\n",
       "      <td>44</td>\n",
       "      <td>911979 alberta ltd</td>\n",
       "      <td>812190</td>\n",
       "      <td>812190.0</td>\n",
       "      <td>621390</td>\n",
       "      <td>0.0</td>\n",
       "      <td>consulting services in the field of cannabis ...</td>\n",
       "      <td>238</td>\n",
       "      <td>5416</td>\n",
       "    </tr>\n",
       "    <tr>\n",
       "      <th>14</th>\n",
       "      <td>2166784_0</td>\n",
       "      <td>3</td>\n",
       "      <td>911979 alberta ltd</td>\n",
       "      <td>456110</td>\n",
       "      <td>456110.0</td>\n",
       "      <td>456110</td>\n",
       "      <td>1.0</td>\n",
       "      <td>skin care preparations, namely, soaps, body wa...</td>\n",
       "      <td>72</td>\n",
       "      <td>3256</td>\n",
       "    </tr>\n",
       "    <tr>\n",
       "      <th>15</th>\n",
       "      <td>2166784_0</td>\n",
       "      <td>3</td>\n",
       "      <td>911979 alberta ltd</td>\n",
       "      <td>456110</td>\n",
       "      <td>456110.0</td>\n",
       "      <td>456110</td>\n",
       "      <td>1.0</td>\n",
       "      <td>face wash</td>\n",
       "      <td>298</td>\n",
       "      <td>8121</td>\n",
       "    </tr>\n",
       "    <tr>\n",
       "      <th>16</th>\n",
       "      <td>2166784_0</td>\n",
       "      <td>3</td>\n",
       "      <td>911979 alberta ltd</td>\n",
       "      <td>456110</td>\n",
       "      <td>456110.0</td>\n",
       "      <td>456110</td>\n",
       "      <td>1.0</td>\n",
       "      <td>body scrub</td>\n",
       "      <td>298</td>\n",
       "      <td>8121</td>\n",
       "    </tr>\n",
       "    <tr>\n",
       "      <th>17</th>\n",
       "      <td>2166784_0</td>\n",
       "      <td>3</td>\n",
       "      <td>911979 alberta ltd</td>\n",
       "      <td>456110</td>\n",
       "      <td>456110.0</td>\n",
       "      <td>456110</td>\n",
       "      <td>1.0</td>\n",
       "      <td>cosmetic facial toner</td>\n",
       "      <td>72</td>\n",
       "      <td>3256</td>\n",
       "    </tr>\n",
       "    <tr>\n",
       "      <th>18</th>\n",
       "      <td>2166784_0</td>\n",
       "      <td>3</td>\n",
       "      <td>911979 alberta ltd</td>\n",
       "      <td>456110</td>\n",
       "      <td>456110.0</td>\n",
       "      <td>456110</td>\n",
       "      <td>1.0</td>\n",
       "      <td>hand lotion</td>\n",
       "      <td>298</td>\n",
       "      <td>8121</td>\n",
       "    </tr>\n",
       "    <tr>\n",
       "      <th>19</th>\n",
       "      <td>2166784_0</td>\n",
       "      <td>3</td>\n",
       "      <td>911979 alberta ltd</td>\n",
       "      <td>456110</td>\n",
       "      <td>456110.0</td>\n",
       "      <td>456110</td>\n",
       "      <td>1.0</td>\n",
       "      <td>face cleaning wipes</td>\n",
       "      <td>300</td>\n",
       "      <td>8123</td>\n",
       "    </tr>\n",
       "  </tbody>\n",
       "</table>\n",
       "</div>"
      ],
      "text/plain": [
       "   UNIQUE_FILE_NUMBER  NICE_CLASS_CODE      LEGAL_NAME_UPD  \\\n",
       "10          2153878_0               41  911979 alberta ltd   \n",
       "11          2153878_0               44  911979 alberta ltd   \n",
       "12          2153878_0               44  911979 alberta ltd   \n",
       "13          2153878_0               44  911979 alberta ltd   \n",
       "14          2166784_0                3  911979 alberta ltd   \n",
       "15          2166784_0                3  911979 alberta ltd   \n",
       "16          2166784_0                3  911979 alberta ltd   \n",
       "17          2166784_0                3  911979 alberta ltd   \n",
       "18          2166784_0                3  911979 alberta ltd   \n",
       "19          2166784_0                3  911979 alberta ltd   \n",
       "\n",
       "   NAICS Marianne (multi)  NAICS Marianne  NAICS Sebastien  IND  \\\n",
       "10        611710*\\n611690         611710.0          621390  0.0   \n",
       "11                 456110         456110.0          456110  1.0   \n",
       "12                 456110         456110.0          456110  1.0   \n",
       "13                 812190         812190.0          621390  0.0   \n",
       "14                 456110         456110.0          456110  1.0   \n",
       "15                 456110         456110.0          456110  1.0   \n",
       "16                 456110         456110.0          456110  1.0   \n",
       "17                 456110         456110.0          456110  1.0   \n",
       "18                 456110         456110.0          456110  1.0   \n",
       "19                 456110         456110.0          456110  1.0   \n",
       "\n",
       "                                           TEXT_SPLIT  \\\n",
       "10   providing information to others in the field ...   \n",
       "11                       prescription refill services   \n",
       "12                online prescription refill services   \n",
       "13   consulting services in the field of cannabis ...   \n",
       "14  skin care preparations, namely, soaps, body wa...   \n",
       "15                                          face wash   \n",
       "16                                         body scrub   \n",
       "17                              cosmetic facial toner   \n",
       "18                                        hand lotion   \n",
       "19                                face cleaning wipes   \n",
       "\n",
       "    industry_group_label_pred  industry_group_pred  \n",
       "10                        264                 6214  \n",
       "11                        301                 8129  \n",
       "12                        267                 6219  \n",
       "13                        238                 5416  \n",
       "14                         72                 3256  \n",
       "15                        298                 8121  \n",
       "16                        298                 8121  \n",
       "17                         72                 3256  \n",
       "18                        298                 8121  \n",
       "19                        300                 8123  "
      ]
     },
     "execution_count": 103,
     "metadata": {},
     "output_type": "execute_result"
    }
   ],
   "source": [
    "Sample_TM_800_Unique_Files_goods_and_services_classes[10:20]"
   ]
  },
  {
   "cell_type": "code",
   "execution_count": 108,
   "metadata": {},
   "outputs": [
    {
     "data": {
      "text/html": [
       "<div>\n",
       "<style scoped>\n",
       "    .dataframe tbody tr th:only-of-type {\n",
       "        vertical-align: middle;\n",
       "    }\n",
       "\n",
       "    .dataframe tbody tr th {\n",
       "        vertical-align: top;\n",
       "    }\n",
       "\n",
       "    .dataframe thead th {\n",
       "        text-align: right;\n",
       "    }\n",
       "</style>\n",
       "<table border=\"1\" class=\"dataframe\">\n",
       "  <thead>\n",
       "    <tr style=\"text-align: right;\">\n",
       "      <th></th>\n",
       "      <th>Level</th>\n",
       "      <th>Hierarchical structure</th>\n",
       "      <th>Code</th>\n",
       "      <th>Parent</th>\n",
       "      <th>Class title</th>\n",
       "      <th>Superscript</th>\n",
       "      <th>Class definition</th>\n",
       "      <th>EXAMPLE</th>\n",
       "      <th>INDUSTRY_GROUP</th>\n",
       "      <th>EXAMPLE_SPLIT</th>\n",
       "    </tr>\n",
       "  </thead>\n",
       "  <tbody>\n",
       "    <tr>\n",
       "      <th>877</th>\n",
       "      <td>5</td>\n",
       "      <td>Canadian industry</td>\n",
       "      <td>812910</td>\n",
       "      <td>81291</td>\n",
       "      <td>Pet care (except veterinary) services</td>\n",
       "      <td>US</td>\n",
       "      <td>This Canadian industry comprises establishment...</td>\n",
       "      <td>animal shelters; boarding kennel service, pet...</td>\n",
       "      <td>8129</td>\n",
       "      <td>[animal shelters,  boarding kennel service, pe...</td>\n",
       "    </tr>\n",
       "    <tr>\n",
       "      <th>878</th>\n",
       "      <td>5</td>\n",
       "      <td>Canadian industry</td>\n",
       "      <td>812921</td>\n",
       "      <td>81292</td>\n",
       "      <td>Photo finishing laboratories (except one-hour)</td>\n",
       "      <td>US</td>\n",
       "      <td>This Canadian industry comprises establishment...</td>\n",
       "      <td>developing and printing of films (except for ...</td>\n",
       "      <td>8129</td>\n",
       "      <td>[developing and printing of films (except for ...</td>\n",
       "    </tr>\n",
       "    <tr>\n",
       "      <th>879</th>\n",
       "      <td>5</td>\n",
       "      <td>Canadian industry</td>\n",
       "      <td>812922</td>\n",
       "      <td>81292</td>\n",
       "      <td>One-hour photo finishing</td>\n",
       "      <td>US</td>\n",
       "      <td>This Canadian industry comprises establishment...</td>\n",
       "      <td>digital photo printing (including self-serve)...</td>\n",
       "      <td>8129</td>\n",
       "      <td>[digital photo printing (including self-serve)...</td>\n",
       "    </tr>\n",
       "    <tr>\n",
       "      <th>880</th>\n",
       "      <td>5</td>\n",
       "      <td>Canadian industry</td>\n",
       "      <td>812930</td>\n",
       "      <td>81293</td>\n",
       "      <td>Parking lots and garages</td>\n",
       "      <td>US</td>\n",
       "      <td>This Canadian industry comprises establishment...</td>\n",
       "      <td>valet parking services;</td>\n",
       "      <td>8129</td>\n",
       "      <td>[valet parking services]</td>\n",
       "    </tr>\n",
       "    <tr>\n",
       "      <th>881</th>\n",
       "      <td>5</td>\n",
       "      <td>Canadian industry</td>\n",
       "      <td>812990</td>\n",
       "      <td>81299</td>\n",
       "      <td>All other personal services</td>\n",
       "      <td>US</td>\n",
       "      <td>This Canadian industry comprises establishment...</td>\n",
       "      <td>bail bonding services; balloon-o-gram, servic...</td>\n",
       "      <td>8129</td>\n",
       "      <td>[bail bonding services,  balloon-o-gram, servi...</td>\n",
       "    </tr>\n",
       "  </tbody>\n",
       "</table>\n",
       "</div>"
      ],
      "text/plain": [
       "     Level Hierarchical structure    Code  Parent   \\\n",
       "877      5      Canadian industry  812910    81291   \n",
       "878      5      Canadian industry  812921    81292   \n",
       "879      5      Canadian industry  812922    81292   \n",
       "880      5      Canadian industry  812930    81293   \n",
       "881      5      Canadian industry  812990    81299   \n",
       "\n",
       "                                        Class title Superscript  \\\n",
       "877           Pet care (except veterinary) services          US   \n",
       "878  Photo finishing laboratories (except one-hour)          US   \n",
       "879                        One-hour photo finishing          US   \n",
       "880                        Parking lots and garages          US   \n",
       "881                     All other personal services          US   \n",
       "\n",
       "                                      Class definition  \\\n",
       "877  This Canadian industry comprises establishment...   \n",
       "878  This Canadian industry comprises establishment...   \n",
       "879  This Canadian industry comprises establishment...   \n",
       "880  This Canadian industry comprises establishment...   \n",
       "881  This Canadian industry comprises establishment...   \n",
       "\n",
       "                                               EXAMPLE  INDUSTRY_GROUP  \\\n",
       "877   animal shelters; boarding kennel service, pet...            8129   \n",
       "878   developing and printing of films (except for ...            8129   \n",
       "879   digital photo printing (including self-serve)...            8129   \n",
       "880                           valet parking services;             8129   \n",
       "881   bail bonding services; balloon-o-gram, servic...            8129   \n",
       "\n",
       "                                         EXAMPLE_SPLIT  \n",
       "877  [animal shelters,  boarding kennel service, pe...  \n",
       "878  [developing and printing of films (except for ...  \n",
       "879  [digital photo printing (including self-serve)...  \n",
       "880                           [valet parking services]  \n",
       "881  [bail bonding services,  balloon-o-gram, servi...  "
      ]
     },
     "execution_count": 108,
     "metadata": {},
     "output_type": "execute_result"
    }
   ],
   "source": [
    "NAICS_2022[NAICS_2022.INDUSTRY_GROUP == 8129]"
   ]
  },
  {
   "cell_type": "code",
   "execution_count": null,
   "metadata": {},
   "outputs": [],
   "source": []
  }
 ],
 "metadata": {
  "kernelspec": {
   "display_name": "Python 3",
   "language": "python",
   "name": "python3"
  },
  "language_info": {
   "codemirror_mode": {
    "name": "ipython",
    "version": 3
   },
   "file_extension": ".py",
   "mimetype": "text/x-python",
   "name": "python",
   "nbconvert_exporter": "python",
   "pygments_lexer": "ipython3",
   "version": "3.11.6"
  }
 },
 "nbformat": 4,
 "nbformat_minor": 5
}
