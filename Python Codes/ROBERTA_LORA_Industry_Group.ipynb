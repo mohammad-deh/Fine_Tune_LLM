{
 "cells": [
  {
   "cell_type": "code",
   "execution_count": 1,
   "id": "f92d5a5a-0e7e-4a02-b315-c59a16c8fb16",
   "metadata": {},
   "outputs": [],
   "source": [
    "import torch\n",
    "from torch.utils.data import DataLoader\n",
    "from transformers import AutoTokenizer, AutoModelForSequenceClassification, AdamW\n",
    "from sklearn.model_selection import train_test_split\n",
    "from sklearn.metrics import accuracy_score\n",
    "#from google.colab import drive\n",
    "from transformers import BertForSequenceClassification\n",
    "from peft import LoraConfig, TaskType\n",
    "from peft import get_peft_model\n",
    "from tqdm import tqdm\n",
    "import pandas as pd"
   ]
  },
  {
   "cell_type": "code",
   "execution_count": 2,
   "id": "5e8941b7-e498-4871-8798-a1cb328f0da2",
   "metadata": {},
   "outputs": [],
   "source": [
    "NAICS_2022 = pd.read_csv('NAICS_2022.csv')\n",
    "\n",
    "NAICS_2022['INDUSTRY_GROUP'] = NAICS_2022['Code']//100\n",
    "\n",
    "NAICS_2022 = NAICS_2022.dropna(subset=['EXAMPLE']).reset_index(drop=True)\n",
    "\n",
    "# We define a function called extract_examples whose input is a text and output is a list of words\n",
    "# which are extracted from that text. After doing some preprocess on the text, we split the text by semi-colon.\n",
    "\n",
    "def extract_examples(text):\n",
    "    # Lowercase the text\n",
    "    text = text.lower()\n",
    "    text = text.replace('for example, ','')\n",
    "    \n",
    "    # Remove punctuation marks\n",
    "    #text = ''.join(char for char in text if char not in punctuation_without_semicolon)\n",
    "    \n",
    "    # Remove stopwords\n",
    "    words = text.split()\n",
    "    #words = [word for word in words if word not in stopwords]\n",
    "    \n",
    "    for i in range(len(words)):\n",
    "        if \";\" in words[i]:\n",
    "            word = words[i].replace(\";\", \"\")\n",
    "            stemmed_word = word + \";\"\n",
    "            words[i] = stemmed_word        \n",
    "        #else:\n",
    "         #   words[i] = stemmer.stem(words[i])\n",
    "    \n",
    "    \n",
    "    \n",
    "    # Stem the words\n",
    "    #words = [stemmer.stem(word) for word in words]\n",
    "    \n",
    "    # Join the words back into a string\n",
    "    text = ' '.join(words)\n",
    "    \n",
    "    list_words = text.rstrip('; ').split(';')\n",
    "    # Use Yake to extract keywords from the preprocessed text\n",
    "    #keywords = custom_kw_extractor.extract_keywords(text)\n",
    "    #keywords = [t[0] for t in keywords]\n",
    "    #if len(keywords) != 1:\n",
    "       # keywords = [t for t in keywords if len(t.split()) > 1]\n",
    "        \n",
    "    #keywords = [t[0] for t in keywords if len(t[0].split()) > 1]\n",
    "    \n",
    "    return list_words\n",
    "\n",
    "\n",
    "# Here we apply the extract_examples function on the EXAMPLE column of the dataset. \n",
    "# EXAMPLE column comprises of many examples which are separated by semi-colon.\n",
    "\n",
    "NAICS_2022['EXAMPLE_SPLIT'] = NAICS_2022['EXAMPLE'].apply(lambda x: extract_examples(x))\n",
    "\n",
    "\n",
    "# Labeling the INDUSTRY_GROUP column: we have 312 classes in the industry group level (first 4 digits of NAICS code)\n",
    "# and we label them from 0 to 311.\n",
    "\n",
    "INPUT_DF = NAICS_2022.copy()\n",
    "\n",
    "\n",
    "INPUT_DF_EXPLODE = INPUT_DF.explode('EXAMPLE_SPLIT').reset_index(drop = True)\n",
    "\n",
    "value_counts = INPUT_DF_EXPLODE['Code'].value_counts()\n",
    "# Get the values that occur more than once\n",
    "values_to_keep = value_counts[value_counts > 1].index\n",
    "\n",
    "# Filter the DataFrame to keep only rows where the value in 'a' occurs more than once\n",
    "INPUT_DF_EXPLODE = INPUT_DF_EXPLODE[INPUT_DF_EXPLODE['Code'].isin(values_to_keep)].reset_index(drop = True)\n",
    "\n",
    "mapping_IG = {sec:idx for idx, sec in enumerate(list(INPUT_DF_EXPLODE.INDUSTRY_GROUP.unique()))}\n",
    "INPUT_DF_EXPLODE['industry_group_label'] = INPUT_DF_EXPLODE['INDUSTRY_GROUP'].map(mapping_IG)\n",
    "\n",
    "mapping_NAICS = {sec:idx for idx, sec in enumerate(list(INPUT_DF_EXPLODE.Code.unique()))}\n",
    "INPUT_DF_EXPLODE['naics_label'] = INPUT_DF_EXPLODE['Code'].map(mapping_NAICS)\n",
    "\n",
    "mapping_IG_reverse = {v:k for k, v in mapping_IG.items()}\n",
    "mapping_NAICS_reverse = {v:k for k, v in mapping_NAICS.items()}\n",
    "\n",
    "INPUT_DF_EXPLODE_SELECT = INPUT_DF_EXPLODE[['Class definition','EXAMPLE_SPLIT','industry_group_label','naics_label']]\n",
    "\n"
   ]
  },
  {
   "cell_type": "code",
   "execution_count": 3,
   "id": "ba23c6e4-3b50-4924-b458-eca79611c37e",
   "metadata": {},
   "outputs": [
    {
     "data": {
      "text/html": [
       "<div>\n",
       "<style scoped>\n",
       "    .dataframe tbody tr th:only-of-type {\n",
       "        vertical-align: middle;\n",
       "    }\n",
       "\n",
       "    .dataframe tbody tr th {\n",
       "        vertical-align: top;\n",
       "    }\n",
       "\n",
       "    .dataframe thead th {\n",
       "        text-align: right;\n",
       "    }\n",
       "</style>\n",
       "<table border=\"1\" class=\"dataframe\">\n",
       "  <thead>\n",
       "    <tr style=\"text-align: right;\">\n",
       "      <th></th>\n",
       "      <th>Level</th>\n",
       "      <th>Hierarchical structure</th>\n",
       "      <th>Code</th>\n",
       "      <th>Parent</th>\n",
       "      <th>Class title</th>\n",
       "      <th>Superscript</th>\n",
       "      <th>Class definition</th>\n",
       "      <th>EXAMPLE</th>\n",
       "      <th>INDUSTRY_GROUP</th>\n",
       "      <th>EXAMPLE_SPLIT</th>\n",
       "    </tr>\n",
       "  </thead>\n",
       "  <tbody>\n",
       "    <tr>\n",
       "      <th>0</th>\n",
       "      <td>5</td>\n",
       "      <td>Canadian industry</td>\n",
       "      <td>111110</td>\n",
       "      <td>11111</td>\n",
       "      <td>Soybean farming</td>\n",
       "      <td>NaN</td>\n",
       "      <td>This Canadian industry comprises establishment...</td>\n",
       "      <td>soybean farming, field and seed production; s...</td>\n",
       "      <td>1111</td>\n",
       "      <td>[soybean farming, field and seed production,  ...</td>\n",
       "    </tr>\n",
       "    <tr>\n",
       "      <th>1</th>\n",
       "      <td>5</td>\n",
       "      <td>Canadian industry</td>\n",
       "      <td>111120</td>\n",
       "      <td>11112</td>\n",
       "      <td>Oilseed (except soybean) farming</td>\n",
       "      <td>US</td>\n",
       "      <td>This Canadian industry comprises establishment...</td>\n",
       "      <td>canola (rapeseed) farming; linseed (flaxseed)...</td>\n",
       "      <td>1111</td>\n",
       "      <td>[canola (rapeseed) farming,  linseed (flaxseed...</td>\n",
       "    </tr>\n",
       "    <tr>\n",
       "      <th>2</th>\n",
       "      <td>5</td>\n",
       "      <td>Canadian industry</td>\n",
       "      <td>111130</td>\n",
       "      <td>11113</td>\n",
       "      <td>Dry pea and bean farming</td>\n",
       "      <td>US</td>\n",
       "      <td>This Canadian industry comprises establishment...</td>\n",
       "      <td>bean or pea farming (field crop); dry bean fa...</td>\n",
       "      <td>1111</td>\n",
       "      <td>[bean or pea farming (field crop),  dry bean f...</td>\n",
       "    </tr>\n",
       "    <tr>\n",
       "      <th>3</th>\n",
       "      <td>5</td>\n",
       "      <td>Canadian industry</td>\n",
       "      <td>111140</td>\n",
       "      <td>11114</td>\n",
       "      <td>Wheat farming</td>\n",
       "      <td>NaN</td>\n",
       "      <td>This Canadian industry comprises establishment...</td>\n",
       "      <td>wheat (i.e., spring, winter and durum) growin...</td>\n",
       "      <td>1111</td>\n",
       "      <td>[wheat (i.e., spring, winter and durum) growin...</td>\n",
       "    </tr>\n",
       "    <tr>\n",
       "      <th>4</th>\n",
       "      <td>5</td>\n",
       "      <td>Canadian industry</td>\n",
       "      <td>111150</td>\n",
       "      <td>11115</td>\n",
       "      <td>Corn farming</td>\n",
       "      <td>US</td>\n",
       "      <td>This Canadian industry comprises establishment...</td>\n",
       "      <td>corn (except sweet corn) farming, field and s...</td>\n",
       "      <td>1111</td>\n",
       "      <td>[corn (except sweet corn) farming, field and s...</td>\n",
       "    </tr>\n",
       "    <tr>\n",
       "      <th>...</th>\n",
       "      <td>...</td>\n",
       "      <td>...</td>\n",
       "      <td>...</td>\n",
       "      <td>...</td>\n",
       "      <td>...</td>\n",
       "      <td>...</td>\n",
       "      <td>...</td>\n",
       "      <td>...</td>\n",
       "      <td>...</td>\n",
       "      <td>...</td>\n",
       "    </tr>\n",
       "    <tr>\n",
       "      <th>918</th>\n",
       "      <td>5</td>\n",
       "      <td>Canadian industry</td>\n",
       "      <td>913910</td>\n",
       "      <td>91391</td>\n",
       "      <td>Other local, municipal and regional public adm...</td>\n",
       "      <td>CAN</td>\n",
       "      <td>This Canadian industry comprises establishment...</td>\n",
       "      <td>adult education program, local; amusement tax...</td>\n",
       "      <td>9139</td>\n",
       "      <td>[adult education program, local,  amusement ta...</td>\n",
       "    </tr>\n",
       "    <tr>\n",
       "      <th>919</th>\n",
       "      <td>5</td>\n",
       "      <td>Canadian industry</td>\n",
       "      <td>914111</td>\n",
       "      <td>91411</td>\n",
       "      <td>First Nations public administration</td>\n",
       "      <td>CAN</td>\n",
       "      <td>This Canadian industry comprises establishment...</td>\n",
       "      <td>First Nations Band Council; First Nations Sel...</td>\n",
       "      <td>9141</td>\n",
       "      <td>[first nations band council,  first nations se...</td>\n",
       "    </tr>\n",
       "    <tr>\n",
       "      <th>920</th>\n",
       "      <td>5</td>\n",
       "      <td>Canadian industry</td>\n",
       "      <td>914112</td>\n",
       "      <td>91411</td>\n",
       "      <td>MÃ©tis public administration</td>\n",
       "      <td>CAN</td>\n",
       "      <td>This Canadian industry comprises establishment...</td>\n",
       "      <td>Métis Self-Government;</td>\n",
       "      <td>9141</td>\n",
       "      <td>[métis self-government]</td>\n",
       "    </tr>\n",
       "    <tr>\n",
       "      <th>921</th>\n",
       "      <td>5</td>\n",
       "      <td>Canadian industry</td>\n",
       "      <td>914113</td>\n",
       "      <td>91411</td>\n",
       "      <td>Inuit public administration</td>\n",
       "      <td>CAN</td>\n",
       "      <td>This Canadian industry comprises establishment...</td>\n",
       "      <td>Inuit Self-Government;</td>\n",
       "      <td>9141</td>\n",
       "      <td>[inuit self-government]</td>\n",
       "    </tr>\n",
       "    <tr>\n",
       "      <th>922</th>\n",
       "      <td>5</td>\n",
       "      <td>Canadian industry</td>\n",
       "      <td>919110</td>\n",
       "      <td>91911</td>\n",
       "      <td>International and other extra-territorial publ...</td>\n",
       "      <td>CAN</td>\n",
       "      <td>This Canadian industry comprises establishment...</td>\n",
       "      <td>African Union; Arab League; consular service,...</td>\n",
       "      <td>9191</td>\n",
       "      <td>[african union,  arab league,  consular servic...</td>\n",
       "    </tr>\n",
       "  </tbody>\n",
       "</table>\n",
       "<p>923 rows × 10 columns</p>\n",
       "</div>"
      ],
      "text/plain": [
       "     Level Hierarchical structure    Code  Parent   \\\n",
       "0        5      Canadian industry  111110    11111   \n",
       "1        5      Canadian industry  111120    11112   \n",
       "2        5      Canadian industry  111130    11113   \n",
       "3        5      Canadian industry  111140    11114   \n",
       "4        5      Canadian industry  111150    11115   \n",
       "..     ...                    ...     ...      ...   \n",
       "918      5      Canadian industry  913910    91391   \n",
       "919      5      Canadian industry  914111    91411   \n",
       "920      5      Canadian industry  914112    91411   \n",
       "921      5      Canadian industry  914113    91411   \n",
       "922      5      Canadian industry  919110    91911   \n",
       "\n",
       "                                           Class title Superscript  \\\n",
       "0                                      Soybean farming         NaN   \n",
       "1                     Oilseed (except soybean) farming          US   \n",
       "2                             Dry pea and bean farming          US   \n",
       "3                                        Wheat farming         NaN   \n",
       "4                                         Corn farming          US   \n",
       "..                                                 ...         ...   \n",
       "918  Other local, municipal and regional public adm...         CAN   \n",
       "919                First Nations public administration         CAN   \n",
       "920                       MÃ©tis public administration         CAN   \n",
       "921                        Inuit public administration         CAN   \n",
       "922  International and other extra-territorial publ...         CAN   \n",
       "\n",
       "                                      Class definition  \\\n",
       "0    This Canadian industry comprises establishment...   \n",
       "1    This Canadian industry comprises establishment...   \n",
       "2    This Canadian industry comprises establishment...   \n",
       "3    This Canadian industry comprises establishment...   \n",
       "4    This Canadian industry comprises establishment...   \n",
       "..                                                 ...   \n",
       "918  This Canadian industry comprises establishment...   \n",
       "919  This Canadian industry comprises establishment...   \n",
       "920  This Canadian industry comprises establishment...   \n",
       "921  This Canadian industry comprises establishment...   \n",
       "922  This Canadian industry comprises establishment...   \n",
       "\n",
       "                                               EXAMPLE  INDUSTRY_GROUP  \\\n",
       "0     soybean farming, field and seed production; s...            1111   \n",
       "1     canola (rapeseed) farming; linseed (flaxseed)...            1111   \n",
       "2     bean or pea farming (field crop); dry bean fa...            1111   \n",
       "3     wheat (i.e., spring, winter and durum) growin...            1111   \n",
       "4     corn (except sweet corn) farming, field and s...            1111   \n",
       "..                                                 ...             ...   \n",
       "918   adult education program, local; amusement tax...            9139   \n",
       "919   First Nations Band Council; First Nations Sel...            9141   \n",
       "920                            Métis Self-Government;             9141   \n",
       "921                            Inuit Self-Government;             9141   \n",
       "922   African Union; Arab League; consular service,...            9191   \n",
       "\n",
       "                                         EXAMPLE_SPLIT  \n",
       "0    [soybean farming, field and seed production,  ...  \n",
       "1    [canola (rapeseed) farming,  linseed (flaxseed...  \n",
       "2    [bean or pea farming (field crop),  dry bean f...  \n",
       "3    [wheat (i.e., spring, winter and durum) growin...  \n",
       "4    [corn (except sweet corn) farming, field and s...  \n",
       "..                                                 ...  \n",
       "918  [adult education program, local,  amusement ta...  \n",
       "919  [first nations band council,  first nations se...  \n",
       "920                            [métis self-government]  \n",
       "921                            [inuit self-government]  \n",
       "922  [african union,  arab league,  consular servic...  \n",
       "\n",
       "[923 rows x 10 columns]"
      ]
     },
     "execution_count": 3,
     "metadata": {},
     "output_type": "execute_result"
    }
   ],
   "source": [
    "NAICS_2022"
   ]
  },
  {
   "cell_type": "code",
   "execution_count": 4,
   "id": "228fb5a3-9c8d-4534-a7e2-006567105233",
   "metadata": {},
   "outputs": [
    {
     "name": "stdout",
     "output_type": "stream",
     "text": [
      "GPU is available!\n"
     ]
    }
   ],
   "source": [
    "if torch.cuda.is_available():\n",
    "    print(\"GPU is available!\")\n",
    "else:\n",
    "    print(\"GPU is not available. Using CPU.\")"
   ]
  },
  {
   "cell_type": "code",
   "execution_count": 5,
   "id": "1e89be13-86de-4dc7-8fd6-e332c94091df",
   "metadata": {},
   "outputs": [
    {
     "data": {
      "text/plain": [
       "19138"
      ]
     },
     "execution_count": 5,
     "metadata": {},
     "output_type": "execute_result"
    }
   ],
   "source": [
    "len(INPUT_DF_EXPLODE_SELECT)"
   ]
  },
  {
   "cell_type": "code",
   "execution_count": 6,
   "id": "7ee0e91c-b139-4d41-930a-85b5819a8a08",
   "metadata": {},
   "outputs": [],
   "source": [
    "X_train, X_valid, y_train, y_valid = train_test_split(\n",
    "    INPUT_DF_EXPLODE_SELECT['EXAMPLE_SPLIT'],\n",
    "    INPUT_DF_EXPLODE_SELECT['industry_group_label'],\n",
    "    test_size=0.1,\n",
    "    random_state=42,\n",
    "    stratify=INPUT_DF_EXPLODE_SELECT['industry_group_label']\n",
    ")"
   ]
  },
  {
   "cell_type": "code",
   "execution_count": 7,
   "id": "3f10cdb8-e2b7-4bb5-9569-b9e297e6ad75",
   "metadata": {},
   "outputs": [],
   "source": [
    "roberta_checkpoint = \"roberta-large\"\n",
    "roberta_checkpoint = \"roberta-base\"\n",
    "tokenizer = AutoTokenizer.from_pretrained(roberta_checkpoint, add_prefix_space=True)\n",
    "train_encodings = tokenizer(list(X_train), truncation=True, padding=True, return_tensors='pt')\n",
    "valid_encodings = tokenizer(list(X_valid), truncation=True, padding=True, return_tensors='pt')"
   ]
  },
  {
   "cell_type": "code",
   "execution_count": 8,
   "id": "5f2d4ee4-c003-486d-9a69-e6de48c1ea34",
   "metadata": {},
   "outputs": [],
   "source": [
    "# Convert labels to tensors\n",
    "train_labels = torch.tensor(list(y_train))\n",
    "valid_labels = torch.tensor(list(y_valid))\n"
   ]
  },
  {
   "cell_type": "code",
   "execution_count": 9,
   "id": "125f6aa3-901a-4263-a326-7f52dc02e10b",
   "metadata": {},
   "outputs": [],
   "source": [
    "device = torch.device('cuda' if torch.cuda.is_available() else 'cpu')\n",
    "#device = 'cpu'\n",
    "train_encodings = {key: val.to(device) for key, val in train_encodings.items()}\n",
    "valid_encodings = {key: val.to(device) for key, val in valid_encodings.items()}\n",
    "train_labels = train_labels.to(device)\n",
    "valid_labels = valid_labels.to(device)"
   ]
  },
  {
   "cell_type": "code",
   "execution_count": 10,
   "id": "afc7e5f6-5922-4268-add5-b62517d2f513",
   "metadata": {},
   "outputs": [
    {
     "data": {
      "text/plain": [
       "{'input_ids': tensor([[    0,  3055, 39156,  ...,     1,     1,     1],\n",
       "         [    0,  3111,   108,  ...,     1,     1,     1],\n",
       "         [    0,  1748, 12174,  ...,     1,     1,     1],\n",
       "         ...,\n",
       "         [    0, 13011, 19565,  ...,     1,     1,     1],\n",
       "         [    0, 13030,   636,  ...,     1,     1,     1],\n",
       "         [    0, 16661,    36,  ...,     1,     1,     1]], device='cuda:0'),\n",
       " 'attention_mask': tensor([[1, 1, 1,  ..., 0, 0, 0],\n",
       "         [1, 1, 1,  ..., 0, 0, 0],\n",
       "         [1, 1, 1,  ..., 0, 0, 0],\n",
       "         ...,\n",
       "         [1, 1, 1,  ..., 0, 0, 0],\n",
       "         [1, 1, 1,  ..., 0, 0, 0],\n",
       "         [1, 1, 1,  ..., 0, 0, 0]], device='cuda:0')}"
      ]
     },
     "execution_count": 10,
     "metadata": {},
     "output_type": "execute_result"
    }
   ],
   "source": [
    "train_encodings"
   ]
  },
  {
   "cell_type": "code",
   "execution_count": 11,
   "id": "75f43c06-c04c-43a3-9f08-0b9c79461646",
   "metadata": {},
   "outputs": [],
   "source": [
    "from torch.utils.data import TensorDataset, DataLoader\n",
    "\n",
    "# Assuming train_encoding and train_labels are your input data\n",
    "train_dataset = TensorDataset(train_encodings['input_ids'], \n",
    "                              #train_encodings['token_type_ids'], \n",
    "                              train_encodings['attention_mask'], \n",
    "                              train_labels)\n"
   ]
  },
  {
   "cell_type": "code",
   "execution_count": 12,
   "id": "c87b6dff-d5a6-46a0-9d61-a97d9409dc8f",
   "metadata": {},
   "outputs": [],
   "source": [
    "# Set batch size according to your preference\n",
    "batch_size = 16\n",
    "\n",
    "# Create DataLoader\n",
    "train_dataloader = DataLoader(train_dataset, batch_size=batch_size, shuffle=True)\n"
   ]
  },
  {
   "cell_type": "code",
   "execution_count": 13,
   "id": "887f3af7-a2bc-4a5e-ab33-319ed209d393",
   "metadata": {},
   "outputs": [],
   "source": [
    "valid_dataset = TensorDataset(valid_encodings['input_ids'], \n",
    "                              #valid_encodings['token_type_ids'], \n",
    "                              valid_encodings['attention_mask'], \n",
    "                              valid_labels)\n",
    "\n",
    "valid_dataloader = DataLoader(valid_dataset, batch_size=batch_size, shuffle=True)"
   ]
  },
  {
   "cell_type": "code",
   "execution_count": 14,
   "id": "fc03975c-9a28-4886-b784-f5816538270a",
   "metadata": {},
   "outputs": [],
   "source": [
    "NUM_CLASS = len(list(set(list(y_train))))"
   ]
  },
  {
   "cell_type": "code",
   "execution_count": 15,
   "id": "71914586-dd6a-4352-8e13-69284a220437",
   "metadata": {},
   "outputs": [
    {
     "name": "stderr",
     "output_type": "stream",
     "text": [
      "Some weights of RobertaForSequenceClassification were not initialized from the model checkpoint at roberta-base and are newly initialized: ['classifier.dense.weight', 'classifier.out_proj.weight', 'classifier.out_proj.bias', 'classifier.dense.bias']\n",
      "You should probably TRAIN this model on a down-stream task to be able to use it for predictions and inference.\n"
     ]
    },
    {
     "name": "stdout",
     "output_type": "stream",
     "text": [
      "Number of trainable parameters: 1131584\n",
      "Total number of parameters: 126023296\n"
     ]
    }
   ],
   "source": [
    "from transformers import AutoModelForSequenceClassification \n",
    "model = AutoModelForSequenceClassification.from_pretrained(roberta_checkpoint, num_labels=NUM_CLASS)\n",
    "\n",
    "\n",
    "\n",
    "lora_config = LoraConfig(\n",
    "    task_type=TaskType.SEQ_CLS, r=8, lora_alpha=1, lora_dropout=0.1\n",
    ")\n",
    "\n",
    "model = get_peft_model(model, lora_config)\n",
    "\n",
    "# Set up training parameters\n",
    "optimizer = torch.optim.AdamW(model.parameters(), lr=5e-5)\n",
    "model.to(device)\n",
    "\n",
    "# Count trainable parameters\n",
    "num_trainable_params = sum(p.numel() for p in model.parameters() if p.requires_grad)\n",
    "print(f\"Number of trainable parameters: {num_trainable_params}\")\n",
    "\n",
    "# Count total parameters (including non-trainable)\n",
    "num_total_params = sum(p.numel() for p in model.parameters())\n",
    "print(f\"Total number of parameters: {num_total_params}\")"
   ]
  },
  {
   "cell_type": "code",
   "execution_count": 17,
   "id": "03ff7abe-b8ff-473d-8ffa-c74ef5f41431",
   "metadata": {},
   "outputs": [
    {
     "data": {
      "text/plain": [
       "0.00897916524893937"
      ]
     },
     "execution_count": 17,
     "metadata": {},
     "output_type": "execute_result"
    }
   ],
   "source": [
    "1131584/126023296"
   ]
  },
  {
   "cell_type": "code",
   "execution_count": 16,
   "id": "606d2c90-25b6-4923-b6bf-bb08c26bcdaa",
   "metadata": {
    "scrolled": true
   },
   "outputs": [
    {
     "name": "stdout",
     "output_type": "stream",
     "text": [
      "PeftModelForSequenceClassification(\n",
      "  (base_model): LoraModel(\n",
      "    (model): RobertaForSequenceClassification(\n",
      "      (roberta): RobertaModel(\n",
      "        (embeddings): RobertaEmbeddings(\n",
      "          (word_embeddings): Embedding(50265, 768, padding_idx=1)\n",
      "          (position_embeddings): Embedding(514, 768, padding_idx=1)\n",
      "          (token_type_embeddings): Embedding(1, 768)\n",
      "          (LayerNorm): LayerNorm((768,), eps=1e-05, elementwise_affine=True)\n",
      "          (dropout): Dropout(p=0.1, inplace=False)\n",
      "        )\n",
      "        (encoder): RobertaEncoder(\n",
      "          (layer): ModuleList(\n",
      "            (0-11): 12 x RobertaLayer(\n",
      "              (attention): RobertaAttention(\n",
      "                (self): RobertaSelfAttention(\n",
      "                  (query): Linear(\n",
      "                    in_features=768, out_features=768, bias=True\n",
      "                    (lora_dropout): ModuleDict(\n",
      "                      (default): Dropout(p=0.1, inplace=False)\n",
      "                    )\n",
      "                    (lora_A): ModuleDict(\n",
      "                      (default): Linear(in_features=768, out_features=8, bias=False)\n",
      "                    )\n",
      "                    (lora_B): ModuleDict(\n",
      "                      (default): Linear(in_features=8, out_features=768, bias=False)\n",
      "                    )\n",
      "                    (lora_embedding_A): ParameterDict()\n",
      "                    (lora_embedding_B): ParameterDict()\n",
      "                  )\n",
      "                  (key): Linear(in_features=768, out_features=768, bias=True)\n",
      "                  (value): Linear(\n",
      "                    in_features=768, out_features=768, bias=True\n",
      "                    (lora_dropout): ModuleDict(\n",
      "                      (default): Dropout(p=0.1, inplace=False)\n",
      "                    )\n",
      "                    (lora_A): ModuleDict(\n",
      "                      (default): Linear(in_features=768, out_features=8, bias=False)\n",
      "                    )\n",
      "                    (lora_B): ModuleDict(\n",
      "                      (default): Linear(in_features=8, out_features=768, bias=False)\n",
      "                    )\n",
      "                    (lora_embedding_A): ParameterDict()\n",
      "                    (lora_embedding_B): ParameterDict()\n",
      "                  )\n",
      "                  (dropout): Dropout(p=0.1, inplace=False)\n",
      "                )\n",
      "                (output): RobertaSelfOutput(\n",
      "                  (dense): Linear(in_features=768, out_features=768, bias=True)\n",
      "                  (LayerNorm): LayerNorm((768,), eps=1e-05, elementwise_affine=True)\n",
      "                  (dropout): Dropout(p=0.1, inplace=False)\n",
      "                )\n",
      "              )\n",
      "              (intermediate): RobertaIntermediate(\n",
      "                (dense): Linear(in_features=768, out_features=3072, bias=True)\n",
      "                (intermediate_act_fn): GELUActivation()\n",
      "              )\n",
      "              (output): RobertaOutput(\n",
      "                (dense): Linear(in_features=3072, out_features=768, bias=True)\n",
      "                (LayerNorm): LayerNorm((768,), eps=1e-05, elementwise_affine=True)\n",
      "                (dropout): Dropout(p=0.1, inplace=False)\n",
      "              )\n",
      "            )\n",
      "          )\n",
      "        )\n",
      "      )\n",
      "      (classifier): ModulesToSaveWrapper(\n",
      "        (original_module): RobertaClassificationHead(\n",
      "          (dense): Linear(in_features=768, out_features=768, bias=True)\n",
      "          (dropout): Dropout(p=0.1, inplace=False)\n",
      "          (out_proj): Linear(in_features=768, out_features=320, bias=True)\n",
      "        )\n",
      "        (modules_to_save): ModuleDict(\n",
      "          (default): RobertaClassificationHead(\n",
      "            (dense): Linear(in_features=768, out_features=768, bias=True)\n",
      "            (dropout): Dropout(p=0.1, inplace=False)\n",
      "            (out_proj): Linear(in_features=768, out_features=320, bias=True)\n",
      "          )\n",
      "        )\n",
      "      )\n",
      "    )\n",
      "  )\n",
      ")\n"
     ]
    }
   ],
   "source": [
    "print(model)"
   ]
  },
  {
   "cell_type": "code",
   "execution_count": 26,
   "id": "8abc8e3f-75f7-4f4e-b45f-e3260d8d3bc2",
   "metadata": {},
   "outputs": [],
   "source": [
    "torch.cuda.empty_cache()"
   ]
  },
  {
   "cell_type": "code",
   "execution_count": 27,
   "id": "a1316b27-f78a-4110-a0ba-da6c75f9ea57",
   "metadata": {},
   "outputs": [],
   "source": [
    "import torch\n",
    "import torch.nn as nn\n",
    "from torch.nn.parallel import DataParallel\n",
    "\n",
    "\n",
    "# Check if multiple GPUs are available\n",
    "if torch.cuda.device_count() > 1:\n",
    "    print(f\"Using {torch.cuda.device_count()} GPUs!\")\n",
    "    model = DataParallel(model)\n",
    "\n",
    "# Move the model to GPU(s)\n",
    "model = model.cuda()\n",
    "\n",
    "# Now you can use the model as usual\n"
   ]
  },
  {
   "cell_type": "code",
   "execution_count": 28,
   "id": "3f2e75ac-28d7-4ca6-b45c-b8edd4bec8d2",
   "metadata": {},
   "outputs": [],
   "source": [
    "import torch\n",
    "\n",
    "# Limit GPU memory growth\n",
    "#torch.cuda.set_per_process_memory_fraction(0.8)  # Adjust the fraction as needed\n"
   ]
  },
  {
   "cell_type": "code",
   "execution_count": 29,
   "id": "cf32f2cf-a5a6-445e-a934-4257ee41c520",
   "metadata": {},
   "outputs": [],
   "source": [
    "#pip install nvidia-ml-py3"
   ]
  },
  {
   "cell_type": "code",
   "execution_count": 30,
   "id": "244193d5-c542-46fd-bc88-320340d8ba3f",
   "metadata": {},
   "outputs": [
    {
     "name": "stderr",
     "output_type": "stream",
     "text": [
      "                                                                                                                       \r"
     ]
    },
    {
     "name": "stdout",
     "output_type": "stream",
     "text": [
      "Epoch 1/10:\n",
      "Training Loss: 3.5100241023960663\n",
      "Validation Loss: 2.175264832377434\n",
      "F1 Score: 0.45557564234491293\n",
      "Balanced Accuracy: 0.29222865978693624\n",
      "--------------------------------------------------\n"
     ]
    },
    {
     "name": "stderr",
     "output_type": "stream",
     "text": [
      "                                                                                                                       \r"
     ]
    },
    {
     "name": "stdout",
     "output_type": "stream",
     "text": [
      "Epoch 2/10:\n",
      "Training Loss: 1.767475524597292\n",
      "Validation Loss: 1.3863861625393232\n",
      "F1 Score: 0.6130578437506903\n",
      "Balanced Accuracy: 0.4323690296097948\n",
      "--------------------------------------------------\n"
     ]
    },
    {
     "name": "stderr",
     "output_type": "stream",
     "text": [
      "                                                                                                                       \r"
     ]
    },
    {
     "name": "stdout",
     "output_type": "stream",
     "text": [
      "Epoch 3/10:\n",
      "Training Loss: 1.107871028208135\n",
      "Validation Loss: 1.0779622870186965\n",
      "F1 Score: 0.7171354360737968\n",
      "Balanced Accuracy: 0.5689009429343644\n",
      "--------------------------------------------------\n"
     ]
    },
    {
     "name": "stderr",
     "output_type": "stream",
     "text": [
      "                                                                                                                       \r"
     ]
    },
    {
     "name": "stdout",
     "output_type": "stream",
     "text": [
      "Epoch 4/10:\n",
      "Training Loss: 0.7350668768254053\n",
      "Validation Loss: 0.9369192533815901\n",
      "F1 Score: 0.7492140974461157\n",
      "Balanced Accuracy: 0.6428907317680522\n",
      "--------------------------------------------------\n"
     ]
    },
    {
     "name": "stderr",
     "output_type": "stream",
     "text": [
      "                                                                                                                       \r"
     ]
    },
    {
     "name": "stdout",
     "output_type": "stream",
     "text": [
      "Epoch 5/10:\n",
      "Training Loss: 0.487853633864206\n",
      "Validation Loss: 0.8789041405543685\n",
      "F1 Score: 0.7839121640232571\n",
      "Balanced Accuracy: 0.7050912583359453\n",
      "--------------------------------------------------\n"
     ]
    },
    {
     "name": "stderr",
     "output_type": "stream",
     "text": [
      "                                                                                                                       \r"
     ]
    },
    {
     "name": "stdout",
     "output_type": "stream",
     "text": [
      "Epoch 6/10:\n",
      "Training Loss: 0.32349076575514\n",
      "Validation Loss: 0.839018624369055\n",
      "F1 Score: 0.791886481155287\n",
      "Balanced Accuracy: 0.7118649298938478\n",
      "--------------------------------------------------\n"
     ]
    },
    {
     "name": "stderr",
     "output_type": "stream",
     "text": [
      "                                                                                                                       \r"
     ]
    },
    {
     "name": "stdout",
     "output_type": "stream",
     "text": [
      "Epoch 7/10:\n",
      "Training Loss: 0.2127204523227258\n",
      "Validation Loss: 0.8107453634962439\n",
      "F1 Score: 0.808770232952428\n",
      "Balanced Accuracy: 0.7519077292285199\n",
      "--------------------------------------------------\n"
     ]
    },
    {
     "name": "stderr",
     "output_type": "stream",
     "text": [
      "                                                                                                                       \r"
     ]
    },
    {
     "name": "stdout",
     "output_type": "stream",
     "text": [
      "Epoch 8/10:\n",
      "Training Loss: 0.12961334396696744\n",
      "Validation Loss: 0.8160256961360574\n",
      "F1 Score: 0.818374636417199\n",
      "Balanced Accuracy: 0.7688203111161552\n",
      "--------------------------------------------------\n"
     ]
    },
    {
     "name": "stderr",
     "output_type": "stream",
     "text": [
      "                                                                                                                       \r"
     ]
    },
    {
     "name": "stdout",
     "output_type": "stream",
     "text": [
      "Epoch 9/10:\n",
      "Training Loss: 0.08511354105016121\n",
      "Validation Loss: 0.8448142981001486\n",
      "F1 Score: 0.8166149308606885\n",
      "Balanced Accuracy: 0.7620112675022082\n",
      "--------------------------------------------------\n"
     ]
    },
    {
     "name": "stderr",
     "output_type": "stream",
     "text": [
      "                                                                                                                       \r"
     ]
    },
    {
     "name": "stdout",
     "output_type": "stream",
     "text": [
      "Epoch 10/10:\n",
      "Training Loss: 0.0611171710370636\n",
      "Validation Loss: 0.8463699781646331\n",
      "F1 Score: 0.8224738259011701\n",
      "Balanced Accuracy: 0.7809540977709786\n",
      "--------------------------------------------------\n"
     ]
    }
   ],
   "source": [
    "from transformers import  AdamW, get_linear_schedule_with_warmup\n",
    "from sklearn.metrics import f1_score, balanced_accuracy_score\n",
    "from tqdm import tqdm\n",
    "import os\n",
    "os.environ[\"PYTORCH_CUDA_ALLOC_CONF\"] = \"max_split_size_mb:512\"\n",
    "# Number of training epochs\n",
    "NUM_EPOCHS = 10\n",
    "scheduler = get_linear_schedule_with_warmup(optimizer, num_warmup_steps=0, num_training_steps=len(train_dataloader)*NUM_EPOCHS)\n",
    "criterion = torch.nn.CrossEntropyLoss()\n",
    "\n",
    "\n",
    "\n",
    "# Lists to store training losses and F1 scores\n",
    "train_losses = []\n",
    "valid_losses = []\n",
    "f1_scores = []\n",
    "balanced_accuracies = []\n",
    "# Training loop with tqdm\n",
    "\n",
    "\n",
    "\n",
    "\n",
    "for epoch in range(NUM_EPOCHS):\n",
    "    torch.cuda.empty_cache()\n",
    "    model.train()\n",
    "    total_train_loss = 0.0\n",
    "\n",
    "\n",
    "\n",
    "    # Use tqdm to create a progress bar\n",
    "    progress_bar = tqdm(train_dataloader, desc=f'Epoch {epoch + 1}/{NUM_EPOCHS}', leave=False)\n",
    "\n",
    "    for batch in progress_bar:\n",
    "        input_ids,  attention_mask, labels = batch\n",
    "\n",
    "        optimizer.zero_grad()\n",
    "        #print('1')\n",
    "\n",
    "        outputs = model(input_ids,  attention_mask=attention_mask, labels=labels)\n",
    "        loss = outputs.loss\n",
    "\n",
    "        total_train_loss += loss.item()\n",
    "        #os.environ[\"PYTORCH_CUDA_ALLOC_CONF\"] = \"max_split_size_mb:1024\"\n",
    "\n",
    "        loss.backward()\n",
    "        torch.nn.utils.clip_grad_norm_(model.parameters(), 1.0)  # Gradient clipping to prevent exploding gradients\n",
    "        #print('2')\n",
    "        \n",
    "\n",
    "        optimizer.step()\n",
    "        scheduler.step()\n",
    "\n",
    "        #print('3')\n",
    "\n",
    "        # Update the tqdm progress bar with the current loss\n",
    "        progress_bar.set_postfix({'Training Loss': loss.item()})\n",
    "\n",
    "    average_train_loss = total_train_loss / len(train_dataloader)\n",
    "    train_losses.append(average_train_loss)\n",
    "\n",
    "    # Validation\n",
    "    model.eval()\n",
    "    total_valid_loss = 0.0\n",
    "    all_preds = []\n",
    "    all_labels = []\n",
    "\n",
    "    with torch.no_grad():\n",
    "        for batch in valid_dataloader:\n",
    "            input_ids, attention_mask, labels = batch\n",
    "\n",
    "            outputs = model(input_ids,  attention_mask=attention_mask, labels=labels)\n",
    "            loss = outputs.loss\n",
    "\n",
    "            total_valid_loss += loss.item()\n",
    "\n",
    "            logits = outputs.logits\n",
    "            preds = torch.argmax(logits, dim=1).cpu().numpy()\n",
    "            all_preds.extend(preds)\n",
    "            all_labels.extend(labels.cpu().numpy())\n",
    "\n",
    "    average_valid_loss = total_valid_loss / len(valid_dataloader)\n",
    "    valid_losses.append(average_valid_loss)\n",
    "\n",
    "    # Calculate F1 score\n",
    "    f1 = f1_score(all_labels, all_preds, average='weighted')\n",
    "    f1_scores.append(f1)\n",
    "    balanced_acc = balanced_accuracy_score(all_labels, all_preds)\n",
    "    balanced_accuracies.append(balanced_acc)\n",
    "\n",
    "    # Print training and validation statistics\n",
    "    print(f'Epoch {epoch + 1}/{NUM_EPOCHS}:')\n",
    "    print(f'Training Loss: {average_train_loss}')\n",
    "    print(f'Validation Loss: {average_valid_loss}')\n",
    "    print(f'F1 Score: {f1}')\n",
    "    print(f'Balanced Accuracy: {balanced_acc}')\n",
    "    print('-' * 50)\n"
   ]
  },
  {
   "cell_type": "code",
   "execution_count": 92,
   "id": "f61721be-6e79-4952-b528-7a88d6259ab3",
   "metadata": {},
   "outputs": [],
   "source": [
    "#torch.save(model.state_dict(), 'Roberta_TM_IG_model.pth')"
   ]
  },
  {
   "cell_type": "code",
   "execution_count": 7,
   "id": "4f09310b-7dec-410f-8686-141d58103953",
   "metadata": {},
   "outputs": [],
   "source": [
    "with open('train_losses_roberta.txt', 'w') as file:\n",
    "    for item in train_losses:\n",
    "        file.write(f\"{item}\\n\")"
   ]
  },
  {
   "cell_type": "code",
   "execution_count": 10,
   "id": "3a770108-67a8-4627-8716-2ab4bb8f2221",
   "metadata": {},
   "outputs": [],
   "source": [
    "with open('valid_losses_roberta.txt', 'w') as file:\n",
    "    for item in valid_losses:\n",
    "        file.write(f\"{item}\\n\")"
   ]
  },
  {
   "cell_type": "code",
   "execution_count": 11,
   "id": "cb87282e-060b-46dd-a924-c46d788d1aa4",
   "metadata": {},
   "outputs": [],
   "source": [
    "with open('f1_scores_roberta.txt', 'w') as file:\n",
    "    for item in f1_scores:\n",
    "        file.write(f\"{item}\\n\")"
   ]
  },
  {
   "cell_type": "code",
   "execution_count": 12,
   "id": "8dd5655a-a4b1-44e0-a2ef-9c499d9a325c",
   "metadata": {},
   "outputs": [],
   "source": [
    "with open('balanced_accuracies_roberta.txt', 'w') as file:\n",
    "    for item in balanced_accuracies:\n",
    "        file.write(f\"{item}\\n\")"
   ]
  },
  {
   "cell_type": "markdown",
   "id": "af56f585-a19a-4cd0-842e-a194c770313d",
   "metadata": {},
   "source": [
    "Loading Roberta results"
   ]
  },
  {
   "cell_type": "code",
   "execution_count": 19,
   "id": "493a7b13-4beb-45ab-96f1-92c14455571b",
   "metadata": {},
   "outputs": [],
   "source": [
    "with open('train_losses_roberta.txt', 'r') as file:\n",
    "    train_losses_roberta = [float(line.strip()) for line in file]\n",
    "\n",
    "with open('valid_losses_roberta.txt', 'r') as file:\n",
    "    valid_losses_roberta = [float(line.strip()) for line in file]\n",
    "\n",
    "with open('f1_scores_roberta.txt', 'r') as file:\n",
    "    f1_scores_roberta = [float(line.strip()) for line in file]\n",
    "\n",
    "with open('balanced_accuracies_roberta.txt', 'r') as file:\n",
    "    balanced_accuracies_roberta = [float(line.strip()) for line in file]\n",
    "\n"
   ]
  },
  {
   "cell_type": "markdown",
   "id": "6b4cdd24-e828-4932-ada8-917350cef268",
   "metadata": {},
   "source": [
    "Loading BERT results"
   ]
  },
  {
   "cell_type": "code",
   "execution_count": 24,
   "id": "bbe35455-8849-4162-b3ab-a574f5d4d69d",
   "metadata": {},
   "outputs": [],
   "source": [
    "with open('train_losses_bert.txt', 'r') as file:\n",
    "    train_losses_bert = [float(line.strip()) for line in file]\n",
    "\n",
    "with open('valid_losses_bert.txt', 'r') as file:\n",
    "    valid_losses_bert = [float(line.strip()) for line in file]\n",
    "\n",
    "with open('f1_scores_bert.txt', 'r') as file:\n",
    "    f1_scores_bert = [float(line.strip()) for line in file]\n",
    "\n",
    "with open('balanced_accuracies_bert.txt', 'r') as file:\n",
    "    balanced_accuracies_bert = [float(line.strip()) for line in file]"
   ]
  },
  {
   "cell_type": "code",
   "execution_count": 41,
   "id": "5917fa93-b17f-475c-87e3-f8f1e7784af1",
   "metadata": {},
   "outputs": [
    {
     "data": {
      "image/png": "[encoded data removed]",
      "text/plain": [
       "<Figure size 640x480 with 1 Axes>"
      ]
     },
     "metadata": {},
     "output_type": "display_data"
    }
   ],
   "source": [
    "import matplotlib.pyplot as plt\n",
    "\n",
    "\n",
    "x = [1, 2, 3, 4, 5,6,7,8,9,10]\n",
    "plt.plot(x, train_losses_roberta, label='Train Loss Roberta', marker='o')\n",
    "plt.plot(x, valid_losses_roberta, label='Validation Loss Roberta', marker='s')\n",
    "plt.plot(x, train_losses_bert, label='Train Loss Bert', marker='^')\n",
    "plt.plot(x, valid_losses_bert, label='Validation Loss Bert', marker='*')\n",
    "plt.xlabel('Number of Epochs')\n",
    "plt.ylabel('Loss')\n",
    "plt.title('Loss Function between Bert and Roberta to Predict Industry')\n",
    "plt.legend()\n",
    "plt.savefig('loss_IG.jpg', format='jpg', dpi=300)\n",
    "plt.show()"
   ]
  },
  {
   "cell_type": "code",
   "execution_count": 42,
   "id": "5f4c9a63-5812-4adc-a29d-05329a25985d",
   "metadata": {},
   "outputs": [
    {
     "data": {
      "image/png": "[encoded data removed]",
      "text/plain": [
       "<Figure size 640x480 with 1 Axes>"
      ]
     },
     "metadata": {},
     "output_type": "display_data"
    }
   ],
   "source": [
    "import matplotlib.pyplot as plt\n",
    "\n",
    "\n",
    "x = [1, 2, 3, 4, 5,6,7,8,9,10]\n",
    "plt.plot(x, f1_scores_roberta, label='F1 Score Roberta', marker='o')\n",
    "plt.plot(x, balanced_accuracies_roberta, label='Balanced Accuracy Roberta', marker='s')\n",
    "plt.plot(x, f1_scores_bert, label='F1 Score Bert', marker='^')\n",
    "plt.plot(x, balanced_accuracies_bert, label='Balanced Accuracy Bert', marker='*')\n",
    "plt.xlabel('Number of Epochs')\n",
    "plt.ylabel('Evaluation Metric')\n",
    "plt.title('F1 and Accuracy between Bert and Roberta to Predict Industry')\n",
    "plt.legend()\n",
    "plt.savefig('evaluation_IG.jpg', format='jpg', dpi=300)\n",
    "plt.show()"
   ]
  },
  {
   "cell_type": "markdown",
   "id": "ecf5b804-f280-4776-86c3-b68121d36aaf",
   "metadata": {},
   "source": [
    "# Prediction of TM dataset based on NICE classes"
   ]
  },
  {
   "cell_type": "code",
   "execution_count": 31,
   "id": "c6ba95ed-ac33-4753-9073-6b7cd446494a",
   "metadata": {},
   "outputs": [],
   "source": [
    "Sample_TM_800_Unique_Files = pd.read_excel('Sample_TM_800_Unique_Files.xlsx')"
   ]
  },
  {
   "cell_type": "code",
   "execution_count": 32,
   "id": "bca4659a-8843-4092-91e0-b0da047c8a3e",
   "metadata": {},
   "outputs": [],
   "source": [
    "Sample_TM_800_Unique_Files = Sample_TM_800_Unique_Files.dropna(subset=['TEXT']).reset_index(drop=True)"
   ]
  },
  {
   "cell_type": "code",
   "execution_count": 33,
   "id": "d524caa4-0389-497e-821e-2dc1a3d74553",
   "metadata": {},
   "outputs": [],
   "source": [
    "texts = Sample_TM_800_Unique_Files['TEXT'].tolist()"
   ]
  },
  {
   "cell_type": "code",
   "execution_count": 34,
   "id": "57d0cceb-3116-4641-9cb3-ae7d1f3f5c4b",
   "metadata": {},
   "outputs": [],
   "source": [
    "#tokenizer = AutoTokenizer.from_pretrained('bert-base-uncased')\n",
    "test_encodings = tokenizer(texts, truncation=True, padding=True, return_tensors='pt')"
   ]
  },
  {
   "cell_type": "code",
   "execution_count": 35,
   "id": "6e6ce767-d020-49d1-a06f-36ead325e67d",
   "metadata": {},
   "outputs": [],
   "source": [
    "device = torch.device('cuda' if torch.cuda.is_available() else 'cpu')\n",
    "test_encodings = {key: val.to(device) for key, val in test_encodings.items()}"
   ]
  },
  {
   "cell_type": "code",
   "execution_count": 37,
   "id": "0ef8cfd8-43d5-4e07-b2fb-0b91a85f1f40",
   "metadata": {},
   "outputs": [],
   "source": [
    "test_dataset = TensorDataset(test_encodings['input_ids'], \n",
    "                              #test_encodings['token_type_ids'], \n",
    "                              test_encodings['attention_mask']\n",
    "                              )"
   ]
  },
  {
   "cell_type": "code",
   "execution_count": 38,
   "id": "73282b0a-3908-4b45-a13a-6ed373272074",
   "metadata": {},
   "outputs": [],
   "source": [
    "batch_size = 16\n",
    "\n",
    "# Create DataLoader\n",
    "test_dataloader = DataLoader(test_dataset, batch_size=batch_size, shuffle=False)"
   ]
  },
  {
   "cell_type": "code",
   "execution_count": 40,
   "id": "44a99e60-aaa5-4e50-9517-4f75a7763e3b",
   "metadata": {},
   "outputs": [],
   "source": [
    "model.eval()\n",
    "test_preds = []\n",
    "\n",
    "# Iterate through the test DataLoader\n",
    "with torch.no_grad():\n",
    "    for batch in test_dataloader:\n",
    "        input_ids,  attention_mask = batch  # adjust based on your input features\n",
    "\n",
    "        # Make predictions using the model\n",
    "        outputs = model(input_ids,  attention_mask=attention_mask)\n",
    "        logits = outputs.logits\n",
    "\n",
    "        # Assuming a classification task, get predicted class labels\n",
    "        preds = torch.argmax(logits, dim=1).cpu().numpy()\n",
    "        test_preds.extend(preds)"
   ]
  },
  {
   "cell_type": "code",
   "execution_count": 41,
   "id": "f3d5bae4-1a60-454a-9248-2ccc6be185c0",
   "metadata": {},
   "outputs": [],
   "source": [
    "Sample_TM_800_Unique_Files['industry_group_label_pred'] = test_preds"
   ]
  },
  {
   "cell_type": "code",
   "execution_count": 42,
   "id": "5c13a579-fb94-41c3-aca6-a66964583835",
   "metadata": {},
   "outputs": [],
   "source": [
    "def map_values(value):\n",
    "    return mapping_IG_reverse.get(value, value)  # Use get to handle cases where the key is not in the dictionary\n",
    "\n",
    "# Apply the function to create the new column\n",
    "Sample_TM_800_Unique_Files['industry_group_pred'] = Sample_TM_800_Unique_Files['industry_group_label_pred'].apply(map_values)"
   ]
  },
  {
   "cell_type": "code",
   "execution_count": 322,
   "id": "add4ae50-f441-426e-b520-6307901396b7",
   "metadata": {},
   "outputs": [],
   "source": [
    "Sample_TM_800_Unique_Files_BERT_PREDICT = pd.read_csv('Sample_TM_800_Unique_Files_BERT_PREDICT.csv')"
   ]
  },
  {
   "cell_type": "code",
   "execution_count": 325,
   "id": "288170c5-c62d-445d-8c1d-404352c9dd1a",
   "metadata": {},
   "outputs": [],
   "source": [
    "Sample_TM_800_Unique_Files['industry_group_bert_pred'] = list(Sample_TM_800_Unique_Files_BERT_PREDICT['industry_group_pred'])"
   ]
  },
  {
   "cell_type": "code",
   "execution_count": 327,
   "id": "01d1fe47-543a-47df-b9c1-d466c17e6d79",
   "metadata": {},
   "outputs": [],
   "source": [
    "Sample_TM_800_Unique_Files.rename(columns={'industry_group_pred': 'industry_group_roberta_pred'}, inplace=True)"
   ]
  },
  {
   "cell_type": "code",
   "execution_count": 330,
   "id": "7fc12e8f-e7f7-4f8b-be90-01ca359acc5a",
   "metadata": {},
   "outputs": [],
   "source": [
    "Sample_TM_800_Unique_Files_select = Sample_TM_800_Unique_Files[['UNIQUE_FILE_NUMBER',\n",
    " 'NICE_CLASS_CODE',\n",
    " 'LEGAL_NAME_UPD',\n",
    " \n",
    " 'NAICS Marianne',\n",
    " 'NAICS Sebastien',\n",
    " \n",
    " 'TEXT',\n",
    " \n",
    " 'industry_group_roberta_pred',\n",
    " 'industry_group_bert_pred']]"
   ]
  },
  {
   "cell_type": "code",
   "execution_count": 332,
   "id": "8bb48728-573c-475d-80e1-11936ffffee2",
   "metadata": {},
   "outputs": [],
   "source": [
    "Sample_TM_800_Unique_Files_select.to_csv('Sample_TM_800_Unique_Files_BERT_ROBERTA_PREDICT.csv', index=False)"
   ]
  },
  {
   "cell_type": "code",
   "execution_count": 483,
   "id": "5cc7b4fb-6c17-40e5-95e5-41f1e83b24a6",
   "metadata": {},
   "outputs": [
    {
     "data": {
      "text/html": [
       "<div>\n",
       "<style scoped>\n",
       "    .dataframe tbody tr th:only-of-type {\n",
       "        vertical-align: middle;\n",
       "    }\n",
       "\n",
       "    .dataframe tbody tr th {\n",
       "        vertical-align: top;\n",
       "    }\n",
       "\n",
       "    .dataframe thead th {\n",
       "        text-align: right;\n",
       "    }\n",
       "</style>\n",
       "<table border=\"1\" class=\"dataframe\">\n",
       "  <thead>\n",
       "    <tr style=\"text-align: right;\">\n",
       "      <th></th>\n",
       "      <th>UNIQUE_FILE_NUMBER</th>\n",
       "      <th>NICE_CLASS_CODE</th>\n",
       "      <th>LEGAL_NAME_UPD</th>\n",
       "      <th>NAICS Marianne</th>\n",
       "      <th>NAICS Sebastien</th>\n",
       "      <th>TEXT</th>\n",
       "      <th>industry_group_roberta_pred</th>\n",
       "      <th>industry_group_bert_pred</th>\n",
       "    </tr>\n",
       "  </thead>\n",
       "  <tbody>\n",
       "    <tr>\n",
       "      <th>20</th>\n",
       "      <td>2151540_0</td>\n",
       "      <td>25</td>\n",
       "      <td>12783185 canada inc</td>\n",
       "      <td>414110.0</td>\n",
       "      <td>458114</td>\n",
       "      <td>Clothing, namely casual clothing, t-shirts, sh...</td>\n",
       "      <td>3152</td>\n",
       "      <td>3152</td>\n",
       "    </tr>\n",
       "    <tr>\n",
       "      <th>21</th>\n",
       "      <td>2151540_0</td>\n",
       "      <td>28</td>\n",
       "      <td>12783185 canada inc</td>\n",
       "      <td>414460.0</td>\n",
       "      <td>459120</td>\n",
       "      <td>Action skill games; action figures; board game...</td>\n",
       "      <td>3399</td>\n",
       "      <td>3399</td>\n",
       "    </tr>\n",
       "    <tr>\n",
       "      <th>22</th>\n",
       "      <td>2170765_0</td>\n",
       "      <td>9</td>\n",
       "      <td>12783185 canada inc</td>\n",
       "      <td>541514.0</td>\n",
       "      <td>518210</td>\n",
       "      <td>Downloadable computer software for accessing d...</td>\n",
       "      <td>3346</td>\n",
       "      <td>5182</td>\n",
       "    </tr>\n",
       "    <tr>\n",
       "      <th>23</th>\n",
       "      <td>2170765_0</td>\n",
       "      <td>41</td>\n",
       "      <td>12783185 canada inc</td>\n",
       "      <td>459120.0</td>\n",
       "      <td>449212</td>\n",
       "      <td>Organization of e-sports competitions; enterta...</td>\n",
       "      <td>5121</td>\n",
       "      <td>5162</td>\n",
       "    </tr>\n",
       "    <tr>\n",
       "      <th>24</th>\n",
       "      <td>2170765_0</td>\n",
       "      <td>25</td>\n",
       "      <td>12783185 canada inc</td>\n",
       "      <td>414110.0</td>\n",
       "      <td>458114</td>\n",
       "      <td>Clothing, namely casual clothing, t-shirts, sh...</td>\n",
       "      <td>3152</td>\n",
       "      <td>3152</td>\n",
       "    </tr>\n",
       "    <tr>\n",
       "      <th>25</th>\n",
       "      <td>2170765_0</td>\n",
       "      <td>28</td>\n",
       "      <td>12783185 canada inc</td>\n",
       "      <td>414460.0</td>\n",
       "      <td>459120</td>\n",
       "      <td>Action skill games; action figures; board game...</td>\n",
       "      <td>3399</td>\n",
       "      <td>3399</td>\n",
       "    </tr>\n",
       "    <tr>\n",
       "      <th>26</th>\n",
       "      <td>2130533_0</td>\n",
       "      <td>42</td>\n",
       "      <td>camber aviation management ltd</td>\n",
       "      <td>541330.0</td>\n",
       "      <td>541330</td>\n",
       "      <td>aeronautical engineering; technical research i...</td>\n",
       "      <td>5417</td>\n",
       "      <td>5417</td>\n",
       "    </tr>\n",
       "    <tr>\n",
       "      <th>27</th>\n",
       "      <td>2130713_0</td>\n",
       "      <td>36</td>\n",
       "      <td>emx royalty corporation</td>\n",
       "      <td>213119.0</td>\n",
       "      <td>213119</td>\n",
       "      <td>Investing in and acquiring mining companies, o...</td>\n",
       "      <td>5222</td>\n",
       "      <td>5239</td>\n",
       "    </tr>\n",
       "    <tr>\n",
       "      <th>28</th>\n",
       "      <td>2130713_0</td>\n",
       "      <td>37</td>\n",
       "      <td>emx royalty corporation</td>\n",
       "      <td>213119.0</td>\n",
       "      <td>213119</td>\n",
       "      <td>Mine development services; mineral extraction ...</td>\n",
       "      <td>2131</td>\n",
       "      <td>2131</td>\n",
       "    </tr>\n",
       "    <tr>\n",
       "      <th>29</th>\n",
       "      <td>2130713_0</td>\n",
       "      <td>42</td>\n",
       "      <td>emx royalty corporation</td>\n",
       "      <td>213119.0</td>\n",
       "      <td>213119</td>\n",
       "      <td>Mineral exploration.</td>\n",
       "      <td>2131</td>\n",
       "      <td>2131</td>\n",
       "    </tr>\n",
       "  </tbody>\n",
       "</table>\n",
       "</div>"
      ],
      "text/plain": [
       "   UNIQUE_FILE_NUMBER  NICE_CLASS_CODE                  LEGAL_NAME_UPD  \\\n",
       "20          2151540_0               25             12783185 canada inc   \n",
       "21          2151540_0               28             12783185 canada inc   \n",
       "22          2170765_0                9             12783185 canada inc   \n",
       "23          2170765_0               41             12783185 canada inc   \n",
       "24          2170765_0               25             12783185 canada inc   \n",
       "25          2170765_0               28             12783185 canada inc   \n",
       "26          2130533_0               42  camber aviation management ltd   \n",
       "27          2130713_0               36         emx royalty corporation   \n",
       "28          2130713_0               37         emx royalty corporation   \n",
       "29          2130713_0               42         emx royalty corporation   \n",
       "\n",
       "    NAICS Marianne NAICS Sebastien  \\\n",
       "20        414110.0          458114   \n",
       "21        414460.0         459120    \n",
       "22        541514.0          518210   \n",
       "23        459120.0         449212    \n",
       "24        414110.0          458114   \n",
       "25        414460.0         459120    \n",
       "26        541330.0          541330   \n",
       "27        213119.0          213119   \n",
       "28        213119.0          213119   \n",
       "29        213119.0          213119   \n",
       "\n",
       "                                                 TEXT  \\\n",
       "20  Clothing, namely casual clothing, t-shirts, sh...   \n",
       "21  Action skill games; action figures; board game...   \n",
       "22  Downloadable computer software for accessing d...   \n",
       "23  Organization of e-sports competitions; enterta...   \n",
       "24  Clothing, namely casual clothing, t-shirts, sh...   \n",
       "25  Action skill games; action figures; board game...   \n",
       "26  aeronautical engineering; technical research i...   \n",
       "27  Investing in and acquiring mining companies, o...   \n",
       "28  Mine development services; mineral extraction ...   \n",
       "29                               Mineral exploration.   \n",
       "\n",
       "    industry_group_roberta_pred  industry_group_bert_pred  \n",
       "20                         3152                      3152  \n",
       "21                         3399                      3399  \n",
       "22                         3346                      5182  \n",
       "23                         5121                      5162  \n",
       "24                         3152                      3152  \n",
       "25                         3399                      3399  \n",
       "26                         5417                      5417  \n",
       "27                         5222                      5239  \n",
       "28                         2131                      2131  \n",
       "29                         2131                      2131  "
      ]
     },
     "execution_count": 483,
     "metadata": {},
     "output_type": "execute_result"
    }
   ],
   "source": [
    "Sample_TM_800_Unique_Files_select[20:30]"
   ]
  },
  {
   "cell_type": "code",
   "execution_count": null,
   "id": "3dce7cc8-410b-4d6d-9055-a26a9c180887",
   "metadata": {},
   "outputs": [],
   "source": [
    "Roberta = 11,12,18,19,20,22,26,30*,34*,37,162,87**,85**,99**,104**,106,\n",
    "bert = 15,19,23,27**"
   ]
  },
  {
   "cell_type": "code",
   "execution_count": 488,
   "id": "7e7d5f82-8a57-458d-afc0-77a54cde4dc6",
   "metadata": {},
   "outputs": [
    {
     "data": {
      "text/plain": [
       "'Clothing, namely casual clothing, t-shirts, shirts, sweatshirts, hoodies, hats, dresses, skirts, pants, jackets, scarves, toques, coats, undergarments, belts, tank tops, socks and gloves'"
      ]
     },
     "execution_count": 488,
     "metadata": {},
     "output_type": "execute_result"
    }
   ],
   "source": [
    "Sample_TM_800_Unique_Files_select['TEXT'][24]"
   ]
  },
  {
   "cell_type": "code",
   "execution_count": 479,
   "id": "ddfcbbd0-7490-4edb-954c-215546083e40",
   "metadata": {},
   "outputs": [
    {
     "name": "stdout",
     "output_type": "stream",
     "text": [
      "Social advocacy organizations\n"
     ]
    }
   ],
   "source": [
    "IG = 8133\n",
    "for i in range(len(NAICS_2022[NAICS_2022.INDUSTRY_GROUP == IG]['Class title'].reset_index(drop = True))):\n",
    "    print(NAICS_2022[NAICS_2022.INDUSTRY_GROUP == IG]['Class title'].reset_index(drop = True)[i])"
   ]
  },
  {
   "cell_type": "code",
   "execution_count": 480,
   "id": "2876b30e-bcf5-4e14-824e-53daeffc49ba",
   "metadata": {},
   "outputs": [
    {
     "name": "stdout",
     "output_type": "stream",
     "text": [
      "This Canadian industry comprises establishments primarily engaged in promoting a particular social or political cause intended to benefit a broad or specific constituency.\n"
     ]
    }
   ],
   "source": [
    "for i in range(len(NAICS_2022[NAICS_2022.INDUSTRY_GROUP == IG]['Class definition'].reset_index(drop = True))):\n",
    "    print(NAICS_2022[NAICS_2022.INDUSTRY_GROUP == IG]['Class definition'].reset_index(drop = True)[i])"
   ]
  },
  {
   "cell_type": "code",
   "execution_count": 481,
   "id": "588edcbc-0dcc-47ba-bbdb-b003b295cd8f",
   "metadata": {},
   "outputs": [
    {
     "name": "stdout",
     "output_type": "stream",
     "text": [
      "['accident prevention association', ' advocacy groups', ' animal rights organizations', ' antipoverty advocacy organizations', ' associations for retired persons, advocacy', ' aviation club, advocacy', ' civil liberties groups', ' community action advocacy groups', ' conservation advocacy groups', ' drug abuse prevention advocacy organizations', ' drunk driving prevention advocacy organizations', ' environmental advocacy groups', ' firearms advocacy organizations', ' gun control organizations', ' human rights advocacy organizations', ' humane society (advocacy group)', ' intellectually and developmentally disabled advocacy groups', ' natural resource preservation organizations', ' neighbourhood development advocacy groups', ' organizations for persons with developmental disabilities', ' peace advocacy groups', ' public interest groups (e.g., environment, conservation, human rights, wildlife)', ' public safety advocacy groups', ' public safety promotion association', ' services to promote hunting and trapping', ' social change organizations', ' social service advocacy organizations', ' soliciting contributions or selling memberships for the support of their activities', ' substance abuse prevention advocacy groups', ' taxpayers advocacy organizations', \" taxpayers' associations\", ' temperance organizations', ' tenant advocacy associations', \" veterans' rights associations\", ' wildlife preservation advocacy organizations', ' world peace and understanding advocacy groups', ' zionist organization']\n"
     ]
    }
   ],
   "source": [
    "for i in range(len(NAICS_2022[NAICS_2022.INDUSTRY_GROUP == IG]['EXAMPLE_SPLIT'].reset_index(drop = True))):\n",
    "    print(NAICS_2022[NAICS_2022.INDUSTRY_GROUP == IG]['EXAMPLE_SPLIT'].reset_index(drop = True)[i])"
   ]
  }
 ],
 "metadata": {
  "kernelspec": {
   "display_name": "Python 3 (ipykernel)",
   "language": "python",
   "name": "python3"
  },
  "language_info": {
   "codemirror_mode": {
    "name": "ipython",
    "version": 3
   },
   "file_extension": ".py",
   "mimetype": "text/x-python",
   "name": "python",
   "nbconvert_exporter": "python",
   "pygments_lexer": "ipython3",
   "version": "3.11.6"
  }
 },
 "nbformat": 4,
 "nbformat_minor": 5
}
