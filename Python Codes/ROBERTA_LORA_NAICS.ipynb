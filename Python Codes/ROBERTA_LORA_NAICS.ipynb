{
 "cells": [
  {
   "cell_type": "code",
   "execution_count": 1,
   "metadata": {},
   "outputs": [],
   "source": [
    "import torch\n",
    "from torch.utils.data import DataLoader\n",
    "from transformers import AutoTokenizer, AutoModelForSequenceClassification, AdamW\n",
    "from sklearn.model_selection import train_test_split\n",
    "from sklearn.metrics import accuracy_score\n",
    "#from google.colab import drive\n",
    "from transformers import BertForSequenceClassification\n",
    "from peft import LoraConfig, TaskType\n",
    "from peft import get_peft_model\n",
    "from tqdm import tqdm\n",
    "import pandas as pd"
   ]
  },
  {
   "cell_type": "code",
   "execution_count": 2,
   "metadata": {},
   "outputs": [],
   "source": [
    "NAICS_2022 = pd.read_csv('NAICS_2022.csv')\n",
    "\n",
    "NAICS_2022['INDUSTRY_GROUP'] = NAICS_2022['Code']//100\n",
    "\n",
    "NAICS_2022 = NAICS_2022.dropna(subset=['EXAMPLE']).reset_index(drop=True)\n",
    "\n",
    "# We define a function called extract_examples whose input is a text and output is a list of words\n",
    "# which are extracted from that text. After doing some preprocess on the text, we split the text by semi-colon.\n",
    "\n",
    "def extract_examples(text):\n",
    "    # Lowercase the text\n",
    "    text = text.lower()\n",
    "    text = text.replace('for example, ','')\n",
    "    \n",
    "    # Remove punctuation marks\n",
    "    #text = ''.join(char for char in text if char not in punctuation_without_semicolon)\n",
    "    \n",
    "    # Remove stopwords\n",
    "    words = text.split()\n",
    "    #words = [word for word in words if word not in stopwords]\n",
    "    \n",
    "    for i in range(len(words)):\n",
    "        if \";\" in words[i]:\n",
    "            word = words[i].replace(\";\", \"\")\n",
    "            stemmed_word = word + \";\"\n",
    "            words[i] = stemmed_word        \n",
    "        #else:\n",
    "         #   words[i] = stemmer.stem(words[i])\n",
    "    \n",
    "    \n",
    "    \n",
    "    # Stem the words\n",
    "    #words = [stemmer.stem(word) for word in words]\n",
    "    \n",
    "    # Join the words back into a string\n",
    "    text = ' '.join(words)\n",
    "    \n",
    "    list_words = text.rstrip('; ').split(';')\n",
    "    # Use Yake to extract keywords from the preprocessed text\n",
    "    #keywords = custom_kw_extractor.extract_keywords(text)\n",
    "    #keywords = [t[0] for t in keywords]\n",
    "    #if len(keywords) != 1:\n",
    "       # keywords = [t for t in keywords if len(t.split()) > 1]\n",
    "        \n",
    "    #keywords = [t[0] for t in keywords if len(t[0].split()) > 1]\n",
    "    \n",
    "    return list_words\n",
    "\n",
    "\n",
    "# Here we apply the extract_examples function on the EXAMPLE column of the dataset. \n",
    "# EXAMPLE column comprises of many examples which are separated by semi-colon.\n",
    "\n",
    "NAICS_2022['EXAMPLE_SPLIT'] = NAICS_2022['EXAMPLE'].apply(lambda x: extract_examples(x))\n",
    "\n",
    "\n",
    "# Labeling the INDUSTRY_GROUP column: we have 312 classes in the industry group level (first 4 digits of NAICS code)\n",
    "# and we label them from 0 to 311.\n",
    "\n",
    "INPUT_DF = NAICS_2022.copy()\n",
    "\n",
    "\n",
    "INPUT_DF_EXPLODE = INPUT_DF.explode('EXAMPLE_SPLIT').reset_index(drop = True)\n",
    "\n",
    "value_counts = INPUT_DF_EXPLODE['Code'].value_counts()\n",
    "# Get the values that occur more than once\n",
    "values_to_keep = value_counts[value_counts > 1].index\n",
    "\n",
    "# Filter the DataFrame to keep only rows where the value in 'a' occurs more than once\n",
    "INPUT_DF_EXPLODE = INPUT_DF_EXPLODE[INPUT_DF_EXPLODE['Code'].isin(values_to_keep)].reset_index(drop = True)\n",
    "\n",
    "mapping_IG = {sec:idx for idx, sec in enumerate(list(INPUT_DF_EXPLODE.INDUSTRY_GROUP.unique()))}\n",
    "INPUT_DF_EXPLODE['industry_group_label'] = INPUT_DF_EXPLODE['INDUSTRY_GROUP'].map(mapping_IG)\n",
    "\n",
    "mapping_NAICS = {sec:idx for idx, sec in enumerate(list(INPUT_DF_EXPLODE.Code.unique()))}\n",
    "INPUT_DF_EXPLODE['naics_label'] = INPUT_DF_EXPLODE['Code'].map(mapping_NAICS)\n",
    "\n",
    "mapping_IG_reverse = {v:k for k, v in mapping_IG.items()}\n",
    "mapping_NAICS_reverse = {v:k for k, v in mapping_NAICS.items()}\n",
    "\n",
    "INPUT_DF_EXPLODE_SELECT = INPUT_DF_EXPLODE[['Class definition','EXAMPLE_SPLIT','industry_group_label','naics_label']]\n",
    "\n"
   ]
  },
  {
   "cell_type": "code",
   "execution_count": 3,
   "metadata": {},
   "outputs": [
    {
     "data": {
      "text/html": [
       "<div>\n",
       "<style scoped>\n",
       "    .dataframe tbody tr th:only-of-type {\n",
       "        vertical-align: middle;\n",
       "    }\n",
       "\n",
       "    .dataframe tbody tr th {\n",
       "        vertical-align: top;\n",
       "    }\n",
       "\n",
       "    .dataframe thead th {\n",
       "        text-align: right;\n",
       "    }\n",
       "</style>\n",
       "<table border=\"1\" class=\"dataframe\">\n",
       "  <thead>\n",
       "    <tr style=\"text-align: right;\">\n",
       "      <th></th>\n",
       "      <th>Level</th>\n",
       "      <th>Hierarchical structure</th>\n",
       "      <th>Code</th>\n",
       "      <th>Parent</th>\n",
       "      <th>Class title</th>\n",
       "      <th>Superscript</th>\n",
       "      <th>Class definition</th>\n",
       "      <th>EXAMPLE</th>\n",
       "      <th>INDUSTRY_GROUP</th>\n",
       "      <th>EXAMPLE_SPLIT</th>\n",
       "    </tr>\n",
       "  </thead>\n",
       "  <tbody>\n",
       "    <tr>\n",
       "      <th>0</th>\n",
       "      <td>5</td>\n",
       "      <td>Canadian industry</td>\n",
       "      <td>111110</td>\n",
       "      <td>11111</td>\n",
       "      <td>Soybean farming</td>\n",
       "      <td>NaN</td>\n",
       "      <td>This Canadian industry comprises establishment...</td>\n",
       "      <td>soybean farming, field and seed production; s...</td>\n",
       "      <td>1111</td>\n",
       "      <td>[soybean farming, field and seed production,  ...</td>\n",
       "    </tr>\n",
       "    <tr>\n",
       "      <th>1</th>\n",
       "      <td>5</td>\n",
       "      <td>Canadian industry</td>\n",
       "      <td>111120</td>\n",
       "      <td>11112</td>\n",
       "      <td>Oilseed (except soybean) farming</td>\n",
       "      <td>US</td>\n",
       "      <td>This Canadian industry comprises establishment...</td>\n",
       "      <td>canola (rapeseed) farming; linseed (flaxseed)...</td>\n",
       "      <td>1111</td>\n",
       "      <td>[canola (rapeseed) farming,  linseed (flaxseed...</td>\n",
       "    </tr>\n",
       "    <tr>\n",
       "      <th>2</th>\n",
       "      <td>5</td>\n",
       "      <td>Canadian industry</td>\n",
       "      <td>111130</td>\n",
       "      <td>11113</td>\n",
       "      <td>Dry pea and bean farming</td>\n",
       "      <td>US</td>\n",
       "      <td>This Canadian industry comprises establishment...</td>\n",
       "      <td>bean or pea farming (field crop); dry bean fa...</td>\n",
       "      <td>1111</td>\n",
       "      <td>[bean or pea farming (field crop),  dry bean f...</td>\n",
       "    </tr>\n",
       "    <tr>\n",
       "      <th>3</th>\n",
       "      <td>5</td>\n",
       "      <td>Canadian industry</td>\n",
       "      <td>111140</td>\n",
       "      <td>11114</td>\n",
       "      <td>Wheat farming</td>\n",
       "      <td>NaN</td>\n",
       "      <td>This Canadian industry comprises establishment...</td>\n",
       "      <td>wheat (i.e., spring, winter and durum) growin...</td>\n",
       "      <td>1111</td>\n",
       "      <td>[wheat (i.e., spring, winter and durum) growin...</td>\n",
       "    </tr>\n",
       "    <tr>\n",
       "      <th>4</th>\n",
       "      <td>5</td>\n",
       "      <td>Canadian industry</td>\n",
       "      <td>111150</td>\n",
       "      <td>11115</td>\n",
       "      <td>Corn farming</td>\n",
       "      <td>US</td>\n",
       "      <td>This Canadian industry comprises establishment...</td>\n",
       "      <td>corn (except sweet corn) farming, field and s...</td>\n",
       "      <td>1111</td>\n",
       "      <td>[corn (except sweet corn) farming, field and s...</td>\n",
       "    </tr>\n",
       "    <tr>\n",
       "      <th>...</th>\n",
       "      <td>...</td>\n",
       "      <td>...</td>\n",
       "      <td>...</td>\n",
       "      <td>...</td>\n",
       "      <td>...</td>\n",
       "      <td>...</td>\n",
       "      <td>...</td>\n",
       "      <td>...</td>\n",
       "      <td>...</td>\n",
       "      <td>...</td>\n",
       "    </tr>\n",
       "    <tr>\n",
       "      <th>918</th>\n",
       "      <td>5</td>\n",
       "      <td>Canadian industry</td>\n",
       "      <td>913910</td>\n",
       "      <td>91391</td>\n",
       "      <td>Other local, municipal and regional public adm...</td>\n",
       "      <td>CAN</td>\n",
       "      <td>This Canadian industry comprises establishment...</td>\n",
       "      <td>adult education program, local; amusement tax...</td>\n",
       "      <td>9139</td>\n",
       "      <td>[adult education program, local,  amusement ta...</td>\n",
       "    </tr>\n",
       "    <tr>\n",
       "      <th>919</th>\n",
       "      <td>5</td>\n",
       "      <td>Canadian industry</td>\n",
       "      <td>914111</td>\n",
       "      <td>91411</td>\n",
       "      <td>First Nations public administration</td>\n",
       "      <td>CAN</td>\n",
       "      <td>This Canadian industry comprises establishment...</td>\n",
       "      <td>First Nations Band Council; First Nations Sel...</td>\n",
       "      <td>9141</td>\n",
       "      <td>[first nations band council,  first nations se...</td>\n",
       "    </tr>\n",
       "    <tr>\n",
       "      <th>920</th>\n",
       "      <td>5</td>\n",
       "      <td>Canadian industry</td>\n",
       "      <td>914112</td>\n",
       "      <td>91411</td>\n",
       "      <td>MÃ©tis public administration</td>\n",
       "      <td>CAN</td>\n",
       "      <td>This Canadian industry comprises establishment...</td>\n",
       "      <td>Métis Self-Government;</td>\n",
       "      <td>9141</td>\n",
       "      <td>[métis self-government]</td>\n",
       "    </tr>\n",
       "    <tr>\n",
       "      <th>921</th>\n",
       "      <td>5</td>\n",
       "      <td>Canadian industry</td>\n",
       "      <td>914113</td>\n",
       "      <td>91411</td>\n",
       "      <td>Inuit public administration</td>\n",
       "      <td>CAN</td>\n",
       "      <td>This Canadian industry comprises establishment...</td>\n",
       "      <td>Inuit Self-Government;</td>\n",
       "      <td>9141</td>\n",
       "      <td>[inuit self-government]</td>\n",
       "    </tr>\n",
       "    <tr>\n",
       "      <th>922</th>\n",
       "      <td>5</td>\n",
       "      <td>Canadian industry</td>\n",
       "      <td>919110</td>\n",
       "      <td>91911</td>\n",
       "      <td>International and other extra-territorial publ...</td>\n",
       "      <td>CAN</td>\n",
       "      <td>This Canadian industry comprises establishment...</td>\n",
       "      <td>African Union; Arab League; consular service,...</td>\n",
       "      <td>9191</td>\n",
       "      <td>[african union,  arab league,  consular servic...</td>\n",
       "    </tr>\n",
       "  </tbody>\n",
       "</table>\n",
       "<p>923 rows × 10 columns</p>\n",
       "</div>"
      ],
      "text/plain": [
       "     Level Hierarchical structure    Code  Parent   \\\n",
       "0        5      Canadian industry  111110    11111   \n",
       "1        5      Canadian industry  111120    11112   \n",
       "2        5      Canadian industry  111130    11113   \n",
       "3        5      Canadian industry  111140    11114   \n",
       "4        5      Canadian industry  111150    11115   \n",
       "..     ...                    ...     ...      ...   \n",
       "918      5      Canadian industry  913910    91391   \n",
       "919      5      Canadian industry  914111    91411   \n",
       "920      5      Canadian industry  914112    91411   \n",
       "921      5      Canadian industry  914113    91411   \n",
       "922      5      Canadian industry  919110    91911   \n",
       "\n",
       "                                           Class title Superscript  \\\n",
       "0                                      Soybean farming         NaN   \n",
       "1                     Oilseed (except soybean) farming          US   \n",
       "2                             Dry pea and bean farming          US   \n",
       "3                                        Wheat farming         NaN   \n",
       "4                                         Corn farming          US   \n",
       "..                                                 ...         ...   \n",
       "918  Other local, municipal and regional public adm...         CAN   \n",
       "919                First Nations public administration         CAN   \n",
       "920                       MÃ©tis public administration         CAN   \n",
       "921                        Inuit public administration         CAN   \n",
       "922  International and other extra-territorial publ...         CAN   \n",
       "\n",
       "                                      Class definition  \\\n",
       "0    This Canadian industry comprises establishment...   \n",
       "1    This Canadian industry comprises establishment...   \n",
       "2    This Canadian industry comprises establishment...   \n",
       "3    This Canadian industry comprises establishment...   \n",
       "4    This Canadian industry comprises establishment...   \n",
       "..                                                 ...   \n",
       "918  This Canadian industry comprises establishment...   \n",
       "919  This Canadian industry comprises establishment...   \n",
       "920  This Canadian industry comprises establishment...   \n",
       "921  This Canadian industry comprises establishment...   \n",
       "922  This Canadian industry comprises establishment...   \n",
       "\n",
       "                                               EXAMPLE  INDUSTRY_GROUP  \\\n",
       "0     soybean farming, field and seed production; s...            1111   \n",
       "1     canola (rapeseed) farming; linseed (flaxseed)...            1111   \n",
       "2     bean or pea farming (field crop); dry bean fa...            1111   \n",
       "3     wheat (i.e., spring, winter and durum) growin...            1111   \n",
       "4     corn (except sweet corn) farming, field and s...            1111   \n",
       "..                                                 ...             ...   \n",
       "918   adult education program, local; amusement tax...            9139   \n",
       "919   First Nations Band Council; First Nations Sel...            9141   \n",
       "920                            Métis Self-Government;             9141   \n",
       "921                            Inuit Self-Government;             9141   \n",
       "922   African Union; Arab League; consular service,...            9191   \n",
       "\n",
       "                                         EXAMPLE_SPLIT  \n",
       "0    [soybean farming, field and seed production,  ...  \n",
       "1    [canola (rapeseed) farming,  linseed (flaxseed...  \n",
       "2    [bean or pea farming (field crop),  dry bean f...  \n",
       "3    [wheat (i.e., spring, winter and durum) growin...  \n",
       "4    [corn (except sweet corn) farming, field and s...  \n",
       "..                                                 ...  \n",
       "918  [adult education program, local,  amusement ta...  \n",
       "919  [first nations band council,  first nations se...  \n",
       "920                            [métis self-government]  \n",
       "921                            [inuit self-government]  \n",
       "922  [african union,  arab league,  consular servic...  \n",
       "\n",
       "[923 rows x 10 columns]"
      ]
     },
     "execution_count": 3,
     "metadata": {},
     "output_type": "execute_result"
    }
   ],
   "source": [
    "NAICS_2022"
   ]
  },
  {
   "cell_type": "code",
   "execution_count": 4,
   "metadata": {},
   "outputs": [
    {
     "name": "stdout",
     "output_type": "stream",
     "text": [
      "GPU is available!\n"
     ]
    }
   ],
   "source": [
    "if torch.cuda.is_available():\n",
    "    print(\"GPU is available!\")\n",
    "else:\n",
    "    print(\"GPU is not available. Using CPU.\")"
   ]
  },
  {
   "cell_type": "code",
   "execution_count": 5,
   "metadata": {},
   "outputs": [
    {
     "data": {
      "text/plain": [
       "19138"
      ]
     },
     "execution_count": 5,
     "metadata": {},
     "output_type": "execute_result"
    }
   ],
   "source": [
    "len(INPUT_DF_EXPLODE_SELECT)"
   ]
  },
  {
   "cell_type": "code",
   "execution_count": 6,
   "metadata": {},
   "outputs": [],
   "source": [
    "X_train, X_valid, y_train, y_valid = train_test_split(\n",
    "    INPUT_DF_EXPLODE_SELECT['EXAMPLE_SPLIT'],\n",
    "    INPUT_DF_EXPLODE_SELECT['naics_label'],\n",
    "    test_size=0.1,\n",
    "    random_state=42,\n",
    "    stratify=INPUT_DF_EXPLODE_SELECT['naics_label']\n",
    ")"
   ]
  },
  {
   "cell_type": "code",
   "execution_count": 7,
   "metadata": {},
   "outputs": [],
   "source": [
    "roberta_checkpoint = \"roberta-large\"\n",
    "roberta_checkpoint = \"roberta-base\"\n",
    "tokenizer = AutoTokenizer.from_pretrained(roberta_checkpoint, add_prefix_space=True)\n",
    "train_encodings = tokenizer(list(X_train), truncation=True, padding=True, return_tensors='pt')\n",
    "valid_encodings = tokenizer(list(X_valid), truncation=True, padding=True, return_tensors='pt')"
   ]
  },
  {
   "cell_type": "code",
   "execution_count": 8,
   "metadata": {},
   "outputs": [],
   "source": [
    "# Convert labels to tensors\n",
    "train_labels = torch.tensor(list(y_train))\n",
    "valid_labels = torch.tensor(list(y_valid))\n"
   ]
  },
  {
   "cell_type": "code",
   "execution_count": 9,
   "metadata": {},
   "outputs": [],
   "source": [
    "device = torch.device('cuda' if torch.cuda.is_available() else 'cpu')\n",
    "#device = 'cpu'\n",
    "train_encodings = {key: val.to(device) for key, val in train_encodings.items()}\n",
    "valid_encodings = {key: val.to(device) for key, val in valid_encodings.items()}\n",
    "train_labels = train_labels.to(device)\n",
    "valid_labels = valid_labels.to(device)"
   ]
  },
  {
   "cell_type": "code",
   "execution_count": 10,
   "metadata": {},
   "outputs": [
    {
     "data": {
      "text/plain": [
       "{'input_ids': tensor([[    0,  5671, 10867,  ...,     1,     1,     1],\n",
       "         [    0,   786,    12,  ...,     1,     1,     1],\n",
       "         [    0,  4049,   785,  ...,     1,     1,     1],\n",
       "         ...,\n",
       "         [    0, 27402, 12868,  ...,     1,     1,     1],\n",
       "         [    0,  1123,   516,  ...,     1,     1,     1],\n",
       "         [    0,  6185,  8671,  ...,     1,     1,     1]], device='cuda:0'),\n",
       " 'attention_mask': tensor([[1, 1, 1,  ..., 0, 0, 0],\n",
       "         [1, 1, 1,  ..., 0, 0, 0],\n",
       "         [1, 1, 1,  ..., 0, 0, 0],\n",
       "         ...,\n",
       "         [1, 1, 1,  ..., 0, 0, 0],\n",
       "         [1, 1, 1,  ..., 0, 0, 0],\n",
       "         [1, 1, 1,  ..., 0, 0, 0]], device='cuda:0')}"
      ]
     },
     "execution_count": 10,
     "metadata": {},
     "output_type": "execute_result"
    }
   ],
   "source": [
    "train_encodings"
   ]
  },
  {
   "cell_type": "code",
   "execution_count": 11,
   "metadata": {},
   "outputs": [],
   "source": [
    "from torch.utils.data import TensorDataset, DataLoader\n",
    "\n",
    "# Assuming train_encoding and train_labels are your input data\n",
    "train_dataset = TensorDataset(train_encodings['input_ids'], \n",
    "                              #train_encodings['token_type_ids'], \n",
    "                              train_encodings['attention_mask'], \n",
    "                              train_labels)\n"
   ]
  },
  {
   "cell_type": "code",
   "execution_count": 12,
   "metadata": {},
   "outputs": [],
   "source": [
    "# Set batch size according to your preference\n",
    "batch_size = 16\n",
    "\n",
    "# Create DataLoader\n",
    "train_dataloader = DataLoader(train_dataset, batch_size=batch_size, shuffle=True)\n"
   ]
  },
  {
   "cell_type": "code",
   "execution_count": 13,
   "metadata": {},
   "outputs": [],
   "source": [
    "valid_dataset = TensorDataset(valid_encodings['input_ids'], \n",
    "                              #valid_encodings['token_type_ids'], \n",
    "                              valid_encodings['attention_mask'], \n",
    "                              valid_labels)\n",
    "\n",
    "valid_dataloader = DataLoader(valid_dataset, batch_size=batch_size, shuffle=True)"
   ]
  },
  {
   "cell_type": "code",
   "execution_count": 14,
   "metadata": {},
   "outputs": [],
   "source": [
    "NUM_CLASS = len(list(set(list(y_train))))"
   ]
  },
  {
   "cell_type": "code",
   "execution_count": 15,
   "metadata": {},
   "outputs": [
    {
     "name": "stderr",
     "output_type": "stream",
     "text": [
      "Some weights of RobertaForSequenceClassification were not initialized from the model checkpoint at roberta-base and are newly initialized: ['classifier.dense.bias', 'classifier.out_proj.bias', 'classifier.out_proj.weight', 'classifier.dense.weight']\n",
      "You should probably TRAIN this model on a down-stream task to be able to use it for predictions and inference.\n"
     ]
    },
    {
     "name": "stdout",
     "output_type": "stream",
     "text": [
      "Number of trainable parameters: 1553765\n",
      "Total number of parameters: 126867658\n"
     ]
    }
   ],
   "source": [
    "from transformers import AutoModelForSequenceClassification \n",
    "model = AutoModelForSequenceClassification.from_pretrained(roberta_checkpoint, num_labels=NUM_CLASS)\n",
    "\n",
    "\n",
    "\n",
    "lora_config = LoraConfig(\n",
    "    task_type=TaskType.SEQ_CLS, r=8, lora_alpha=1, lora_dropout=0.1\n",
    ")\n",
    "\n",
    "model = get_peft_model(model, lora_config)\n",
    "\n",
    "# Set up training parameters\n",
    "optimizer = torch.optim.AdamW(model.parameters(), lr=5e-5)\n",
    "model.to(device)\n",
    "\n",
    "# Count trainable parameters\n",
    "num_trainable_params = sum(p.numel() for p in model.parameters() if p.requires_grad)\n",
    "print(f\"Number of trainable parameters: {num_trainable_params}\")\n",
    "\n",
    "# Count total parameters (including non-trainable)\n",
    "num_total_params = sum(p.numel() for p in model.parameters())\n",
    "print(f\"Total number of parameters: {num_total_params}\")"
   ]
  },
  {
   "cell_type": "code",
   "execution_count": 16,
   "metadata": {},
   "outputs": [
    {
     "data": {
      "text/plain": [
       "0.012247132362134407"
      ]
     },
     "execution_count": 16,
     "metadata": {},
     "output_type": "execute_result"
    }
   ],
   "source": [
    "1553765/126867658"
   ]
  },
  {
   "cell_type": "code",
   "execution_count": 17,
   "metadata": {
    "scrolled": true
   },
   "outputs": [
    {
     "name": "stdout",
     "output_type": "stream",
     "text": [
      "PeftModelForSequenceClassification(\n",
      "  (base_model): LoraModel(\n",
      "    (model): RobertaForSequenceClassification(\n",
      "      (roberta): RobertaModel(\n",
      "        (embeddings): RobertaEmbeddings(\n",
      "          (word_embeddings): Embedding(50265, 768, padding_idx=1)\n",
      "          (position_embeddings): Embedding(514, 768, padding_idx=1)\n",
      "          (token_type_embeddings): Embedding(1, 768)\n",
      "          (LayerNorm): LayerNorm((768,), eps=1e-05, elementwise_affine=True)\n",
      "          (dropout): Dropout(p=0.1, inplace=False)\n",
      "        )\n",
      "        (encoder): RobertaEncoder(\n",
      "          (layer): ModuleList(\n",
      "            (0-11): 12 x RobertaLayer(\n",
      "              (attention): RobertaAttention(\n",
      "                (self): RobertaSelfAttention(\n",
      "                  (query): Linear(\n",
      "                    in_features=768, out_features=768, bias=True\n",
      "                    (lora_dropout): ModuleDict(\n",
      "                      (default): Dropout(p=0.1, inplace=False)\n",
      "                    )\n",
      "                    (lora_A): ModuleDict(\n",
      "                      (default): Linear(in_features=768, out_features=8, bias=False)\n",
      "                    )\n",
      "                    (lora_B): ModuleDict(\n",
      "                      (default): Linear(in_features=8, out_features=768, bias=False)\n",
      "                    )\n",
      "                    (lora_embedding_A): ParameterDict()\n",
      "                    (lora_embedding_B): ParameterDict()\n",
      "                  )\n",
      "                  (key): Linear(in_features=768, out_features=768, bias=True)\n",
      "                  (value): Linear(\n",
      "                    in_features=768, out_features=768, bias=True\n",
      "                    (lora_dropout): ModuleDict(\n",
      "                      (default): Dropout(p=0.1, inplace=False)\n",
      "                    )\n",
      "                    (lora_A): ModuleDict(\n",
      "                      (default): Linear(in_features=768, out_features=8, bias=False)\n",
      "                    )\n",
      "                    (lora_B): ModuleDict(\n",
      "                      (default): Linear(in_features=8, out_features=768, bias=False)\n",
      "                    )\n",
      "                    (lora_embedding_A): ParameterDict()\n",
      "                    (lora_embedding_B): ParameterDict()\n",
      "                  )\n",
      "                  (dropout): Dropout(p=0.1, inplace=False)\n",
      "                )\n",
      "                (output): RobertaSelfOutput(\n",
      "                  (dense): Linear(in_features=768, out_features=768, bias=True)\n",
      "                  (LayerNorm): LayerNorm((768,), eps=1e-05, elementwise_affine=True)\n",
      "                  (dropout): Dropout(p=0.1, inplace=False)\n",
      "                )\n",
      "              )\n",
      "              (intermediate): RobertaIntermediate(\n",
      "                (dense): Linear(in_features=768, out_features=3072, bias=True)\n",
      "                (intermediate_act_fn): GELUActivation()\n",
      "              )\n",
      "              (output): RobertaOutput(\n",
      "                (dense): Linear(in_features=3072, out_features=768, bias=True)\n",
      "                (LayerNorm): LayerNorm((768,), eps=1e-05, elementwise_affine=True)\n",
      "                (dropout): Dropout(p=0.1, inplace=False)\n",
      "              )\n",
      "            )\n",
      "          )\n",
      "        )\n",
      "      )\n",
      "      (classifier): ModulesToSaveWrapper(\n",
      "        (original_module): RobertaClassificationHead(\n",
      "          (dense): Linear(in_features=768, out_features=768, bias=True)\n",
      "          (dropout): Dropout(p=0.1, inplace=False)\n",
      "          (out_proj): Linear(in_features=768, out_features=869, bias=True)\n",
      "        )\n",
      "        (modules_to_save): ModuleDict(\n",
      "          (default): RobertaClassificationHead(\n",
      "            (dense): Linear(in_features=768, out_features=768, bias=True)\n",
      "            (dropout): Dropout(p=0.1, inplace=False)\n",
      "            (out_proj): Linear(in_features=768, out_features=869, bias=True)\n",
      "          )\n",
      "        )\n",
      "      )\n",
      "    )\n",
      "  )\n",
      ")\n"
     ]
    }
   ],
   "source": [
    "print(model)"
   ]
  },
  {
   "cell_type": "code",
   "execution_count": 17,
   "metadata": {},
   "outputs": [],
   "source": [
    "torch.cuda.empty_cache()"
   ]
  },
  {
   "cell_type": "code",
   "execution_count": 18,
   "metadata": {},
   "outputs": [],
   "source": [
    "import torch\n",
    "import torch.nn as nn\n",
    "from torch.nn.parallel import DataParallel\n",
    "\n",
    "\n",
    "# Check if multiple GPUs are available\n",
    "if torch.cuda.device_count() > 1:\n",
    "    print(f\"Using {torch.cuda.device_count()} GPUs!\")\n",
    "    model = DataParallel(model)\n",
    "\n",
    "# Move the model to GPU(s)\n",
    "model = model.cuda()\n",
    "\n",
    "# Now you can use the model as usual\n"
   ]
  },
  {
   "cell_type": "code",
   "execution_count": 19,
   "metadata": {},
   "outputs": [],
   "source": [
    "import torch\n",
    "\n",
    "# Limit GPU memory growth\n",
    "#torch.cuda.set_per_process_memory_fraction(0.8)  # Adjust the fraction as needed\n"
   ]
  },
  {
   "cell_type": "code",
   "execution_count": 20,
   "metadata": {},
   "outputs": [],
   "source": [
    "#pip install nvidia-ml-py3"
   ]
  },
  {
   "cell_type": "code",
   "execution_count": 21,
   "metadata": {},
   "outputs": [
    {
     "name": "stderr",
     "output_type": "stream",
     "text": [
      "                                                                                                                       \r"
     ]
    },
    {
     "name": "stdout",
     "output_type": "stream",
     "text": [
      "Epoch 1/10:\n",
      "Training Loss: 4.98940295672793\n",
      "Validation Loss: 3.6232324957847597\n",
      "F1 Score: 0.2187164742250241\n",
      "Balanced Accuracy: 0.1256822272443206\n",
      "--------------------------------------------------\n"
     ]
    },
    {
     "name": "stderr",
     "output_type": "stream",
     "text": [
      "                                                                                                                       \r"
     ]
    },
    {
     "name": "stdout",
     "output_type": "stream",
     "text": [
      "Epoch 2/10:\n",
      "Training Loss: 3.159286490721955\n",
      "Validation Loss: 2.5696364750464755\n",
      "F1 Score: 0.38660339038530955\n",
      "Balanced Accuracy: 0.2530179917406671\n",
      "--------------------------------------------------\n"
     ]
    },
    {
     "name": "stderr",
     "output_type": "stream",
     "text": [
      "                                                                                                                       \r"
     ]
    },
    {
     "name": "stdout",
     "output_type": "stream",
     "text": [
      "Epoch 3/10:\n",
      "Training Loss: 2.249500429674554\n",
      "Validation Loss: 1.9641738846898078\n",
      "F1 Score: 0.5024658128951804\n",
      "Balanced Accuracy: 0.35973980792783516\n",
      "--------------------------------------------------\n"
     ]
    },
    {
     "name": "stderr",
     "output_type": "stream",
     "text": [
      "                                                                                                                       \r"
     ]
    },
    {
     "name": "stdout",
     "output_type": "stream",
     "text": [
      "Epoch 4/10:\n",
      "Training Loss: 1.6444523748193722\n",
      "Validation Loss: 1.676612880329291\n",
      "F1 Score: 0.5756450116780782\n",
      "Balanced Accuracy: 0.457881338678371\n",
      "--------------------------------------------------\n"
     ]
    },
    {
     "name": "stderr",
     "output_type": "stream",
     "text": [
      "                                                                                                                       \r"
     ]
    },
    {
     "name": "stdout",
     "output_type": "stream",
     "text": [
      "Epoch 5/10:\n",
      "Training Loss: 1.2325866079596093\n",
      "Validation Loss: 1.43293275659283\n",
      "F1 Score: 0.6358896028755044\n",
      "Balanced Accuracy: 0.5291728054897296\n",
      "--------------------------------------------------\n"
     ]
    },
    {
     "name": "stderr",
     "output_type": "stream",
     "text": [
      "                                                                                                                       \r"
     ]
    },
    {
     "name": "stdout",
     "output_type": "stream",
     "text": [
      "Epoch 6/10:\n",
      "Training Loss: 0.935484853696801\n",
      "Validation Loss: 1.3064019580682118\n",
      "F1 Score: 0.6637741151204591\n",
      "Balanced Accuracy: 0.5670471068758427\n",
      "--------------------------------------------------\n"
     ]
    },
    {
     "name": "stderr",
     "output_type": "stream",
     "text": [
      "C:\\Users\\User\\Desktop\\Lora 2\\.venv\\Lib\\site-packages\\sklearn\\metrics\\_classification.py:2399: UserWarning: y_pred contains classes not in y_true\n",
      "  warnings.warn(\"y_pred contains classes not in y_true\")\n"
     ]
    },
    {
     "name": "stdout",
     "output_type": "stream",
     "text": [
      "Epoch 7/10:\n",
      "Training Loss: 0.7208373339478352\n",
      "Validation Loss: 1.2304013182719549\n",
      "F1 Score: 0.6992074355306855\n",
      "Balanced Accuracy: 0.6234167913980311\n",
      "--------------------------------------------------\n"
     ]
    },
    {
     "name": "stderr",
     "output_type": "stream",
     "text": [
      "C:\\Users\\User\\Desktop\\Lora 2\\.venv\\Lib\\site-packages\\sklearn\\metrics\\_classification.py:2399: UserWarning: y_pred contains classes not in y_true\n",
      "  warnings.warn(\"y_pred contains classes not in y_true\")\n"
     ]
    },
    {
     "name": "stdout",
     "output_type": "stream",
     "text": [
      "Epoch 8/10:\n",
      "Training Loss: 0.5673930868783148\n",
      "Validation Loss: 1.1763686694204807\n",
      "F1 Score: 0.7185716828228113\n",
      "Balanced Accuracy: 0.6539083103029213\n",
      "--------------------------------------------------\n"
     ]
    },
    {
     "name": "stderr",
     "output_type": "stream",
     "text": [
      "C:\\Users\\User\\Desktop\\Lora 2\\.venv\\Lib\\site-packages\\sklearn\\metrics\\_classification.py:2399: UserWarning: y_pred contains classes not in y_true\n",
      "  warnings.warn(\"y_pred contains classes not in y_true\")\n"
     ]
    },
    {
     "name": "stdout",
     "output_type": "stream",
     "text": [
      "Epoch 9/10:\n",
      "Training Loss: 0.46182852845462585\n",
      "Validation Loss: 1.1351742948095003\n",
      "F1 Score: 0.7262189600054179\n",
      "Balanced Accuracy: 0.665202478590558\n",
      "--------------------------------------------------\n"
     ]
    },
    {
     "name": "stderr",
     "output_type": "stream",
     "text": [
      "                                                                                                                       \r"
     ]
    },
    {
     "name": "stdout",
     "output_type": "stream",
     "text": [
      "Epoch 10/10:\n",
      "Training Loss: 0.4005375057943131\n",
      "Validation Loss: 1.1207801630099614\n",
      "F1 Score: 0.7301935677946371\n",
      "Balanced Accuracy: 0.6682491711791143\n",
      "--------------------------------------------------\n"
     ]
    },
    {
     "name": "stderr",
     "output_type": "stream",
     "text": [
      "C:\\Users\\User\\Desktop\\Lora 2\\.venv\\Lib\\site-packages\\sklearn\\metrics\\_classification.py:2399: UserWarning: y_pred contains classes not in y_true\n",
      "  warnings.warn(\"y_pred contains classes not in y_true\")\n"
     ]
    }
   ],
   "source": [
    "from transformers import  AdamW, get_linear_schedule_with_warmup\n",
    "from sklearn.metrics import f1_score, balanced_accuracy_score\n",
    "from tqdm import tqdm\n",
    "import os\n",
    "os.environ[\"PYTORCH_CUDA_ALLOC_CONF\"] = \"max_split_size_mb:512\"\n",
    "# Number of training epochs\n",
    "NUM_EPOCHS = 10\n",
    "scheduler = get_linear_schedule_with_warmup(optimizer, num_warmup_steps=0, num_training_steps=len(train_dataloader)*NUM_EPOCHS)\n",
    "criterion = torch.nn.CrossEntropyLoss()\n",
    "\n",
    "\n",
    "\n",
    "# Lists to store training losses and F1 scores\n",
    "train_losses = []\n",
    "valid_losses = []\n",
    "f1_scores = []\n",
    "balanced_accuracies = []\n",
    "# Training loop with tqdm\n",
    "\n",
    "\n",
    "\n",
    "\n",
    "for epoch in range(NUM_EPOCHS):\n",
    "    torch.cuda.empty_cache()\n",
    "    model.train()\n",
    "    total_train_loss = 0.0\n",
    "\n",
    "\n",
    "\n",
    "    # Use tqdm to create a progress bar\n",
    "    progress_bar = tqdm(train_dataloader, desc=f'Epoch {epoch + 1}/{NUM_EPOCHS}', leave=False)\n",
    "\n",
    "    for batch in progress_bar:\n",
    "        input_ids,  attention_mask, labels = batch\n",
    "\n",
    "        optimizer.zero_grad()\n",
    "        #print('1')\n",
    "\n",
    "        outputs = model(input_ids,  attention_mask=attention_mask, labels=labels)\n",
    "        loss = outputs.loss\n",
    "\n",
    "        total_train_loss += loss.item()\n",
    "        #os.environ[\"PYTORCH_CUDA_ALLOC_CONF\"] = \"max_split_size_mb:1024\"\n",
    "\n",
    "        loss.backward()\n",
    "        torch.nn.utils.clip_grad_norm_(model.parameters(), 1.0)  # Gradient clipping to prevent exploding gradients\n",
    "        #print('2')\n",
    "        \n",
    "\n",
    "        optimizer.step()\n",
    "        scheduler.step()\n",
    "\n",
    "        #print('3')\n",
    "\n",
    "        # Update the tqdm progress bar with the current loss\n",
    "        progress_bar.set_postfix({'Training Loss': loss.item()})\n",
    "\n",
    "    average_train_loss = total_train_loss / len(train_dataloader)\n",
    "    train_losses.append(average_train_loss)\n",
    "\n",
    "    # Validation\n",
    "    model.eval()\n",
    "    total_valid_loss = 0.0\n",
    "    all_preds = []\n",
    "    all_labels = []\n",
    "\n",
    "    with torch.no_grad():\n",
    "        for batch in valid_dataloader:\n",
    "            input_ids, attention_mask, labels = batch\n",
    "\n",
    "            outputs = model(input_ids,  attention_mask=attention_mask, labels=labels)\n",
    "            loss = outputs.loss\n",
    "\n",
    "            total_valid_loss += loss.item()\n",
    "\n",
    "            logits = outputs.logits\n",
    "            preds = torch.argmax(logits, dim=1).cpu().numpy()\n",
    "            all_preds.extend(preds)\n",
    "            all_labels.extend(labels.cpu().numpy())\n",
    "\n",
    "    average_valid_loss = total_valid_loss / len(valid_dataloader)\n",
    "    valid_losses.append(average_valid_loss)\n",
    "\n",
    "    # Calculate F1 score\n",
    "    f1 = f1_score(all_labels, all_preds, average='weighted')\n",
    "    f1_scores.append(f1)\n",
    "    balanced_acc = balanced_accuracy_score(all_labels, all_preds)\n",
    "    balanced_accuracies.append(balanced_acc)\n",
    "\n",
    "    # Print training and validation statistics\n",
    "    print(f'Epoch {epoch + 1}/{NUM_EPOCHS}:')\n",
    "    print(f'Training Loss: {average_train_loss}')\n",
    "    print(f'Validation Loss: {average_valid_loss}')\n",
    "    print(f'F1 Score: {f1}')\n",
    "    print(f'Balanced Accuracy: {balanced_acc}')\n",
    "    print('-' * 50)\n"
   ]
  },
  {
   "cell_type": "code",
   "execution_count": 82,
   "metadata": {},
   "outputs": [],
   "source": [
    "with open('train_losses_roberta_naics.txt', 'w') as file:\n",
    "    for item in train_losses:\n",
    "        file.write(f\"{item}\\n\")\n",
    "\n",
    "with open('valid_losses_roberta_naics.txt', 'w') as file:\n",
    "    for item in valid_losses:\n",
    "        file.write(f\"{item}\\n\")\n",
    "\n",
    "with open('f1_scores_roberta_naics.txt', 'w') as file:\n",
    "    for item in f1_scores:\n",
    "        file.write(f\"{item}\\n\")\n",
    "\n",
    "with open('balanced_accuracies_roberta_naics.txt', 'w') as file:\n",
    "    for item in balanced_accuracies:\n",
    "        file.write(f\"{item}\\n\")"
   ]
  },
  {
   "cell_type": "markdown",
   "metadata": {},
   "source": [
    "Loading Roberta results"
   ]
  },
  {
   "cell_type": "code",
   "execution_count": 83,
   "metadata": {},
   "outputs": [],
   "source": [
    "with open('train_losses_roberta_naics.txt', 'r') as file:\n",
    "    train_losses_roberta_naics = [float(line.strip()) for line in file]\n",
    "\n",
    "with open('valid_losses_roberta_naics.txt', 'r') as file:\n",
    "    valid_losses_roberta_naics = [float(line.strip()) for line in file]\n",
    "\n",
    "with open('f1_scores_roberta_naics.txt', 'r') as file:\n",
    "    f1_scores_roberta_naics = [float(line.strip()) for line in file]\n",
    "\n",
    "with open('balanced_accuracies_roberta_naics.txt', 'r') as file:\n",
    "    balanced_accuracies_roberta_naics = [float(line.strip()) for line in file]\n",
    "\n"
   ]
  },
  {
   "cell_type": "markdown",
   "metadata": {},
   "source": [
    "Loading Bert results\n"
   ]
  },
  {
   "cell_type": "code",
   "execution_count": 84,
   "metadata": {},
   "outputs": [],
   "source": [
    "with open('train_losses_bert_naics.txt', 'r') as file:\n",
    "    train_losses_bert_naics = [float(line.strip()) for line in file]\n",
    "\n",
    "with open('valid_losses_bert_naics.txt', 'r') as file:\n",
    "    valid_losses_bert_naics = [float(line.strip()) for line in file]\n",
    "\n",
    "with open('f1_scores_bert_naics.txt', 'r') as file:\n",
    "    f1_scores_bert_naics = [float(line.strip()) for line in file]\n",
    "\n",
    "with open('balanced_accuracies_bert_naics.txt', 'r') as file:\n",
    "    balanced_accuracies_bert_naics = [float(line.strip()) for line in file]\n",
    "\n"
   ]
  },
  {
   "cell_type": "code",
   "execution_count": 94,
   "metadata": {
    "scrolled": true
   },
   "outputs": [
    {
     "data": {
      "image/png": "[encoded data removed]",
      "text/plain": [
       "<Figure size 640x480 with 1 Axes>"
      ]
     },
     "metadata": {},
     "output_type": "display_data"
    }
   ],
   "source": [
    "import matplotlib.pyplot as plt\n",
    "\n",
    "\n",
    "x = [1, 2, 3, 4, 5,6,7,8,9,10]\n",
    "plt.plot(x, train_losses_roberta_naics, label='Train Loss Roberta', marker='o')\n",
    "plt.plot(x, valid_losses_roberta_naics, label='Validation Loss Roberta', marker='s')\n",
    "plt.plot(x, train_losses_bert_naics, label='Train Loss Bert', marker='^')\n",
    "plt.plot(x, valid_losses_bert_naics, label='Validation Loss Bert', marker='*')\n",
    "plt.xlabel('Number of Epochs')\n",
    "plt.ylabel('Loss')\n",
    "plt.title('Loss Function between Bert and Roberta to Predict NAICS')\n",
    "plt.legend()\n",
    "plt.savefig('loss_naics.jpg', format='jpg', dpi=300)\n",
    "plt.show()"
   ]
  },
  {
   "cell_type": "code",
   "execution_count": 90,
   "metadata": {},
   "outputs": [
    {
     "data": {
      "text/plain": [
       "<Figure size 640x480 with 0 Axes>"
      ]
     },
     "metadata": {},
     "output_type": "display_data"
    }
   ],
   "source": [
    "plt.savefig('loss_naics.jpg', format='jpg', dpi=300)"
   ]
  },
  {
   "cell_type": "code",
   "execution_count": 96,
   "metadata": {},
   "outputs": [
    {
     "data": {
      "image/png": "[encoded data removed]",
      "text/plain": [
       "<Figure size 640x480 with 1 Axes>"
      ]
     },
     "metadata": {},
     "output_type": "display_data"
    }
   ],
   "source": [
    "import matplotlib.pyplot as plt\n",
    "\n",
    "\n",
    "x = [1, 2, 3, 4, 5,6,7,8,9,10]\n",
    "plt.plot(x, f1_scores_roberta_naics, label='F1 Score Roberta', marker='o')\n",
    "plt.plot(x, balanced_accuracies_roberta_naics, label='Balanced Accuracy Roberta', marker='s')\n",
    "plt.plot(x, f1_scores_bert_naics, label='F1 Score Bert', marker='^')\n",
    "plt.plot(x, balanced_accuracies_bert_naics, label='Balanced Accuracy Bert', marker='*')\n",
    "plt.xlabel('Number of Epochs')\n",
    "plt.ylabel('Evaluation Metric')\n",
    "plt.title('F1 Score and Accuracy between Bert and Roberta to Predict NAICS')\n",
    "plt.legend()\n",
    "plt.savefig('evaluation_naics.jpg', format='jpg', dpi=300)\n",
    "plt.show()"
   ]
  },
  {
   "cell_type": "code",
   "execution_count": 22,
   "metadata": {},
   "outputs": [],
   "source": [
    "#torch.save(model.state_dict(), 'Roberta_TM_NAICS_model.pth')"
   ]
  },
  {
   "cell_type": "markdown",
   "metadata": {},
   "source": [
    "# Prediction of TM dataset based on NICE classes"
   ]
  },
  {
   "cell_type": "code",
   "execution_count": 22,
   "metadata": {},
   "outputs": [],
   "source": [
    "Sample_TM_800_Unique_Files = pd.read_excel('Sample_TM_800_Unique_Files.xlsx')"
   ]
  },
  {
   "cell_type": "code",
   "execution_count": 23,
   "metadata": {},
   "outputs": [],
   "source": [
    "Sample_TM_800_Unique_Files = Sample_TM_800_Unique_Files.dropna(subset=['TEXT']).reset_index(drop=True)"
   ]
  },
  {
   "cell_type": "code",
   "execution_count": 24,
   "metadata": {},
   "outputs": [],
   "source": [
    "texts = Sample_TM_800_Unique_Files['TEXT'].tolist()"
   ]
  },
  {
   "cell_type": "code",
   "execution_count": 25,
   "metadata": {},
   "outputs": [],
   "source": [
    "#tokenizer = AutoTokenizer.from_pretrained('bert-base-uncased')\n",
    "test_encodings = tokenizer(texts, truncation=True, padding=True, return_tensors='pt')"
   ]
  },
  {
   "cell_type": "code",
   "execution_count": 26,
   "metadata": {},
   "outputs": [],
   "source": [
    "device = torch.device('cuda' if torch.cuda.is_available() else 'cpu')\n",
    "test_encodings = {key: val.to(device) for key, val in test_encodings.items()}"
   ]
  },
  {
   "cell_type": "code",
   "execution_count": 27,
   "metadata": {},
   "outputs": [],
   "source": [
    "test_dataset = TensorDataset(test_encodings['input_ids'], \n",
    "                              #test_encodings['token_type_ids'], \n",
    "                              test_encodings['attention_mask']\n",
    "                              )"
   ]
  },
  {
   "cell_type": "code",
   "execution_count": 28,
   "metadata": {},
   "outputs": [],
   "source": [
    "batch_size = 16\n",
    "\n",
    "# Create DataLoader\n",
    "test_dataloader = DataLoader(test_dataset, batch_size=batch_size, shuffle=False)"
   ]
  },
  {
   "cell_type": "code",
   "execution_count": 29,
   "metadata": {},
   "outputs": [],
   "source": [
    "model.eval()\n",
    "test_preds = []\n",
    "\n",
    "# Iterate through the test DataLoader\n",
    "with torch.no_grad():\n",
    "    for batch in test_dataloader:\n",
    "        input_ids,  attention_mask = batch  # adjust based on your input features\n",
    "\n",
    "        # Make predictions using the model\n",
    "        outputs = model(input_ids,  attention_mask=attention_mask)\n",
    "        logits = outputs.logits\n",
    "\n",
    "        # Assuming a classification task, get predicted class labels\n",
    "        preds = torch.argmax(logits, dim=1).cpu().numpy()\n",
    "        test_preds.extend(preds)"
   ]
  },
  {
   "cell_type": "code",
   "execution_count": 30,
   "metadata": {},
   "outputs": [],
   "source": [
    "Sample_TM_800_Unique_Files['naics_label_pred'] = test_preds"
   ]
  },
  {
   "cell_type": "code",
   "execution_count": 31,
   "metadata": {},
   "outputs": [],
   "source": [
    "def map_values(value):\n",
    "    return mapping_NAICS_reverse.get(value, value)  # Use get to handle cases where the key is not in the dictionary\n",
    "\n",
    "# Apply the function to create the new column\n",
    "Sample_TM_800_Unique_Files['naics_pred'] = Sample_TM_800_Unique_Files['naics_label_pred'].apply(map_values)"
   ]
  },
  {
   "cell_type": "code",
   "execution_count": 38,
   "metadata": {},
   "outputs": [],
   "source": [
    "Sample_TM_800_Unique_Files_BERT_ROBERTA_PREDICT = pd.read_csv('Sample_TM_800_Unique_Files_BERT_ROBERTA_PREDICT.csv')"
   ]
  },
  {
   "cell_type": "code",
   "execution_count": 39,
   "metadata": {},
   "outputs": [
    {
     "data": {
      "text/html": [
       "<div>\n",
       "<style scoped>\n",
       "    .dataframe tbody tr th:only-of-type {\n",
       "        vertical-align: middle;\n",
       "    }\n",
       "\n",
       "    .dataframe tbody tr th {\n",
       "        vertical-align: top;\n",
       "    }\n",
       "\n",
       "    .dataframe thead th {\n",
       "        text-align: right;\n",
       "    }\n",
       "</style>\n",
       "<table border=\"1\" class=\"dataframe\">\n",
       "  <thead>\n",
       "    <tr style=\"text-align: right;\">\n",
       "      <th></th>\n",
       "      <th>UNIQUE_FILE_NUMBER</th>\n",
       "      <th>NICE_CLASS_CODE</th>\n",
       "      <th>LEGAL_NAME_UPD</th>\n",
       "      <th>NAICS Marianne</th>\n",
       "      <th>NAICS Sebastien</th>\n",
       "      <th>TEXT</th>\n",
       "      <th>industry_group_roberta_pred</th>\n",
       "      <th>industry_group_bert_pred</th>\n",
       "    </tr>\n",
       "  </thead>\n",
       "  <tbody>\n",
       "    <tr>\n",
       "      <th>0</th>\n",
       "      <td>2153878_0</td>\n",
       "      <td>35</td>\n",
       "      <td>911979 alberta ltd</td>\n",
       "      <td>459993.0</td>\n",
       "      <td>459993</td>\n",
       "      <td>Online sale of medicinal cannabis and marijuan...</td>\n",
       "      <td>4561</td>\n",
       "      <td>6219</td>\n",
       "    </tr>\n",
       "    <tr>\n",
       "      <th>1</th>\n",
       "      <td>2153878_0</td>\n",
       "      <td>39</td>\n",
       "      <td>911979 alberta ltd</td>\n",
       "      <td>492210.0</td>\n",
       "      <td>492210</td>\n",
       "      <td>Arranging for home delivery of medicinal canna...</td>\n",
       "      <td>4922</td>\n",
       "      <td>4561</td>\n",
       "    </tr>\n",
       "    <tr>\n",
       "      <th>2</th>\n",
       "      <td>2153878_0</td>\n",
       "      <td>41</td>\n",
       "      <td>911979 alberta ltd</td>\n",
       "      <td>611710.0</td>\n",
       "      <td>621390</td>\n",
       "      <td>Providing information about medicinal cannabis...</td>\n",
       "      <td>6214</td>\n",
       "      <td>6215</td>\n",
       "    </tr>\n",
       "    <tr>\n",
       "      <th>3</th>\n",
       "      <td>2153878_0</td>\n",
       "      <td>44</td>\n",
       "      <td>911979 alberta ltd</td>\n",
       "      <td>456110.0</td>\n",
       "      <td>456110</td>\n",
       "      <td>Prescription refill services; online prescript...</td>\n",
       "      <td>6213</td>\n",
       "      <td>6213</td>\n",
       "    </tr>\n",
       "    <tr>\n",
       "      <th>4</th>\n",
       "      <td>2166784_0</td>\n",
       "      <td>3</td>\n",
       "      <td>911979 alberta ltd</td>\n",
       "      <td>456110.0</td>\n",
       "      <td>456110</td>\n",
       "      <td>skin care preparations, namely, soaps, body wa...</td>\n",
       "      <td>8121</td>\n",
       "      <td>3256</td>\n",
       "    </tr>\n",
       "    <tr>\n",
       "      <th>...</th>\n",
       "      <td>...</td>\n",
       "      <td>...</td>\n",
       "      <td>...</td>\n",
       "      <td>...</td>\n",
       "      <td>...</td>\n",
       "      <td>...</td>\n",
       "      <td>...</td>\n",
       "      <td>...</td>\n",
       "    </tr>\n",
       "    <tr>\n",
       "      <th>2078</th>\n",
       "      <td>2186809_0</td>\n",
       "      <td>35</td>\n",
       "      <td>refrigerative supply limited</td>\n",
       "      <td>NaN</td>\n",
       "      <td>NaN</td>\n",
       "      <td>Wholesale distribution services featuring HVAC...</td>\n",
       "      <td>4561</td>\n",
       "      <td>4191</td>\n",
       "    </tr>\n",
       "    <tr>\n",
       "      <th>2079</th>\n",
       "      <td>2212690_0</td>\n",
       "      <td>35</td>\n",
       "      <td>sobeys capital incorporated</td>\n",
       "      <td>NaN</td>\n",
       "      <td>NaN</td>\n",
       "      <td>administration of incentive award programmes t...</td>\n",
       "      <td>4451</td>\n",
       "      <td>4451</td>\n",
       "    </tr>\n",
       "    <tr>\n",
       "      <th>2080</th>\n",
       "      <td>2198224_0</td>\n",
       "      <td>36</td>\n",
       "      <td>the kensington health centre</td>\n",
       "      <td>NaN</td>\n",
       "      <td>NaN</td>\n",
       "      <td>charitable services namely providing funding t...</td>\n",
       "      <td>6242</td>\n",
       "      <td>6241</td>\n",
       "    </tr>\n",
       "    <tr>\n",
       "      <th>2081</th>\n",
       "      <td>2207567_0</td>\n",
       "      <td>33</td>\n",
       "      <td>mark anthony group inc</td>\n",
       "      <td>NaN</td>\n",
       "      <td>NaN</td>\n",
       "      <td>wine-based beverages; wines</td>\n",
       "      <td>3121</td>\n",
       "      <td>3121</td>\n",
       "    </tr>\n",
       "    <tr>\n",
       "      <th>2082</th>\n",
       "      <td>2206267_0</td>\n",
       "      <td>35</td>\n",
       "      <td>corus radio company</td>\n",
       "      <td>NaN</td>\n",
       "      <td>NaN</td>\n",
       "      <td>advertising the goods and services of others</td>\n",
       "      <td>5418</td>\n",
       "      <td>5418</td>\n",
       "    </tr>\n",
       "  </tbody>\n",
       "</table>\n",
       "<p>2083 rows × 8 columns</p>\n",
       "</div>"
      ],
      "text/plain": [
       "     UNIQUE_FILE_NUMBER  NICE_CLASS_CODE                LEGAL_NAME_UPD  \\\n",
       "0             2153878_0               35            911979 alberta ltd   \n",
       "1             2153878_0               39            911979 alberta ltd   \n",
       "2             2153878_0               41            911979 alberta ltd   \n",
       "3             2153878_0               44            911979 alberta ltd   \n",
       "4             2166784_0                3            911979 alberta ltd   \n",
       "...                 ...              ...                           ...   \n",
       "2078          2186809_0               35  refrigerative supply limited   \n",
       "2079          2212690_0               35   sobeys capital incorporated   \n",
       "2080          2198224_0               36  the kensington health centre   \n",
       "2081          2207567_0               33        mark anthony group inc   \n",
       "2082          2206267_0               35           corus radio company   \n",
       "\n",
       "      NAICS Marianne NAICS Sebastien  \\\n",
       "0           459993.0          459993   \n",
       "1           492210.0          492210   \n",
       "2           611710.0          621390   \n",
       "3           456110.0          456110   \n",
       "4           456110.0          456110   \n",
       "...              ...             ...   \n",
       "2078             NaN             NaN   \n",
       "2079             NaN             NaN   \n",
       "2080             NaN             NaN   \n",
       "2081             NaN             NaN   \n",
       "2082             NaN             NaN   \n",
       "\n",
       "                                                   TEXT  \\\n",
       "0     Online sale of medicinal cannabis and marijuan...   \n",
       "1     Arranging for home delivery of medicinal canna...   \n",
       "2     Providing information about medicinal cannabis...   \n",
       "3     Prescription refill services; online prescript...   \n",
       "4     skin care preparations, namely, soaps, body wa...   \n",
       "...                                                 ...   \n",
       "2078  Wholesale distribution services featuring HVAC...   \n",
       "2079  administration of incentive award programmes t...   \n",
       "2080  charitable services namely providing funding t...   \n",
       "2081                        wine-based beverages; wines   \n",
       "2082       advertising the goods and services of others   \n",
       "\n",
       "      industry_group_roberta_pred  industry_group_bert_pred  \n",
       "0                            4561                      6219  \n",
       "1                            4922                      4561  \n",
       "2                            6214                      6215  \n",
       "3                            6213                      6213  \n",
       "4                            8121                      3256  \n",
       "...                           ...                       ...  \n",
       "2078                         4561                      4191  \n",
       "2079                         4451                      4451  \n",
       "2080                         6242                      6241  \n",
       "2081                         3121                      3121  \n",
       "2082                         5418                      5418  \n",
       "\n",
       "[2083 rows x 8 columns]"
      ]
     },
     "execution_count": 39,
     "metadata": {},
     "output_type": "execute_result"
    }
   ],
   "source": [
    "Sample_TM_800_Unique_Files_BERT_ROBERTA_PREDICT"
   ]
  },
  {
   "cell_type": "code",
   "execution_count": 41,
   "metadata": {},
   "outputs": [],
   "source": [
    "Sample_TM_800_Unique_Files['industry_group_roberta_pred'] = list(Sample_TM_800_Unique_Files_BERT_ROBERTA_PREDICT['industry_group_roberta_pred'])\n",
    "Sample_TM_800_Unique_Files['industry_group_bert_pred'] = list(Sample_TM_800_Unique_Files_BERT_ROBERTA_PREDICT['industry_group_bert_pred'])"
   ]
  },
  {
   "cell_type": "code",
   "execution_count": 42,
   "metadata": {},
   "outputs": [],
   "source": [
    "Sample_TM_800_Unique_Files.rename(columns={'naics_pred': 'naics_roberta_pred'}, inplace=True)"
   ]
  },
  {
   "cell_type": "code",
   "execution_count": 46,
   "metadata": {},
   "outputs": [],
   "source": [
    "Sample_TM_800_Unique_Files_select = Sample_TM_800_Unique_Files[['UNIQUE_FILE_NUMBER',\n",
    " 'NICE_CLASS_CODE',\n",
    " 'LEGAL_NAME_UPD',\n",
    " \n",
    " 'NAICS Marianne',\n",
    " 'NAICS Sebastien',\n",
    " \n",
    " 'TEXT',\n",
    " \n",
    " 'industry_group_roberta_pred',\n",
    " 'industry_group_bert_pred','naics_roberta_pred'\n",
    "                                                               ]]"
   ]
  },
  {
   "cell_type": "code",
   "execution_count": 47,
   "metadata": {},
   "outputs": [],
   "source": [
    "Sample_TM_800_Unique_Files_select.to_csv('Sample_TM_800_Unique_Files_BERT_ROBERTA_NAICS_IG_PREDICT.csv', index=False)"
   ]
  },
  {
   "cell_type": "code",
   "execution_count": 50,
   "metadata": {},
   "outputs": [
    {
     "data": {
      "text/html": [
       "<div>\n",
       "<style scoped>\n",
       "    .dataframe tbody tr th:only-of-type {\n",
       "        vertical-align: middle;\n",
       "    }\n",
       "\n",
       "    .dataframe tbody tr th {\n",
       "        vertical-align: top;\n",
       "    }\n",
       "\n",
       "    .dataframe thead th {\n",
       "        text-align: right;\n",
       "    }\n",
       "</style>\n",
       "<table border=\"1\" class=\"dataframe\">\n",
       "  <thead>\n",
       "    <tr style=\"text-align: right;\">\n",
       "      <th></th>\n",
       "      <th>UNIQUE_FILE_NUMBER</th>\n",
       "      <th>NICE_CLASS_CODE</th>\n",
       "      <th>LEGAL_NAME_UPD</th>\n",
       "      <th>NAICS Marianne</th>\n",
       "      <th>NAICS Sebastien</th>\n",
       "      <th>TEXT</th>\n",
       "      <th>industry_group_roberta_pred</th>\n",
       "      <th>industry_group_bert_pred</th>\n",
       "      <th>naics_roberta_pred</th>\n",
       "    </tr>\n",
       "  </thead>\n",
       "  <tbody>\n",
       "    <tr>\n",
       "      <th>90</th>\n",
       "      <td>2132627_0</td>\n",
       "      <td>45</td>\n",
       "      <td>hydron energy inc</td>\n",
       "      <td>NaN</td>\n",
       "      <td>NaN</td>\n",
       "      <td>reviewing standards and practices to assure co...</td>\n",
       "      <td>9119</td>\n",
       "      <td>5419</td>\n",
       "      <td>911910</td>\n",
       "    </tr>\n",
       "    <tr>\n",
       "      <th>91</th>\n",
       "      <td>2132627_0</td>\n",
       "      <td>45</td>\n",
       "      <td>hydron energy inc</td>\n",
       "      <td>NaN</td>\n",
       "      <td>NaN</td>\n",
       "      <td>Regulatory compliance consulting in the field ...</td>\n",
       "      <td>9112</td>\n",
       "      <td>5411</td>\n",
       "      <td>541110</td>\n",
       "    </tr>\n",
       "    <tr>\n",
       "      <th>92</th>\n",
       "      <td>2132491_0</td>\n",
       "      <td>9</td>\n",
       "      <td>michael hill</td>\n",
       "      <td>513211.0</td>\n",
       "      <td>513211</td>\n",
       "      <td>Downloadable software application for evaluati...</td>\n",
       "      <td>6114</td>\n",
       "      <td>6114</td>\n",
       "      <td>611430</td>\n",
       "    </tr>\n",
       "    <tr>\n",
       "      <th>93</th>\n",
       "      <td>2132491_0</td>\n",
       "      <td>42</td>\n",
       "      <td>michael hill</td>\n",
       "      <td>513211.0</td>\n",
       "      <td>513211</td>\n",
       "      <td>Providing on-line downloadable software applic...</td>\n",
       "      <td>6114</td>\n",
       "      <td>6114</td>\n",
       "      <td>611420</td>\n",
       "    </tr>\n",
       "    <tr>\n",
       "      <th>94</th>\n",
       "      <td>2132573_0</td>\n",
       "      <td>29</td>\n",
       "      <td>purity factories limited</td>\n",
       "      <td>413140.0</td>\n",
       "      <td>311710</td>\n",
       "      <td>Processed fish fillets and fish snacks, jams</td>\n",
       "      <td>3117</td>\n",
       "      <td>3114</td>\n",
       "      <td>311710</td>\n",
       "    </tr>\n",
       "    <tr>\n",
       "      <th>95</th>\n",
       "      <td>2132573_0</td>\n",
       "      <td>30</td>\n",
       "      <td>purity factories limited</td>\n",
       "      <td>413190.0</td>\n",
       "      <td>311821</td>\n",
       "      <td>Food products, namely, cookies, biscuits, crac...</td>\n",
       "      <td>3118</td>\n",
       "      <td>3119</td>\n",
       "      <td>311814</td>\n",
       "    </tr>\n",
       "    <tr>\n",
       "      <th>96</th>\n",
       "      <td>2132554_0</td>\n",
       "      <td>35</td>\n",
       "      <td>mulligan realty group inc</td>\n",
       "      <td>531390.0</td>\n",
       "      <td>531212</td>\n",
       "      <td>advertising of residential real estate for oth...</td>\n",
       "      <td>5418</td>\n",
       "      <td>5418</td>\n",
       "      <td>531390</td>\n",
       "    </tr>\n",
       "    <tr>\n",
       "      <th>97</th>\n",
       "      <td>2132554_0</td>\n",
       "      <td>36</td>\n",
       "      <td>mulligan realty group inc</td>\n",
       "      <td>531211.0</td>\n",
       "      <td>531212</td>\n",
       "      <td>acquisition of real estate for others; assessm...</td>\n",
       "      <td>5311</td>\n",
       "      <td>5313</td>\n",
       "      <td>237210</td>\n",
       "    </tr>\n",
       "    <tr>\n",
       "      <th>98</th>\n",
       "      <td>2132881_0</td>\n",
       "      <td>35</td>\n",
       "      <td>marius gitoi</td>\n",
       "      <td>NaN</td>\n",
       "      <td>541611</td>\n",
       "      <td>business marketing consulting services; comput...</td>\n",
       "      <td>5416</td>\n",
       "      <td>5416</td>\n",
       "      <td>541611</td>\n",
       "    </tr>\n",
       "    <tr>\n",
       "      <th>99</th>\n",
       "      <td>2132881_0</td>\n",
       "      <td>36</td>\n",
       "      <td>marius gitoi</td>\n",
       "      <td>NaN</td>\n",
       "      <td>518210</td>\n",
       "      <td>financial services, namely provision of a cryp...</td>\n",
       "      <td>5231</td>\n",
       "      <td>5239</td>\n",
       "      <td>522329</td>\n",
       "    </tr>\n",
       "  </tbody>\n",
       "</table>\n",
       "</div>"
      ],
      "text/plain": [
       "   UNIQUE_FILE_NUMBER  NICE_CLASS_CODE             LEGAL_NAME_UPD  \\\n",
       "90          2132627_0               45          hydron energy inc   \n",
       "91          2132627_0               45          hydron energy inc   \n",
       "92          2132491_0                9               michael hill   \n",
       "93          2132491_0               42               michael hill   \n",
       "94          2132573_0               29   purity factories limited   \n",
       "95          2132573_0               30   purity factories limited   \n",
       "96          2132554_0               35  mulligan realty group inc   \n",
       "97          2132554_0               36  mulligan realty group inc   \n",
       "98          2132881_0               35               marius gitoi   \n",
       "99          2132881_0               36               marius gitoi   \n",
       "\n",
       "    NAICS Marianne NAICS Sebastien  \\\n",
       "90             NaN             NaN   \n",
       "91             NaN             NaN   \n",
       "92        513211.0          513211   \n",
       "93        513211.0          513211   \n",
       "94        413140.0          311710   \n",
       "95        413190.0          311821   \n",
       "96        531390.0          531212   \n",
       "97        531211.0          531212   \n",
       "98             NaN          541611   \n",
       "99             NaN          518210   \n",
       "\n",
       "                                                 TEXT  \\\n",
       "90  reviewing standards and practices to assure co...   \n",
       "91  Regulatory compliance consulting in the field ...   \n",
       "92  Downloadable software application for evaluati...   \n",
       "93  Providing on-line downloadable software applic...   \n",
       "94       Processed fish fillets and fish snacks, jams   \n",
       "95  Food products, namely, cookies, biscuits, crac...   \n",
       "96  advertising of residential real estate for oth...   \n",
       "97  acquisition of real estate for others; assessm...   \n",
       "98  business marketing consulting services; comput...   \n",
       "99  financial services, namely provision of a cryp...   \n",
       "\n",
       "    industry_group_roberta_pred  industry_group_bert_pred  naics_roberta_pred  \n",
       "90                         9119                      5419              911910  \n",
       "91                         9112                      5411              541110  \n",
       "92                         6114                      6114              611430  \n",
       "93                         6114                      6114              611420  \n",
       "94                         3117                      3114              311710  \n",
       "95                         3118                      3119              311814  \n",
       "96                         5418                      5418              531390  \n",
       "97                         5311                      5313              237210  \n",
       "98                         5416                      5416              541611  \n",
       "99                         5231                      5239              522329  "
      ]
     },
     "execution_count": 50,
     "metadata": {},
     "output_type": "execute_result"
    }
   ],
   "source": [
    "Sample_TM_800_Unique_Files_select[90:100]"
   ]
  },
  {
   "cell_type": "code",
   "execution_count": null,
   "metadata": {},
   "outputs": [],
   "source": [
    "Roberta = 11,12,18,19,20,22,26,30*,34*,37,162,87**,85**,99**,104**,106,\n",
    "bert = 15,19,23,27**"
   ]
  },
  {
   "cell_type": "code",
   "execution_count": 70,
   "metadata": {},
   "outputs": [
    {
     "data": {
      "text/plain": [
       "UNIQUE_FILE_NUMBER                                                     2132627_0\n",
       "NICE_CLASS_CODE                                                               45\n",
       "LEGAL_NAME_UPD                                                 hydron energy inc\n",
       "NAICS Marianne                                                               NaN\n",
       "NAICS Sebastien                                                              NaN\n",
       "TEXT                           Regulatory compliance consulting in the field ...\n",
       "industry_group_roberta_pred                                                 9112\n",
       "industry_group_bert_pred                                                    5411\n",
       "naics_roberta_pred                                                        541110\n",
       "Name: 91, dtype: object"
      ]
     },
     "execution_count": 70,
     "metadata": {},
     "output_type": "execute_result"
    }
   ],
   "source": [
    "k = 91\n",
    "Sample_TM_800_Unique_Files_select.iloc[k]"
   ]
  },
  {
   "cell_type": "code",
   "execution_count": 71,
   "metadata": {},
   "outputs": [
    {
     "data": {
      "text/plain": [
       "'Regulatory compliance consulting in the field of energy and environmental law, namely, reviewing standards and practices to ensure compliance with energy and environmental law.'"
      ]
     },
     "execution_count": 71,
     "metadata": {},
     "output_type": "execute_result"
    }
   ],
   "source": [
    "Sample_TM_800_Unique_Files_select['TEXT'][k]"
   ]
  },
  {
   "cell_type": "code",
   "execution_count": 72,
   "metadata": {},
   "outputs": [
    {
     "name": "stdout",
     "output_type": "stream",
     "text": [
      "Offices of lawyers\n",
      "Offices of notaries\n",
      "Other legal services\n"
     ]
    }
   ],
   "source": [
    "IG = 5411\n",
    "for i in range(len(NAICS_2022[NAICS_2022.INDUSTRY_GROUP == IG]['Class title'].reset_index(drop = True))):\n",
    "    print(NAICS_2022[NAICS_2022.INDUSTRY_GROUP == IG]['Class title'].reset_index(drop = True)[i])"
   ]
  },
  {
   "cell_type": "code",
   "execution_count": 73,
   "metadata": {},
   "outputs": [
    {
     "name": "stdout",
     "output_type": "stream",
     "text": [
      "This Canadian industry comprises offices of legal practitioners, known as lawyers, barristers and solicitors, primarily engaged in the practice of law.\n",
      "This Canadian industry comprises establishments primarily engaged in drafting and approving legal documents, such as real estate transactions, wills and contracts, and in receiving, indexing and storing such documents.\n",
      "This Canadian industry comprises establishments of legal practitioners, not classified to any other Canadian industry, primarily engaged in providing legal and paralegal services.\n"
     ]
    }
   ],
   "source": [
    "for i in range(len(NAICS_2022[NAICS_2022.INDUSTRY_GROUP == IG]['Class definition'].reset_index(drop = True))):\n",
    "    print(NAICS_2022[NAICS_2022.INDUSTRY_GROUP == IG]['Class definition'].reset_index(drop = True)[i])"
   ]
  },
  {
   "cell_type": "code",
   "execution_count": 74,
   "metadata": {},
   "outputs": [
    {
     "name": "stdout",
     "output_type": "stream",
     "text": [
      "['arbitration and conciliation services provided by lawyers', ' attorneys, private practice', ' barrister and solicitor, private practice', ' corporate law, offices', ' counsellors at law, private practice', ' criminal law, offices', ' estate law, offices', ' family law, offices', ' law firm', ' law offices', ' lawyers, private practice', ' legal aid services', ' patent attorneys, private practice', ' provision of expertise in a range of, or specific area of law, such as criminal, corporate, real estate, family and estate, and intellectual property', ' real estate law, private practice', ' tax law attorneys, private practice']\n",
      "['notary services (québec)']\n",
      "['bailiff services', ' immigration consultant', ' jury consulting services', ' land and/or title search, service', ' notaries public, private practice (outside québec)', ' paralegal services', ' patent agent services (i.e., patent filing and searching services)', ' process server', ' property tax assessment consulting services', ' real estate title searching and consulting', ' sale tax consultant', ' settlement offices, real estate', ' signing agent certifying signatures (except lawyer or notary)', ' title abstract and search companies, real estate', ' title reconveyance companies, real estate', ' trial consulting services']\n"
     ]
    }
   ],
   "source": [
    "for i in range(len(NAICS_2022[NAICS_2022.INDUSTRY_GROUP == IG]['EXAMPLE_SPLIT'].reset_index(drop = True))):\n",
    "    print(NAICS_2022[NAICS_2022.INDUSTRY_GROUP == IG]['EXAMPLE_SPLIT'].reset_index(drop = True)[i])"
   ]
  },
  {
   "cell_type": "code",
   "execution_count": 75,
   "metadata": {},
   "outputs": [
    {
     "name": "stdout",
     "output_type": "stream",
     "text": [
      "Offices of lawyers\n"
     ]
    }
   ],
   "source": [
    "NAICS = 541110\n",
    "for i in range(len(NAICS_2022[NAICS_2022.Code == NAICS]['Class title'].reset_index(drop = True))):\n",
    "    print(NAICS_2022[NAICS_2022.Code == NAICS]['Class title'].reset_index(drop = True)[i])"
   ]
  },
  {
   "cell_type": "code",
   "execution_count": 76,
   "metadata": {},
   "outputs": [
    {
     "name": "stdout",
     "output_type": "stream",
     "text": [
      "This Canadian industry comprises offices of legal practitioners, known as lawyers, barristers and solicitors, primarily engaged in the practice of law.\n"
     ]
    }
   ],
   "source": [
    "for i in range(len(NAICS_2022[NAICS_2022.Code == NAICS]['Class definition'].reset_index(drop = True))):\n",
    "    print(NAICS_2022[NAICS_2022.Code == NAICS]['Class definition'].reset_index(drop = True)[i])"
   ]
  },
  {
   "cell_type": "code",
   "execution_count": 77,
   "metadata": {},
   "outputs": [
    {
     "name": "stdout",
     "output_type": "stream",
     "text": [
      "['arbitration and conciliation services provided by lawyers', ' attorneys, private practice', ' barrister and solicitor, private practice', ' corporate law, offices', ' counsellors at law, private practice', ' criminal law, offices', ' estate law, offices', ' family law, offices', ' law firm', ' law offices', ' lawyers, private practice', ' legal aid services', ' patent attorneys, private practice', ' provision of expertise in a range of, or specific area of law, such as criminal, corporate, real estate, family and estate, and intellectual property', ' real estate law, private practice', ' tax law attorneys, private practice']\n"
     ]
    }
   ],
   "source": [
    "for i in range(len(NAICS_2022[NAICS_2022.Code == NAICS]['EXAMPLE_SPLIT'].reset_index(drop = True))):\n",
    "    print(NAICS_2022[NAICS_2022.Code == NAICS]['EXAMPLE_SPLIT'].reset_index(drop = True)[i])"
   ]
  },
  {
   "cell_type": "code",
   "execution_count": null,
   "metadata": {},
   "outputs": [],
   "source": []
  }
 ],
 "metadata": {
  "kernelspec": {
   "display_name": "Python 3",
   "language": "python",
   "name": "python3"
  },
  "language_info": {
   "codemirror_mode": {
    "name": "ipython",
    "version": 3
   },
   "file_extension": ".py",
   "mimetype": "text/x-python",
   "name": "python",
   "nbconvert_exporter": "python",
   "pygments_lexer": "ipython3",
   "version": "3.11.6"
  }
 },
 "nbformat": 4,
 "nbformat_minor": 5
}
