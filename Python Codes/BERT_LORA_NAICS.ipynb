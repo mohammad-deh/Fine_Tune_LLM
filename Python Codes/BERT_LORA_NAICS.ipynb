{
 "cells": [
  {
   "cell_type": "code",
   "execution_count": 1,
   "id": "f92d5a5a-0e7e-4a02-b315-c59a16c8fb16",
   "metadata": {},
   "outputs": [],
   "source": [
    "import torch\n",
    "from torch.utils.data import DataLoader\n",
    "from transformers import AutoTokenizer, AutoModelForSequenceClassification, AdamW\n",
    "from sklearn.model_selection import train_test_split\n",
    "from sklearn.metrics import accuracy_score\n",
    "#from google.colab import drive\n",
    "from transformers import BertForSequenceClassification\n",
    "from peft import LoraConfig, TaskType\n",
    "from peft import get_peft_model\n",
    "from tqdm import tqdm\n",
    "import pandas as pd"
   ]
  },
  {
   "cell_type": "code",
   "execution_count": 2,
   "id": "5e8941b7-e498-4871-8798-a1cb328f0da2",
   "metadata": {},
   "outputs": [],
   "source": [
    "NAICS_2022 = pd.read_csv('NAICS_2022.csv')\n",
    "\n",
    "NAICS_2022['INDUSTRY_GROUP'] = NAICS_2022['Code']//100\n",
    "\n",
    "NAICS_2022 = NAICS_2022.dropna(subset=['EXAMPLE']).reset_index(drop=True)\n",
    "\n",
    "# We define a function called extract_examples whose input is a text and output is a list of words\n",
    "# which are extracted from that text. After doing some preprocess on the text, we split the text by semi-colon.\n",
    "\n",
    "def extract_examples(text):\n",
    "    # Lowercase the text\n",
    "    text = text.lower()\n",
    "    text = text.replace('for example, ','')\n",
    "    \n",
    "    # Remove punctuation marks\n",
    "    #text = ''.join(char for char in text if char not in punctuation_without_semicolon)\n",
    "    \n",
    "    # Remove stopwords\n",
    "    words = text.split()\n",
    "    #words = [word for word in words if word not in stopwords]\n",
    "    \n",
    "    for i in range(len(words)):\n",
    "        if \";\" in words[i]:\n",
    "            word = words[i].replace(\";\", \"\")\n",
    "            stemmed_word = word + \";\"\n",
    "            words[i] = stemmed_word        \n",
    "        #else:\n",
    "         #   words[i] = stemmer.stem(words[i])\n",
    "    \n",
    "    \n",
    "    \n",
    "    # Stem the words\n",
    "    #words = [stemmer.stem(word) for word in words]\n",
    "    \n",
    "    # Join the words back into a string\n",
    "    text = ' '.join(words)\n",
    "    \n",
    "    list_words = text.rstrip('; ').split(';')\n",
    "    # Use Yake to extract keywords from the preprocessed text\n",
    "    #keywords = custom_kw_extractor.extract_keywords(text)\n",
    "    #keywords = [t[0] for t in keywords]\n",
    "    #if len(keywords) != 1:\n",
    "       # keywords = [t for t in keywords if len(t.split()) > 1]\n",
    "        \n",
    "    #keywords = [t[0] for t in keywords if len(t[0].split()) > 1]\n",
    "    \n",
    "    return list_words\n",
    "\n",
    "\n",
    "# Here we apply the extract_examples function on the EXAMPLE column of the dataset. \n",
    "# EXAMPLE column comprises of many examples which are separated by semi-colon.\n",
    "\n",
    "NAICS_2022['EXAMPLE_SPLIT'] = NAICS_2022['EXAMPLE'].apply(lambda x: extract_examples(x))\n",
    "\n",
    "\n",
    "# Labeling the INDUSTRY_GROUP column: we have 312 classes in the industry group level (first 4 digits of NAICS code)\n",
    "# and we label them from 0 to 311.\n",
    "\n",
    "INPUT_DF = NAICS_2022.copy()\n",
    "\n",
    "\n",
    "INPUT_DF_EXPLODE = INPUT_DF.explode('EXAMPLE_SPLIT').reset_index(drop = True)\n",
    "\n",
    "value_counts = INPUT_DF_EXPLODE['Code'].value_counts()\n",
    "# Get the values that occur more than once\n",
    "values_to_keep = value_counts[value_counts > 1].index\n",
    "\n",
    "# Filter the DataFrame to keep only rows where the value in 'a' occurs more than once\n",
    "INPUT_DF_EXPLODE = INPUT_DF_EXPLODE[INPUT_DF_EXPLODE['Code'].isin(values_to_keep)].reset_index(drop = True)\n",
    "\n",
    "mapping_IG = {sec:idx for idx, sec in enumerate(list(INPUT_DF_EXPLODE.INDUSTRY_GROUP.unique()))}\n",
    "INPUT_DF_EXPLODE['industry_group_label'] = INPUT_DF_EXPLODE['INDUSTRY_GROUP'].map(mapping_IG)\n",
    "\n",
    "mapping_NAICS = {sec:idx for idx, sec in enumerate(list(INPUT_DF_EXPLODE.Code.unique()))}\n",
    "INPUT_DF_EXPLODE['naics_label'] = INPUT_DF_EXPLODE['Code'].map(mapping_NAICS)\n",
    "\n",
    "mapping_IG_reverse = {v:k for k, v in mapping_IG.items()}\n",
    "mapping_NAICS_reverse = {v:k for k, v in mapping_NAICS.items()}\n",
    "\n",
    "INPUT_DF_EXPLODE_SELECT = INPUT_DF_EXPLODE[['Class definition','EXAMPLE_SPLIT','industry_group_label','naics_label']]\n",
    "\n"
   ]
  },
  {
   "cell_type": "code",
   "execution_count": 3,
   "id": "ba23c6e4-3b50-4924-b458-eca79611c37e",
   "metadata": {},
   "outputs": [
    {
     "data": {
      "text/html": [
       "<div>\n",
       "<style scoped>\n",
       "    .dataframe tbody tr th:only-of-type {\n",
       "        vertical-align: middle;\n",
       "    }\n",
       "\n",
       "    .dataframe tbody tr th {\n",
       "        vertical-align: top;\n",
       "    }\n",
       "\n",
       "    .dataframe thead th {\n",
       "        text-align: right;\n",
       "    }\n",
       "</style>\n",
       "<table border=\"1\" class=\"dataframe\">\n",
       "  <thead>\n",
       "    <tr style=\"text-align: right;\">\n",
       "      <th></th>\n",
       "      <th>Level</th>\n",
       "      <th>Hierarchical structure</th>\n",
       "      <th>Code</th>\n",
       "      <th>Parent</th>\n",
       "      <th>Class title</th>\n",
       "      <th>Superscript</th>\n",
       "      <th>Class definition</th>\n",
       "      <th>EXAMPLE</th>\n",
       "      <th>INDUSTRY_GROUP</th>\n",
       "      <th>EXAMPLE_SPLIT</th>\n",
       "    </tr>\n",
       "  </thead>\n",
       "  <tbody>\n",
       "    <tr>\n",
       "      <th>0</th>\n",
       "      <td>5</td>\n",
       "      <td>Canadian industry</td>\n",
       "      <td>111110</td>\n",
       "      <td>11111</td>\n",
       "      <td>Soybean farming</td>\n",
       "      <td>NaN</td>\n",
       "      <td>This Canadian industry comprises establishment...</td>\n",
       "      <td>soybean farming, field and seed production; s...</td>\n",
       "      <td>1111</td>\n",
       "      <td>[soybean farming, field and seed production,  ...</td>\n",
       "    </tr>\n",
       "    <tr>\n",
       "      <th>1</th>\n",
       "      <td>5</td>\n",
       "      <td>Canadian industry</td>\n",
       "      <td>111120</td>\n",
       "      <td>11112</td>\n",
       "      <td>Oilseed (except soybean) farming</td>\n",
       "      <td>US</td>\n",
       "      <td>This Canadian industry comprises establishment...</td>\n",
       "      <td>canola (rapeseed) farming; linseed (flaxseed)...</td>\n",
       "      <td>1111</td>\n",
       "      <td>[canola (rapeseed) farming,  linseed (flaxseed...</td>\n",
       "    </tr>\n",
       "    <tr>\n",
       "      <th>2</th>\n",
       "      <td>5</td>\n",
       "      <td>Canadian industry</td>\n",
       "      <td>111130</td>\n",
       "      <td>11113</td>\n",
       "      <td>Dry pea and bean farming</td>\n",
       "      <td>US</td>\n",
       "      <td>This Canadian industry comprises establishment...</td>\n",
       "      <td>bean or pea farming (field crop); dry bean fa...</td>\n",
       "      <td>1111</td>\n",
       "      <td>[bean or pea farming (field crop),  dry bean f...</td>\n",
       "    </tr>\n",
       "    <tr>\n",
       "      <th>3</th>\n",
       "      <td>5</td>\n",
       "      <td>Canadian industry</td>\n",
       "      <td>111140</td>\n",
       "      <td>11114</td>\n",
       "      <td>Wheat farming</td>\n",
       "      <td>NaN</td>\n",
       "      <td>This Canadian industry comprises establishment...</td>\n",
       "      <td>wheat (i.e., spring, winter and durum) growin...</td>\n",
       "      <td>1111</td>\n",
       "      <td>[wheat (i.e., spring, winter and durum) growin...</td>\n",
       "    </tr>\n",
       "    <tr>\n",
       "      <th>4</th>\n",
       "      <td>5</td>\n",
       "      <td>Canadian industry</td>\n",
       "      <td>111150</td>\n",
       "      <td>11115</td>\n",
       "      <td>Corn farming</td>\n",
       "      <td>US</td>\n",
       "      <td>This Canadian industry comprises establishment...</td>\n",
       "      <td>corn (except sweet corn) farming, field and s...</td>\n",
       "      <td>1111</td>\n",
       "      <td>[corn (except sweet corn) farming, field and s...</td>\n",
       "    </tr>\n",
       "    <tr>\n",
       "      <th>...</th>\n",
       "      <td>...</td>\n",
       "      <td>...</td>\n",
       "      <td>...</td>\n",
       "      <td>...</td>\n",
       "      <td>...</td>\n",
       "      <td>...</td>\n",
       "      <td>...</td>\n",
       "      <td>...</td>\n",
       "      <td>...</td>\n",
       "      <td>...</td>\n",
       "    </tr>\n",
       "    <tr>\n",
       "      <th>918</th>\n",
       "      <td>5</td>\n",
       "      <td>Canadian industry</td>\n",
       "      <td>913910</td>\n",
       "      <td>91391</td>\n",
       "      <td>Other local, municipal and regional public adm...</td>\n",
       "      <td>CAN</td>\n",
       "      <td>This Canadian industry comprises establishment...</td>\n",
       "      <td>adult education program, local; amusement tax...</td>\n",
       "      <td>9139</td>\n",
       "      <td>[adult education program, local,  amusement ta...</td>\n",
       "    </tr>\n",
       "    <tr>\n",
       "      <th>919</th>\n",
       "      <td>5</td>\n",
       "      <td>Canadian industry</td>\n",
       "      <td>914111</td>\n",
       "      <td>91411</td>\n",
       "      <td>First Nations public administration</td>\n",
       "      <td>CAN</td>\n",
       "      <td>This Canadian industry comprises establishment...</td>\n",
       "      <td>First Nations Band Council; First Nations Sel...</td>\n",
       "      <td>9141</td>\n",
       "      <td>[first nations band council,  first nations se...</td>\n",
       "    </tr>\n",
       "    <tr>\n",
       "      <th>920</th>\n",
       "      <td>5</td>\n",
       "      <td>Canadian industry</td>\n",
       "      <td>914112</td>\n",
       "      <td>91411</td>\n",
       "      <td>MÃ©tis public administration</td>\n",
       "      <td>CAN</td>\n",
       "      <td>This Canadian industry comprises establishment...</td>\n",
       "      <td>Métis Self-Government;</td>\n",
       "      <td>9141</td>\n",
       "      <td>[métis self-government]</td>\n",
       "    </tr>\n",
       "    <tr>\n",
       "      <th>921</th>\n",
       "      <td>5</td>\n",
       "      <td>Canadian industry</td>\n",
       "      <td>914113</td>\n",
       "      <td>91411</td>\n",
       "      <td>Inuit public administration</td>\n",
       "      <td>CAN</td>\n",
       "      <td>This Canadian industry comprises establishment...</td>\n",
       "      <td>Inuit Self-Government;</td>\n",
       "      <td>9141</td>\n",
       "      <td>[inuit self-government]</td>\n",
       "    </tr>\n",
       "    <tr>\n",
       "      <th>922</th>\n",
       "      <td>5</td>\n",
       "      <td>Canadian industry</td>\n",
       "      <td>919110</td>\n",
       "      <td>91911</td>\n",
       "      <td>International and other extra-territorial publ...</td>\n",
       "      <td>CAN</td>\n",
       "      <td>This Canadian industry comprises establishment...</td>\n",
       "      <td>African Union; Arab League; consular service,...</td>\n",
       "      <td>9191</td>\n",
       "      <td>[african union,  arab league,  consular servic...</td>\n",
       "    </tr>\n",
       "  </tbody>\n",
       "</table>\n",
       "<p>923 rows × 10 columns</p>\n",
       "</div>"
      ],
      "text/plain": [
       "     Level Hierarchical structure    Code  Parent   \\\n",
       "0        5      Canadian industry  111110    11111   \n",
       "1        5      Canadian industry  111120    11112   \n",
       "2        5      Canadian industry  111130    11113   \n",
       "3        5      Canadian industry  111140    11114   \n",
       "4        5      Canadian industry  111150    11115   \n",
       "..     ...                    ...     ...      ...   \n",
       "918      5      Canadian industry  913910    91391   \n",
       "919      5      Canadian industry  914111    91411   \n",
       "920      5      Canadian industry  914112    91411   \n",
       "921      5      Canadian industry  914113    91411   \n",
       "922      5      Canadian industry  919110    91911   \n",
       "\n",
       "                                           Class title Superscript  \\\n",
       "0                                      Soybean farming         NaN   \n",
       "1                     Oilseed (except soybean) farming          US   \n",
       "2                             Dry pea and bean farming          US   \n",
       "3                                        Wheat farming         NaN   \n",
       "4                                         Corn farming          US   \n",
       "..                                                 ...         ...   \n",
       "918  Other local, municipal and regional public adm...         CAN   \n",
       "919                First Nations public administration         CAN   \n",
       "920                       MÃ©tis public administration         CAN   \n",
       "921                        Inuit public administration         CAN   \n",
       "922  International and other extra-territorial publ...         CAN   \n",
       "\n",
       "                                      Class definition  \\\n",
       "0    This Canadian industry comprises establishment...   \n",
       "1    This Canadian industry comprises establishment...   \n",
       "2    This Canadian industry comprises establishment...   \n",
       "3    This Canadian industry comprises establishment...   \n",
       "4    This Canadian industry comprises establishment...   \n",
       "..                                                 ...   \n",
       "918  This Canadian industry comprises establishment...   \n",
       "919  This Canadian industry comprises establishment...   \n",
       "920  This Canadian industry comprises establishment...   \n",
       "921  This Canadian industry comprises establishment...   \n",
       "922  This Canadian industry comprises establishment...   \n",
       "\n",
       "                                               EXAMPLE  INDUSTRY_GROUP  \\\n",
       "0     soybean farming, field and seed production; s...            1111   \n",
       "1     canola (rapeseed) farming; linseed (flaxseed)...            1111   \n",
       "2     bean or pea farming (field crop); dry bean fa...            1111   \n",
       "3     wheat (i.e., spring, winter and durum) growin...            1111   \n",
       "4     corn (except sweet corn) farming, field and s...            1111   \n",
       "..                                                 ...             ...   \n",
       "918   adult education program, local; amusement tax...            9139   \n",
       "919   First Nations Band Council; First Nations Sel...            9141   \n",
       "920                            Métis Self-Government;             9141   \n",
       "921                            Inuit Self-Government;             9141   \n",
       "922   African Union; Arab League; consular service,...            9191   \n",
       "\n",
       "                                         EXAMPLE_SPLIT  \n",
       "0    [soybean farming, field and seed production,  ...  \n",
       "1    [canola (rapeseed) farming,  linseed (flaxseed...  \n",
       "2    [bean or pea farming (field crop),  dry bean f...  \n",
       "3    [wheat (i.e., spring, winter and durum) growin...  \n",
       "4    [corn (except sweet corn) farming, field and s...  \n",
       "..                                                 ...  \n",
       "918  [adult education program, local,  amusement ta...  \n",
       "919  [first nations band council,  first nations se...  \n",
       "920                            [métis self-government]  \n",
       "921                            [inuit self-government]  \n",
       "922  [african union,  arab league,  consular servic...  \n",
       "\n",
       "[923 rows x 10 columns]"
      ]
     },
     "execution_count": 3,
     "metadata": {},
     "output_type": "execute_result"
    }
   ],
   "source": [
    "NAICS_2022"
   ]
  },
  {
   "cell_type": "code",
   "execution_count": 4,
   "id": "228fb5a3-9c8d-4534-a7e2-006567105233",
   "metadata": {},
   "outputs": [
    {
     "name": "stdout",
     "output_type": "stream",
     "text": [
      "GPU is available!\n"
     ]
    }
   ],
   "source": [
    "if torch.cuda.is_available():\n",
    "    print(\"GPU is available!\")\n",
    "else:\n",
    "    print(\"GPU is not available. Using CPU.\")"
   ]
  },
  {
   "cell_type": "code",
   "execution_count": 5,
   "id": "1e89be13-86de-4dc7-8fd6-e332c94091df",
   "metadata": {},
   "outputs": [
    {
     "data": {
      "text/plain": [
       "19138"
      ]
     },
     "execution_count": 5,
     "metadata": {},
     "output_type": "execute_result"
    }
   ],
   "source": [
    "len(INPUT_DF_EXPLODE_SELECT)"
   ]
  },
  {
   "cell_type": "code",
   "execution_count": 6,
   "id": "7ee0e91c-b139-4d41-930a-85b5819a8a08",
   "metadata": {},
   "outputs": [],
   "source": [
    "X_train, X_valid, y_train, y_valid = train_test_split(\n",
    "    INPUT_DF_EXPLODE_SELECT['EXAMPLE_SPLIT'],\n",
    "    INPUT_DF_EXPLODE_SELECT['naics_label'],\n",
    "    test_size=0.1,\n",
    "    random_state=42,\n",
    "    stratify=INPUT_DF_EXPLODE_SELECT['naics_label']\n",
    ")"
   ]
  },
  {
   "cell_type": "code",
   "execution_count": 7,
   "id": "3f10cdb8-e2b7-4bb5-9569-b9e297e6ad75",
   "metadata": {},
   "outputs": [],
   "source": [
    "tokenizer = AutoTokenizer.from_pretrained('bert-base-uncased')\n",
    "train_encodings = tokenizer(list(X_train), truncation=True, padding=True, return_tensors='pt')\n",
    "valid_encodings = tokenizer(list(X_valid), truncation=True, padding=True, return_tensors='pt')"
   ]
  },
  {
   "cell_type": "code",
   "execution_count": 8,
   "id": "5f2d4ee4-c003-486d-9a69-e6de48c1ea34",
   "metadata": {},
   "outputs": [],
   "source": [
    "# Convert labels to tensors\n",
    "train_labels = torch.tensor(list(y_train))\n",
    "valid_labels = torch.tensor(list(y_valid))\n"
   ]
  },
  {
   "cell_type": "code",
   "execution_count": 9,
   "id": "125f6aa3-901a-4263-a326-7f52dc02e10b",
   "metadata": {},
   "outputs": [],
   "source": [
    "device = torch.device('cuda' if torch.cuda.is_available() else 'cpu')\n",
    "#device = 'cpu'\n",
    "train_encodings = {key: val.to(device) for key, val in train_encodings.items()}\n",
    "valid_encodings = {key: val.to(device) for key, val in valid_encodings.items()}\n",
    "train_labels = train_labels.to(device)\n",
    "valid_labels = valid_labels.to(device)"
   ]
  },
  {
   "cell_type": "code",
   "execution_count": 10,
   "id": "afc7e5f6-5922-4268-add5-b62517d2f513",
   "metadata": {},
   "outputs": [
    {
     "data": {
      "text/plain": [
       "{'input_ids': tensor([[  101,  3871,  9620,  ...,     0,     0,     0],\n",
       "         [  101,  2512,  1011,  ...,     0,     0,     0],\n",
       "         [  101,  3221,  3688,  ...,     0,     0,     0],\n",
       "         ...,\n",
       "         [  101, 17462, 11382,  ...,     0,     0,     0],\n",
       "         [  101,  3806,  2240,  ...,     0,     0,     0],\n",
       "         [  101,  7254,  7390,  ...,     0,     0,     0]], device='cuda:0'),\n",
       " 'token_type_ids': tensor([[0, 0, 0,  ..., 0, 0, 0],\n",
       "         [0, 0, 0,  ..., 0, 0, 0],\n",
       "         [0, 0, 0,  ..., 0, 0, 0],\n",
       "         ...,\n",
       "         [0, 0, 0,  ..., 0, 0, 0],\n",
       "         [0, 0, 0,  ..., 0, 0, 0],\n",
       "         [0, 0, 0,  ..., 0, 0, 0]], device='cuda:0'),\n",
       " 'attention_mask': tensor([[1, 1, 1,  ..., 0, 0, 0],\n",
       "         [1, 1, 1,  ..., 0, 0, 0],\n",
       "         [1, 1, 1,  ..., 0, 0, 0],\n",
       "         ...,\n",
       "         [1, 1, 1,  ..., 0, 0, 0],\n",
       "         [1, 1, 1,  ..., 0, 0, 0],\n",
       "         [1, 1, 1,  ..., 0, 0, 0]], device='cuda:0')}"
      ]
     },
     "execution_count": 10,
     "metadata": {},
     "output_type": "execute_result"
    }
   ],
   "source": [
    "train_encodings"
   ]
  },
  {
   "cell_type": "code",
   "execution_count": 11,
   "id": "75f43c06-c04c-43a3-9f08-0b9c79461646",
   "metadata": {},
   "outputs": [],
   "source": [
    "from torch.utils.data import TensorDataset, DataLoader\n",
    "\n",
    "# Assuming train_encoding and train_labels are your input data\n",
    "train_dataset = TensorDataset(train_encodings['input_ids'], \n",
    "                              train_encodings['token_type_ids'], \n",
    "                              train_encodings['attention_mask'], \n",
    "                              train_labels)\n"
   ]
  },
  {
   "cell_type": "code",
   "execution_count": 12,
   "id": "c87b6dff-d5a6-46a0-9d61-a97d9409dc8f",
   "metadata": {},
   "outputs": [],
   "source": [
    "# Set batch size according to your preference\n",
    "batch_size = 16\n",
    "\n",
    "# Create DataLoader\n",
    "train_dataloader = DataLoader(train_dataset, batch_size=batch_size, shuffle=True)\n"
   ]
  },
  {
   "cell_type": "code",
   "execution_count": 13,
   "id": "887f3af7-a2bc-4a5e-ab33-319ed209d393",
   "metadata": {},
   "outputs": [],
   "source": [
    "valid_dataset = TensorDataset(valid_encodings['input_ids'], \n",
    "                              valid_encodings['token_type_ids'], \n",
    "                              valid_encodings['attention_mask'], \n",
    "                              valid_labels)\n",
    "\n",
    "valid_dataloader = DataLoader(valid_dataset, batch_size=batch_size, shuffle=True)"
   ]
  },
  {
   "cell_type": "code",
   "execution_count": 14,
   "id": "fc03975c-9a28-4886-b784-f5816538270a",
   "metadata": {},
   "outputs": [],
   "source": [
    "NUM_CLASS = len(list(set(list(y_train))))"
   ]
  },
  {
   "cell_type": "code",
   "execution_count": 15,
   "id": "71914586-dd6a-4352-8e13-69284a220437",
   "metadata": {},
   "outputs": [
    {
     "name": "stderr",
     "output_type": "stream",
     "text": [
      "Some weights of BertForSequenceClassification were not initialized from the model checkpoint at bert-base-uncased and are newly initialized: ['classifier.weight', 'classifier.bias']\n",
      "You should probably TRAIN this model on a down-stream task to be able to use it for predictions and inference.\n"
     ]
    },
    {
     "name": "stdout",
     "output_type": "stream",
     "text": [
      "Number of trainable parameters: 963173\n",
      "Total number of parameters: 111113674\n"
     ]
    }
   ],
   "source": [
    "model = BertForSequenceClassification.from_pretrained(\n",
    "    'bert-base-uncased', \n",
    "    num_labels=NUM_CLASS\n",
    ")\n",
    "\n",
    "lora_config = LoraConfig(\n",
    "    task_type=TaskType.SEQ_CLS, r=8, lora_alpha=1, lora_dropout=0.1\n",
    ")\n",
    "\n",
    "\n",
    "model = get_peft_model(model, lora_config)\n",
    "\n",
    "# Set up training parameters\n",
    "optimizer = torch.optim.AdamW(model.parameters(), lr=5e-5)\n",
    "model.to(device)\n",
    "\n",
    "# Count trainable parameters\n",
    "num_trainable_params = sum(p.numel() for p in model.parameters() if p.requires_grad)\n",
    "print(f\"Number of trainable parameters: {num_trainable_params}\")\n",
    "\n",
    "# Count total parameters (including non-trainable)\n",
    "num_total_params = sum(p.numel() for p in model.parameters())\n",
    "print(f\"Total number of parameters: {num_total_params}\")"
   ]
  },
  {
   "cell_type": "code",
   "execution_count": 16,
   "id": "9fd85676-b9d6-42ba-b44e-7cbb9c8341dd",
   "metadata": {},
   "outputs": [
    {
     "data": {
      "text/plain": [
       "0.008668357055676154"
      ]
     },
     "execution_count": 16,
     "metadata": {},
     "output_type": "execute_result"
    }
   ],
   "source": [
    "963173/111113674"
   ]
  },
  {
   "cell_type": "code",
   "execution_count": 17,
   "id": "606d2c90-25b6-4923-b6bf-bb08c26bcdaa",
   "metadata": {
    "scrolled": true
   },
   "outputs": [
    {
     "name": "stdout",
     "output_type": "stream",
     "text": [
      "PeftModelForSequenceClassification(\n",
      "  (base_model): LoraModel(\n",
      "    (model): BertForSequenceClassification(\n",
      "      (bert): BertModel(\n",
      "        (embeddings): BertEmbeddings(\n",
      "          (word_embeddings): Embedding(30522, 768, padding_idx=0)\n",
      "          (position_embeddings): Embedding(512, 768)\n",
      "          (token_type_embeddings): Embedding(2, 768)\n",
      "          (LayerNorm): LayerNorm((768,), eps=1e-12, elementwise_affine=True)\n",
      "          (dropout): Dropout(p=0.1, inplace=False)\n",
      "        )\n",
      "        (encoder): BertEncoder(\n",
      "          (layer): ModuleList(\n",
      "            (0-11): 12 x BertLayer(\n",
      "              (attention): BertAttention(\n",
      "                (self): BertSelfAttention(\n",
      "                  (query): Linear(\n",
      "                    in_features=768, out_features=768, bias=True\n",
      "                    (lora_dropout): ModuleDict(\n",
      "                      (default): Dropout(p=0.1, inplace=False)\n",
      "                    )\n",
      "                    (lora_A): ModuleDict(\n",
      "                      (default): Linear(in_features=768, out_features=8, bias=False)\n",
      "                    )\n",
      "                    (lora_B): ModuleDict(\n",
      "                      (default): Linear(in_features=8, out_features=768, bias=False)\n",
      "                    )\n",
      "                    (lora_embedding_A): ParameterDict()\n",
      "                    (lora_embedding_B): ParameterDict()\n",
      "                  )\n",
      "                  (key): Linear(in_features=768, out_features=768, bias=True)\n",
      "                  (value): Linear(\n",
      "                    in_features=768, out_features=768, bias=True\n",
      "                    (lora_dropout): ModuleDict(\n",
      "                      (default): Dropout(p=0.1, inplace=False)\n",
      "                    )\n",
      "                    (lora_A): ModuleDict(\n",
      "                      (default): Linear(in_features=768, out_features=8, bias=False)\n",
      "                    )\n",
      "                    (lora_B): ModuleDict(\n",
      "                      (default): Linear(in_features=8, out_features=768, bias=False)\n",
      "                    )\n",
      "                    (lora_embedding_A): ParameterDict()\n",
      "                    (lora_embedding_B): ParameterDict()\n",
      "                  )\n",
      "                  (dropout): Dropout(p=0.1, inplace=False)\n",
      "                )\n",
      "                (output): BertSelfOutput(\n",
      "                  (dense): Linear(in_features=768, out_features=768, bias=True)\n",
      "                  (LayerNorm): LayerNorm((768,), eps=1e-12, elementwise_affine=True)\n",
      "                  (dropout): Dropout(p=0.1, inplace=False)\n",
      "                )\n",
      "              )\n",
      "              (intermediate): BertIntermediate(\n",
      "                (dense): Linear(in_features=768, out_features=3072, bias=True)\n",
      "                (intermediate_act_fn): GELUActivation()\n",
      "              )\n",
      "              (output): BertOutput(\n",
      "                (dense): Linear(in_features=3072, out_features=768, bias=True)\n",
      "                (LayerNorm): LayerNorm((768,), eps=1e-12, elementwise_affine=True)\n",
      "                (dropout): Dropout(p=0.1, inplace=False)\n",
      "              )\n",
      "            )\n",
      "          )\n",
      "        )\n",
      "        (pooler): BertPooler(\n",
      "          (dense): Linear(in_features=768, out_features=768, bias=True)\n",
      "          (activation): Tanh()\n",
      "        )\n",
      "      )\n",
      "      (dropout): Dropout(p=0.1, inplace=False)\n",
      "      (classifier): ModulesToSaveWrapper(\n",
      "        (original_module): Linear(in_features=768, out_features=869, bias=True)\n",
      "        (modules_to_save): ModuleDict(\n",
      "          (default): Linear(in_features=768, out_features=869, bias=True)\n",
      "        )\n",
      "      )\n",
      "    )\n",
      "  )\n",
      ")\n"
     ]
    }
   ],
   "source": [
    "print(model)"
   ]
  },
  {
   "cell_type": "code",
   "execution_count": 17,
   "id": "8abc8e3f-75f7-4f4e-b45f-e3260d8d3bc2",
   "metadata": {},
   "outputs": [],
   "source": [
    "torch.cuda.empty_cache()"
   ]
  },
  {
   "cell_type": "code",
   "execution_count": 18,
   "id": "a1316b27-f78a-4110-a0ba-da6c75f9ea57",
   "metadata": {},
   "outputs": [],
   "source": [
    "import torch\n",
    "import torch.nn as nn\n",
    "from torch.nn.parallel import DataParallel\n",
    "\n",
    "\n",
    "# Check if multiple GPUs are available\n",
    "if torch.cuda.device_count() > 1:\n",
    "    print(f\"Using {torch.cuda.device_count()} GPUs!\")\n",
    "    model = DataParallel(model)\n",
    "\n",
    "# Move the model to GPU(s)\n",
    "model = model.cuda()\n",
    "\n",
    "# Now you can use the model as usual\n"
   ]
  },
  {
   "cell_type": "code",
   "execution_count": 19,
   "id": "3f2e75ac-28d7-4ca6-b45c-b8edd4bec8d2",
   "metadata": {},
   "outputs": [],
   "source": [
    "import torch\n",
    "\n",
    "# Limit GPU memory growth\n",
    "#torch.cuda.set_per_process_memory_fraction(0.8)  # Adjust the fraction as needed\n"
   ]
  },
  {
   "cell_type": "code",
   "execution_count": 20,
   "id": "cf32f2cf-a5a6-445e-a934-4257ee41c520",
   "metadata": {},
   "outputs": [],
   "source": [
    "#pip install nvidia-ml-py3"
   ]
  },
  {
   "cell_type": "code",
   "execution_count": 21,
   "id": "244193d5-c542-46fd-bc88-320340d8ba3f",
   "metadata": {},
   "outputs": [
    {
     "name": "stderr",
     "output_type": "stream",
     "text": [
      "                                                                                                                       \r"
     ]
    },
    {
     "name": "stdout",
     "output_type": "stream",
     "text": [
      "Epoch 1/10:\n",
      "Training Loss: 5.117507210681033\n",
      "Validation Loss: 3.8808722416559855\n",
      "F1 Score: 0.19573424290374772\n",
      "Balanced Accuracy: 0.10704944080443266\n",
      "--------------------------------------------------\n"
     ]
    },
    {
     "name": "stderr",
     "output_type": "stream",
     "text": [
      "                                                                                                                       \r"
     ]
    },
    {
     "name": "stdout",
     "output_type": "stream",
     "text": [
      "Epoch 2/10:\n",
      "Training Loss: 3.323916776930721\n",
      "Validation Loss: 2.771032762527466\n",
      "F1 Score: 0.36362078660379943\n",
      "Balanced Accuracy: 0.22078864550704902\n",
      "--------------------------------------------------\n"
     ]
    },
    {
     "name": "stderr",
     "output_type": "stream",
     "text": [
      "                                                                                                                       \r"
     ]
    },
    {
     "name": "stdout",
     "output_type": "stream",
     "text": [
      "Epoch 3/10:\n",
      "Training Loss: 2.328649739369044\n",
      "Validation Loss: 2.1659298479557036\n",
      "F1 Score: 0.47114322473796044\n",
      "Balanced Accuracy: 0.3244386536328263\n",
      "--------------------------------------------------\n"
     ]
    },
    {
     "name": "stderr",
     "output_type": "stream",
     "text": [
      "C:\\Users\\User\\Desktop\\Lora 2\\.venv\\Lib\\site-packages\\sklearn\\metrics\\_classification.py:2399: UserWarning: y_pred contains classes not in y_true\n",
      "  warnings.warn(\"y_pred contains classes not in y_true\")\n"
     ]
    },
    {
     "name": "stdout",
     "output_type": "stream",
     "text": [
      "Epoch 4/10:\n",
      "Training Loss: 1.6736489460771573\n",
      "Validation Loss: 1.7529956579208374\n",
      "F1 Score: 0.585653893478821\n",
      "Balanced Accuracy: 0.4518503914693145\n",
      "--------------------------------------------------\n"
     ]
    },
    {
     "name": "stderr",
     "output_type": "stream",
     "text": [
      "C:\\Users\\User\\Desktop\\Lora 2\\.venv\\Lib\\site-packages\\sklearn\\metrics\\_classification.py:2399: UserWarning: y_pred contains classes not in y_true\n",
      "  warnings.warn(\"y_pred contains classes not in y_true\")\n"
     ]
    },
    {
     "name": "stdout",
     "output_type": "stream",
     "text": [
      "Epoch 5/10:\n",
      "Training Loss: 1.2225299327873806\n",
      "Validation Loss: 1.4976436267296473\n",
      "F1 Score: 0.629536683443063\n",
      "Balanced Accuracy: 0.5034422592209454\n",
      "--------------------------------------------------\n"
     ]
    },
    {
     "name": "stderr",
     "output_type": "stream",
     "text": [
      "C:\\Users\\User\\Desktop\\Lora 2\\.venv\\Lib\\site-packages\\sklearn\\metrics\\_classification.py:2399: UserWarning: y_pred contains classes not in y_true\n",
      "  warnings.warn(\"y_pred contains classes not in y_true\")\n"
     ]
    },
    {
     "name": "stdout",
     "output_type": "stream",
     "text": [
      "Epoch 6/10:\n",
      "Training Loss: 0.9037067760110676\n",
      "Validation Loss: 1.369629900654157\n",
      "F1 Score: 0.6703024451013009\n",
      "Balanced Accuracy: 0.5782403151818304\n",
      "--------------------------------------------------\n"
     ]
    },
    {
     "name": "stderr",
     "output_type": "stream",
     "text": [
      "C:\\Users\\User\\Desktop\\Lora 2\\.venv\\Lib\\site-packages\\sklearn\\metrics\\_classification.py:2399: UserWarning: y_pred contains classes not in y_true\n",
      "  warnings.warn(\"y_pred contains classes not in y_true\")\n"
     ]
    },
    {
     "name": "stdout",
     "output_type": "stream",
     "text": [
      "Epoch 7/10:\n",
      "Training Loss: 0.684348363280573\n",
      "Validation Loss: 1.288301892951131\n",
      "F1 Score: 0.6941387532141048\n",
      "Balanced Accuracy: 0.6150531811770873\n",
      "--------------------------------------------------\n"
     ]
    },
    {
     "name": "stderr",
     "output_type": "stream",
     "text": [
      "C:\\Users\\User\\Desktop\\Lora 2\\.venv\\Lib\\site-packages\\sklearn\\metrics\\_classification.py:2399: UserWarning: y_pred contains classes not in y_true\n",
      "  warnings.warn(\"y_pred contains classes not in y_true\")\n"
     ]
    },
    {
     "name": "stdout",
     "output_type": "stream",
     "text": [
      "Epoch 8/10:\n",
      "Training Loss: 0.5369050269920513\n",
      "Validation Loss: 1.2360669496158758\n",
      "F1 Score: 0.7109500545154364\n",
      "Balanced Accuracy: 0.6415063162227869\n",
      "--------------------------------------------------\n"
     ]
    },
    {
     "name": "stderr",
     "output_type": "stream",
     "text": [
      "C:\\Users\\User\\Desktop\\Lora 2\\.venv\\Lib\\site-packages\\sklearn\\metrics\\_classification.py:2399: UserWarning: y_pred contains classes not in y_true\n",
      "  warnings.warn(\"y_pred contains classes not in y_true\")\n"
     ]
    },
    {
     "name": "stdout",
     "output_type": "stream",
     "text": [
      "Epoch 9/10:\n",
      "Training Loss: 0.4424993259661045\n",
      "Validation Loss: 1.1889331533263128\n",
      "F1 Score: 0.7144773510015616\n",
      "Balanced Accuracy: 0.6416194302205747\n",
      "--------------------------------------------------\n"
     ]
    },
    {
     "name": "stderr",
     "output_type": "stream",
     "text": [
      "                                                                                                                       \r"
     ]
    },
    {
     "name": "stdout",
     "output_type": "stream",
     "text": [
      "Epoch 10/10:\n",
      "Training Loss: 0.39136002734372655\n",
      "Validation Loss: 1.1835569436351459\n",
      "F1 Score: 0.7203075191047965\n",
      "Balanced Accuracy: 0.6496843297745551\n",
      "--------------------------------------------------\n"
     ]
    },
    {
     "name": "stderr",
     "output_type": "stream",
     "text": [
      "C:\\Users\\User\\Desktop\\Lora 2\\.venv\\Lib\\site-packages\\sklearn\\metrics\\_classification.py:2399: UserWarning: y_pred contains classes not in y_true\n",
      "  warnings.warn(\"y_pred contains classes not in y_true\")\n"
     ]
    }
   ],
   "source": [
    "from transformers import  AdamW, get_linear_schedule_with_warmup\n",
    "from sklearn.metrics import f1_score, balanced_accuracy_score\n",
    "from tqdm import tqdm\n",
    "import os\n",
    "os.environ[\"PYTORCH_CUDA_ALLOC_CONF\"] = \"max_split_size_mb:512\"\n",
    "# Number of training epochs\n",
    "NUM_EPOCHS = 10\n",
    "scheduler = get_linear_schedule_with_warmup(optimizer, num_warmup_steps=0, num_training_steps=len(train_dataloader)*NUM_EPOCHS)\n",
    "criterion = torch.nn.CrossEntropyLoss()\n",
    "\n",
    "\n",
    "\n",
    "# Lists to store training losses and F1 scores\n",
    "train_losses = []\n",
    "valid_losses = []\n",
    "f1_scores = []\n",
    "balanced_accuracies = []\n",
    "# Training loop with tqdm\n",
    "\n",
    "\n",
    "\n",
    "\n",
    "for epoch in range(NUM_EPOCHS):\n",
    "    torch.cuda.empty_cache()\n",
    "    model.train()\n",
    "    total_train_loss = 0.0\n",
    "\n",
    "\n",
    "\n",
    "    # Use tqdm to create a progress bar\n",
    "    progress_bar = tqdm(train_dataloader, desc=f'Epoch {epoch + 1}/{NUM_EPOCHS}', leave=False)\n",
    "\n",
    "    for batch in progress_bar:\n",
    "        input_ids, token_type_ids, attention_mask, labels = batch\n",
    "\n",
    "        optimizer.zero_grad()\n",
    "        #print('1')\n",
    "\n",
    "        outputs = model(input_ids, token_type_ids=token_type_ids, attention_mask=attention_mask, labels=labels)\n",
    "        loss = outputs.loss\n",
    "\n",
    "        total_train_loss += loss.item()\n",
    "        #os.environ[\"PYTORCH_CUDA_ALLOC_CONF\"] = \"max_split_size_mb:1024\"\n",
    "\n",
    "        loss.backward()\n",
    "        torch.nn.utils.clip_grad_norm_(model.parameters(), 1.0)  # Gradient clipping to prevent exploding gradients\n",
    "        #print('2')\n",
    "        \n",
    "\n",
    "        optimizer.step()\n",
    "        scheduler.step()\n",
    "\n",
    "        #print('3')\n",
    "\n",
    "        # Update the tqdm progress bar with the current loss\n",
    "        progress_bar.set_postfix({'Training Loss': loss.item()})\n",
    "\n",
    "    average_train_loss = total_train_loss / len(train_dataloader)\n",
    "    train_losses.append(average_train_loss)\n",
    "\n",
    "    # Validation\n",
    "    model.eval()\n",
    "    total_valid_loss = 0.0\n",
    "    all_preds = []\n",
    "    all_labels = []\n",
    "\n",
    "    with torch.no_grad():\n",
    "        for batch in valid_dataloader:\n",
    "            input_ids, token_type_ids, attention_mask, labels = batch\n",
    "\n",
    "            outputs = model(input_ids, token_type_ids=token_type_ids, attention_mask=attention_mask, labels=labels)\n",
    "            loss = outputs.loss\n",
    "\n",
    "            total_valid_loss += loss.item()\n",
    "\n",
    "            logits = outputs.logits\n",
    "            preds = torch.argmax(logits, dim=1).cpu().numpy()\n",
    "            all_preds.extend(preds)\n",
    "            all_labels.extend(labels.cpu().numpy())\n",
    "\n",
    "    average_valid_loss = total_valid_loss / len(valid_dataloader)\n",
    "    valid_losses.append(average_valid_loss)\n",
    "\n",
    "    # Calculate F1 score\n",
    "    f1 = f1_score(all_labels, all_preds, average='weighted')\n",
    "    f1_scores.append(f1)\n",
    "    balanced_acc = balanced_accuracy_score(all_labels, all_preds)\n",
    "    balanced_accuracies.append(balanced_acc)\n",
    "\n",
    "    # Print training and validation statistics\n",
    "    print(f'Epoch {epoch + 1}/{NUM_EPOCHS}:')\n",
    "    print(f'Training Loss: {average_train_loss}')\n",
    "    print(f'Validation Loss: {average_valid_loss}')\n",
    "    print(f'F1 Score: {f1}')\n",
    "    print(f'Balanced Accuracy: {balanced_acc}')\n",
    "    print('-' * 50)\n"
   ]
  },
  {
   "cell_type": "code",
   "execution_count": 23,
   "id": "f61721be-6e79-4952-b528-7a88d6259ab3",
   "metadata": {},
   "outputs": [],
   "source": [
    "torch.save(model.state_dict(), 'Bert_TM_NAICS_model.pth')"
   ]
  },
  {
   "cell_type": "code",
   "execution_count": 24,
   "id": "51e14861-6590-4102-8250-ed482ccae866",
   "metadata": {},
   "outputs": [],
   "source": [
    "with open('train_losses_bert_naics.txt', 'w') as file:\n",
    "    for item in train_losses:\n",
    "        file.write(f\"{item}\\n\")\n",
    "\n",
    "with open('valid_losses_bert_naics.txt', 'w') as file:\n",
    "    for item in valid_losses:\n",
    "        file.write(f\"{item}\\n\")\n",
    "\n",
    "with open('f1_scores_bert_naics.txt', 'w') as file:\n",
    "    for item in f1_scores:\n",
    "        file.write(f\"{item}\\n\")\n",
    "\n",
    "with open('balanced_accuracies_bert_naics.txt', 'w') as file:\n",
    "    for item in balanced_accuracies:\n",
    "        file.write(f\"{item}\\n\")"
   ]
  },
  {
   "cell_type": "code",
   "execution_count": null,
   "id": "d6e72d6e-75bc-4469-8ffe-01b3a303d439",
   "metadata": {},
   "outputs": [],
   "source": []
  },
  {
   "cell_type": "markdown",
   "id": "ecf5b804-f280-4776-86c3-b68121d36aaf",
   "metadata": {},
   "source": [
    "# Prediction of TM dataset based on NICE classes"
   ]
  },
  {
   "cell_type": "code",
   "execution_count": 26,
   "id": "c6ba95ed-ac33-4753-9073-6b7cd446494a",
   "metadata": {},
   "outputs": [],
   "source": [
    "Sample_TM_800_Unique_Files = pd.read_excel('Sample_TM_800_Unique_Files.xlsx')"
   ]
  },
  {
   "cell_type": "code",
   "execution_count": 27,
   "id": "bca4659a-8843-4092-91e0-b0da047c8a3e",
   "metadata": {},
   "outputs": [],
   "source": [
    "Sample_TM_800_Unique_Files = Sample_TM_800_Unique_Files.dropna(subset=['TEXT']).reset_index(drop=True)"
   ]
  },
  {
   "cell_type": "code",
   "execution_count": 28,
   "id": "d524caa4-0389-497e-821e-2dc1a3d74553",
   "metadata": {},
   "outputs": [],
   "source": [
    "texts = Sample_TM_800_Unique_Files['TEXT'].tolist()"
   ]
  },
  {
   "cell_type": "code",
   "execution_count": 29,
   "id": "57d0cceb-3116-4641-9cb3-ae7d1f3f5c4b",
   "metadata": {},
   "outputs": [],
   "source": [
    "#tokenizer = AutoTokenizer.from_pretrained('bert-base-uncased')\n",
    "test_encodings = tokenizer(texts, truncation=True, padding=True, return_tensors='pt')"
   ]
  },
  {
   "cell_type": "code",
   "execution_count": 30,
   "id": "6e6ce767-d020-49d1-a06f-36ead325e67d",
   "metadata": {},
   "outputs": [],
   "source": [
    "device = torch.device('cuda' if torch.cuda.is_available() else 'cpu')\n",
    "test_encodings = {key: val.to(device) for key, val in test_encodings.items()}"
   ]
  },
  {
   "cell_type": "code",
   "execution_count": 31,
   "id": "0ef8cfd8-43d5-4e07-b2fb-0b91a85f1f40",
   "metadata": {},
   "outputs": [],
   "source": [
    "test_dataset = TensorDataset(test_encodings['input_ids'], \n",
    "                              test_encodings['token_type_ids'], \n",
    "                              test_encodings['attention_mask']\n",
    "                              )"
   ]
  },
  {
   "cell_type": "code",
   "execution_count": 32,
   "id": "73282b0a-3908-4b45-a13a-6ed373272074",
   "metadata": {},
   "outputs": [],
   "source": [
    "batch_size = 16\n",
    "\n",
    "# Create DataLoader\n",
    "test_dataloader = DataLoader(test_dataset, batch_size=batch_size, shuffle=False)"
   ]
  },
  {
   "cell_type": "code",
   "execution_count": 33,
   "id": "44a99e60-aaa5-4e50-9517-4f75a7763e3b",
   "metadata": {},
   "outputs": [],
   "source": [
    "model.eval()\n",
    "test_preds = []\n",
    "\n",
    "# Iterate through the test DataLoader\n",
    "with torch.no_grad():\n",
    "    for batch in test_dataloader:\n",
    "        input_ids, token_type_ids,  attention_mask = batch  # adjust based on your input features\n",
    "\n",
    "        # Make predictions using the model\n",
    "        outputs = model(input_ids, token_type_ids = token_type_ids, attention_mask=attention_mask)\n",
    "        logits = outputs.logits\n",
    "\n",
    "        # Assuming a classification task, get predicted class labels\n",
    "        preds = torch.argmax(logits, dim=1).cpu().numpy()\n",
    "        test_preds.extend(preds)"
   ]
  },
  {
   "cell_type": "code",
   "execution_count": 34,
   "id": "f3d5bae4-1a60-454a-9248-2ccc6be185c0",
   "metadata": {},
   "outputs": [],
   "source": [
    "Sample_TM_800_Unique_Files['naics_label_pred'] = test_preds"
   ]
  },
  {
   "cell_type": "code",
   "execution_count": 35,
   "id": "5c13a579-fb94-41c3-aca6-a66964583835",
   "metadata": {},
   "outputs": [],
   "source": [
    "def map_values(value):\n",
    "    return mapping_NAICS_reverse.get(value, value)  # Use get to handle cases where the key is not in the dictionary\n",
    "\n",
    "# Apply the function to create the new column\n",
    "Sample_TM_800_Unique_Files['naics_pred'] = Sample_TM_800_Unique_Files['naics_label_pred'].apply(map_values)"
   ]
  },
  {
   "cell_type": "code",
   "execution_count": 37,
   "id": "edc9351d-bbf1-4df5-8a1c-decb5f1d8878",
   "metadata": {},
   "outputs": [],
   "source": [
    "Sample_TM_800_Unique_Files_BERT_ROBERTA_NAICS_IG_PREDICT = pd.read_csv('Sample_TM_800_Unique_Files_BERT_ROBERTA_NAICS_IG_PREDICT.csv')"
   ]
  },
  {
   "cell_type": "code",
   "execution_count": 38,
   "id": "288170c5-c62d-445d-8c1d-404352c9dd1a",
   "metadata": {},
   "outputs": [],
   "source": [
    "Sample_TM_800_Unique_Files['industry_group_roberta_pred'] = list(Sample_TM_800_Unique_Files_BERT_ROBERTA_NAICS_IG_PREDICT['industry_group_roberta_pred'])\n",
    "Sample_TM_800_Unique_Files['industry_group_bert_pred'] = list(Sample_TM_800_Unique_Files_BERT_ROBERTA_NAICS_IG_PREDICT['industry_group_bert_pred'])\n",
    "Sample_TM_800_Unique_Files['naics_roberta_pred'] = list(Sample_TM_800_Unique_Files_BERT_ROBERTA_NAICS_IG_PREDICT['naics_roberta_pred'])"
   ]
  },
  {
   "cell_type": "code",
   "execution_count": 39,
   "id": "01d1fe47-543a-47df-b9c1-d466c17e6d79",
   "metadata": {},
   "outputs": [],
   "source": [
    "Sample_TM_800_Unique_Files.rename(columns={'naics_pred': 'naics_bert_pred'}, inplace=True)"
   ]
  },
  {
   "cell_type": "code",
   "execution_count": 40,
   "id": "7fc12e8f-e7f7-4f8b-be90-01ca359acc5a",
   "metadata": {},
   "outputs": [],
   "source": [
    "Sample_TM_800_Unique_Files_select = Sample_TM_800_Unique_Files[['UNIQUE_FILE_NUMBER',\n",
    " 'NICE_CLASS_CODE',\n",
    " 'LEGAL_NAME_UPD',\n",
    " \n",
    " 'NAICS Marianne',\n",
    " 'NAICS Sebastien',\n",
    " \n",
    " 'TEXT',\n",
    " \n",
    " 'industry_group_roberta_pred',\n",
    " 'industry_group_bert_pred','naics_roberta_pred','naics_bert_pred'\n",
    "                                                               ]]"
   ]
  },
  {
   "cell_type": "code",
   "execution_count": 41,
   "id": "8bb48728-573c-475d-80e1-11936ffffee2",
   "metadata": {},
   "outputs": [],
   "source": [
    "Sample_TM_800_Unique_Files_select.to_csv('Sample_TM_800_Unique_Files_BERT_ROBERTA_NAICS_IG_PREDICT_FULL.csv', index=False)"
   ]
  },
  {
   "cell_type": "code",
   "execution_count": 70,
   "id": "5cc7b4fb-6c17-40e5-95e5-41f1e83b24a6",
   "metadata": {},
   "outputs": [
    {
     "data": {
      "text/html": [
       "<div>\n",
       "<style scoped>\n",
       "    .dataframe tbody tr th:only-of-type {\n",
       "        vertical-align: middle;\n",
       "    }\n",
       "\n",
       "    .dataframe tbody tr th {\n",
       "        vertical-align: top;\n",
       "    }\n",
       "\n",
       "    .dataframe thead th {\n",
       "        text-align: right;\n",
       "    }\n",
       "</style>\n",
       "<table border=\"1\" class=\"dataframe\">\n",
       "  <thead>\n",
       "    <tr style=\"text-align: right;\">\n",
       "      <th></th>\n",
       "      <th>UNIQUE_FILE_NUMBER</th>\n",
       "      <th>NICE_CLASS_CODE</th>\n",
       "      <th>LEGAL_NAME_UPD</th>\n",
       "      <th>NAICS Marianne</th>\n",
       "      <th>NAICS Sebastien</th>\n",
       "      <th>TEXT</th>\n",
       "      <th>industry_group_roberta_pred</th>\n",
       "      <th>industry_group_bert_pred</th>\n",
       "      <th>naics_roberta_pred</th>\n",
       "      <th>naics_bert_pred</th>\n",
       "    </tr>\n",
       "  </thead>\n",
       "  <tbody>\n",
       "    <tr>\n",
       "      <th>10</th>\n",
       "      <td>2204660_0</td>\n",
       "      <td>36</td>\n",
       "      <td>glentel inc</td>\n",
       "      <td>524124.0</td>\n",
       "      <td>524129</td>\n",
       "      <td>Providing extended warranties on cellular phon...</td>\n",
       "      <td>5241</td>\n",
       "      <td>5173</td>\n",
       "      <td>524129</td>\n",
       "      <td>524129</td>\n",
       "    </tr>\n",
       "    <tr>\n",
       "      <th>11</th>\n",
       "      <td>2204660_0</td>\n",
       "      <td>37</td>\n",
       "      <td>glentel inc</td>\n",
       "      <td>449211.0</td>\n",
       "      <td>449211</td>\n",
       "      <td>Developing, supplying and advising with respec...</td>\n",
       "      <td>5179</td>\n",
       "      <td>5182</td>\n",
       "      <td>811210</td>\n",
       "      <td>334511</td>\n",
       "    </tr>\n",
       "    <tr>\n",
       "      <th>12</th>\n",
       "      <td>2204660_0</td>\n",
       "      <td>38</td>\n",
       "      <td>glentel inc</td>\n",
       "      <td>513140.0</td>\n",
       "      <td>449211</td>\n",
       "      <td>Provision of information and advice with respe...</td>\n",
       "      <td>5179</td>\n",
       "      <td>5182</td>\n",
       "      <td>334410</td>\n",
       "      <td>334110</td>\n",
       "    </tr>\n",
       "    <tr>\n",
       "      <th>13</th>\n",
       "      <td>2204660_0</td>\n",
       "      <td>42</td>\n",
       "      <td>glentel inc</td>\n",
       "      <td>518210.0</td>\n",
       "      <td>449211</td>\n",
       "      <td>Providing technical support services in the fo...</td>\n",
       "      <td>5182</td>\n",
       "      <td>5182</td>\n",
       "      <td>561420</td>\n",
       "      <td>517310</td>\n",
       "    </tr>\n",
       "    <tr>\n",
       "      <th>14</th>\n",
       "      <td>2187843_0</td>\n",
       "      <td>36</td>\n",
       "      <td>lussier dale parizeau inc</td>\n",
       "      <td>524111.0</td>\n",
       "      <td>524210</td>\n",
       "      <td>insurance services</td>\n",
       "      <td>5242</td>\n",
       "      <td>5242</td>\n",
       "      <td>524299</td>\n",
       "      <td>524299</td>\n",
       "    </tr>\n",
       "    <tr>\n",
       "      <th>15</th>\n",
       "      <td>2171874_0</td>\n",
       "      <td>35</td>\n",
       "      <td>ten tree international inc</td>\n",
       "      <td>813310.0</td>\n",
       "      <td>813310</td>\n",
       "      <td>promotion of the planting of trees and contrib...</td>\n",
       "      <td>5619</td>\n",
       "      <td>5413</td>\n",
       "      <td>541990</td>\n",
       "      <td>541611</td>\n",
       "    </tr>\n",
       "    <tr>\n",
       "      <th>16</th>\n",
       "      <td>2136129_0</td>\n",
       "      <td>5</td>\n",
       "      <td>hexo operations inc</td>\n",
       "      <td>312310.0</td>\n",
       "      <td>459993</td>\n",
       "      <td>Nutritional supplements containing cannabis ex...</td>\n",
       "      <td>3123</td>\n",
       "      <td>3123</td>\n",
       "      <td>312310</td>\n",
       "      <td>312310</td>\n",
       "    </tr>\n",
       "    <tr>\n",
       "      <th>17</th>\n",
       "      <td>2136129_0</td>\n",
       "      <td>34</td>\n",
       "      <td>hexo operations inc</td>\n",
       "      <td>312310.0</td>\n",
       "      <td>459993</td>\n",
       "      <td>Dried cannabis for recreational use; cannabis ...</td>\n",
       "      <td>3123</td>\n",
       "      <td>3123</td>\n",
       "      <td>312310</td>\n",
       "      <td>312310</td>\n",
       "    </tr>\n",
       "    <tr>\n",
       "      <th>18</th>\n",
       "      <td>2151540_0</td>\n",
       "      <td>9</td>\n",
       "      <td>12783185 canada inc</td>\n",
       "      <td>541514.0</td>\n",
       "      <td>518210</td>\n",
       "      <td>Downloadable computer software for accessing d...</td>\n",
       "      <td>3346</td>\n",
       "      <td>5182</td>\n",
       "      <td>334610</td>\n",
       "      <td>513211</td>\n",
       "    </tr>\n",
       "    <tr>\n",
       "      <th>19</th>\n",
       "      <td>2151540_0</td>\n",
       "      <td>41</td>\n",
       "      <td>12783185 canada inc</td>\n",
       "      <td>459120.0</td>\n",
       "      <td>449212</td>\n",
       "      <td>Organization of e-sports competitions; enterta...</td>\n",
       "      <td>5121</td>\n",
       "      <td>5162</td>\n",
       "      <td>512110</td>\n",
       "      <td>713299</td>\n",
       "    </tr>\n",
       "  </tbody>\n",
       "</table>\n",
       "</div>"
      ],
      "text/plain": [
       "   UNIQUE_FILE_NUMBER  NICE_CLASS_CODE              LEGAL_NAME_UPD  \\\n",
       "10          2204660_0               36                 glentel inc   \n",
       "11          2204660_0               37                 glentel inc   \n",
       "12          2204660_0               38                 glentel inc   \n",
       "13          2204660_0               42                 glentel inc   \n",
       "14          2187843_0               36   lussier dale parizeau inc   \n",
       "15          2171874_0               35  ten tree international inc   \n",
       "16          2136129_0                5         hexo operations inc   \n",
       "17          2136129_0               34         hexo operations inc   \n",
       "18          2151540_0                9         12783185 canada inc   \n",
       "19          2151540_0               41         12783185 canada inc   \n",
       "\n",
       "    NAICS Marianne NAICS Sebastien  \\\n",
       "10        524124.0          524129   \n",
       "11        449211.0          449211   \n",
       "12        513140.0          449211   \n",
       "13        518210.0          449211   \n",
       "14        524111.0          524210   \n",
       "15        813310.0          813310   \n",
       "16        312310.0          459993   \n",
       "17        312310.0          459993   \n",
       "18        541514.0          518210   \n",
       "19        459120.0         449212    \n",
       "\n",
       "                                                 TEXT  \\\n",
       "10  Providing extended warranties on cellular phon...   \n",
       "11  Developing, supplying and advising with respec...   \n",
       "12  Provision of information and advice with respe...   \n",
       "13  Providing technical support services in the fo...   \n",
       "14                                 insurance services   \n",
       "15  promotion of the planting of trees and contrib...   \n",
       "16  Nutritional supplements containing cannabis ex...   \n",
       "17  Dried cannabis for recreational use; cannabis ...   \n",
       "18  Downloadable computer software for accessing d...   \n",
       "19  Organization of e-sports competitions; enterta...   \n",
       "\n",
       "    industry_group_roberta_pred  industry_group_bert_pred  naics_roberta_pred  \\\n",
       "10                         5241                      5173              524129   \n",
       "11                         5179                      5182              811210   \n",
       "12                         5179                      5182              334410   \n",
       "13                         5182                      5182              561420   \n",
       "14                         5242                      5242              524299   \n",
       "15                         5619                      5413              541990   \n",
       "16                         3123                      3123              312310   \n",
       "17                         3123                      3123              312310   \n",
       "18                         3346                      5182              334610   \n",
       "19                         5121                      5162              512110   \n",
       "\n",
       "    naics_bert_pred  \n",
       "10           524129  \n",
       "11           334511  \n",
       "12           334110  \n",
       "13           517310  \n",
       "14           524299  \n",
       "15           541611  \n",
       "16           312310  \n",
       "17           312310  \n",
       "18           513211  \n",
       "19           713299  "
      ]
     },
     "execution_count": 70,
     "metadata": {},
     "output_type": "execute_result"
    }
   ],
   "source": [
    "Sample_TM_800_Unique_Files_select[10:20]"
   ]
  },
  {
   "cell_type": "code",
   "execution_count": null,
   "id": "3dce7cc8-410b-4d6d-9055-a26a9c180887",
   "metadata": {},
   "outputs": [],
   "source": [
    "Roberta = 9(retail),11**(naics),12,18,19,20,22,26,30*,34*,37,162,87**,85**,99**,104**,106,\n",
    "bert = 15,19,23,27**"
   ]
  },
  {
   "cell_type": "code",
   "execution_count": 106,
   "id": "749534aa-d6ae-47a3-9d81-3b305af1ee49",
   "metadata": {},
   "outputs": [
    {
     "data": {
      "text/plain": [
       "UNIQUE_FILE_NUMBER                                                     2204660_0\n",
       "NICE_CLASS_CODE                                                               37\n",
       "LEGAL_NAME_UPD                                                       glentel inc\n",
       "NAICS Marianne                                                          449211.0\n",
       "NAICS Sebastien                                                           449211\n",
       "TEXT                           Developing, supplying and advising with respec...\n",
       "industry_group_roberta_pred                                                 5179\n",
       "industry_group_bert_pred                                                    5182\n",
       "naics_roberta_pred                                                        811210\n",
       "naics_bert_pred                                                           334511\n",
       "Name: 11, dtype: object"
      ]
     },
     "execution_count": 106,
     "metadata": {},
     "output_type": "execute_result"
    }
   ],
   "source": [
    "k = 11\n",
    "Sample_TM_800_Unique_Files_select.iloc[k]"
   ]
  },
  {
   "cell_type": "code",
   "execution_count": 107,
   "id": "7e7d5f82-8a57-458d-afc0-77a54cde4dc6",
   "metadata": {},
   "outputs": [
    {
     "data": {
      "text/plain": [
       "'Developing, supplying and advising with respect to the selection, installation, operation, maintenance, repair, refurbishing and repurchase of wireless communications devices, namely, wireless phones, mobile phones, handheld computers and tablets'"
      ]
     },
     "execution_count": 107,
     "metadata": {},
     "output_type": "execute_result"
    }
   ],
   "source": [
    "Sample_TM_800_Unique_Files_select['TEXT'][k]"
   ]
  },
  {
   "cell_type": "code",
   "execution_count": 114,
   "id": "ddfcbbd0-7490-4edb-954c-215546083e40",
   "metadata": {},
   "outputs": [
    {
     "name": "stdout",
     "output_type": "stream",
     "text": [
      "Telecommunications resellers\n",
      "All other telecommunications\n"
     ]
    }
   ],
   "source": [
    "IG = 5179\n",
    "for i in range(len(NAICS_2022[NAICS_2022.INDUSTRY_GROUP == IG]['Class title'].reset_index(drop = True))):\n",
    "    print(NAICS_2022[NAICS_2022.INDUSTRY_GROUP == IG]['Class title'].reset_index(drop = True)[i])"
   ]
  },
  {
   "cell_type": "code",
   "execution_count": 115,
   "id": "2876b30e-bcf5-4e14-824e-53daeffc49ba",
   "metadata": {},
   "outputs": [
    {
     "name": "stdout",
     "output_type": "stream",
     "text": [
      "This Canadian industry comprises establishments primarily engaged in providing telecommunications and/or video entertainment services over network facilities operated by others.\n",
      "This Canadian industry comprises establishments primarily engaged in operating telecommunications networks or providing telecommunication services not elsewhere classified\n"
     ]
    }
   ],
   "source": [
    "for i in range(len(NAICS_2022[NAICS_2022.INDUSTRY_GROUP == IG]['Class definition'].reset_index(drop = True))):\n",
    "    print(NAICS_2022[NAICS_2022.INDUSTRY_GROUP == IG]['Class definition'].reset_index(drop = True)[i])"
   ]
  },
  {
   "cell_type": "code",
   "execution_count": 116,
   "id": "588edcbc-0dcc-47ba-bbdb-b003b295cd8f",
   "metadata": {},
   "outputs": [
    {
     "name": "stdout",
     "output_type": "stream",
     "text": [
      "['internet service provider (isp), resale', ' long distance telecommunication resellers', ' microwave communications resellers', ' mobile virtual network operators (mvno)', ' non-facilities based internet service provider (isp)', ' resellers, long-distance telephone communications (except satellite)', ' resellers, telephone communications (except satellite)', ' reselling dial-up or broadband internet service provider (isp) services', ' sale of cellular telephone plans using network facilities operated by others', ' telecommunication resellers', ' voice over internet protocol (voip) services, access-independent (non-managed)']\n",
      "['radar station operation', ' satellite earth stations facilities operators', ' satellite or missile tracking stations, operated on a contract basis', ' satellite telemetry operation on a contract or fee basis', ' satellite terminal stations', ' satellite tracking stations', ' selling of prepaid phone cards', ' selling of prepaid telephone calling cards', ' telemetry and tracking system operation on a contract or fee basis', ' tracking missiles by telemetry and photography on a contract basis']\n"
     ]
    }
   ],
   "source": [
    "for i in range(len(NAICS_2022[NAICS_2022.INDUSTRY_GROUP == IG]['EXAMPLE_SPLIT'].reset_index(drop = True))):\n",
    "    print(NAICS_2022[NAICS_2022.INDUSTRY_GROUP == IG]['EXAMPLE_SPLIT'].reset_index(drop = True)[i])"
   ]
  },
  {
   "cell_type": "code",
   "execution_count": 117,
   "id": "68156c88-db4d-4db6-84d5-93cf429c9985",
   "metadata": {},
   "outputs": [
    {
     "name": "stdout",
     "output_type": "stream",
     "text": [
      "Navigational and guidance instruments manufacturing\n"
     ]
    }
   ],
   "source": [
    "NAICS = 334511\n",
    "for i in range(len(NAICS_2022[NAICS_2022.Code == NAICS]['Class title'].reset_index(drop = True))):\n",
    "    print(NAICS_2022[NAICS_2022.Code == NAICS]['Class title'].reset_index(drop = True)[i])"
   ]
  },
  {
   "cell_type": "code",
   "execution_count": 118,
   "id": "a4fd7b2b-369d-4fbd-b367-ce004aabb50e",
   "metadata": {},
   "outputs": [
    {
     "name": "stdout",
     "output_type": "stream",
     "text": [
      "This Canadian industry comprises establishments primarily engaged in manufacturing navigational and guidance equipment.\n"
     ]
    }
   ],
   "source": [
    "for i in range(len(NAICS_2022[NAICS_2022.Code == NAICS]['Class definition'].reset_index(drop = True))):\n",
    "    print(NAICS_2022[NAICS_2022.Code == NAICS]['Class definition'].reset_index(drop = True)[i])"
   ]
  },
  {
   "cell_type": "code",
   "execution_count": 119,
   "id": "8217df65-9387-4823-b04d-0c8555a247df",
   "metadata": {},
   "outputs": [
    {
     "name": "stdout",
     "output_type": "stream",
     "text": [
      "['acceleration indicators and systems components, aerospace type, manufacturing', ' aeronautical navigational systems, electronic, manufacturing', ' air traffic control radar systems and equipment, manufacturing', ' airborne navigational systems, manufacturing', ' aircraft flight instruments (except engine instruments), manufacturing', ' airframe equipment instruments, manufacturing', ' airspeed instruments (aeronautical), manufacturing', ' altimeters, aeronautical, manufacturing', ' angle-of-attack instrumentation, manufacturing', ' angle-of-yaw instrumentation, manufacturing', ' artificial horizon instrumentation, manufacturing', ' bank and turn indicators and components (aeronautical instruments), manufacturing', ' cabin environment indicators, transmitters and sensors, manufacturing', ' compasses, gyroscopic and magnetic (except portable), manufacturing', ' countermeasure sets (e.g., active countermeasures, jamming equipment), manufacturing', ' distance measuring equipment (dme), aeronautical, manufacturing', ' driftmeters, aeronautical, manufacturing', ' electronic guidance systems and equipment, manufacturing', ' fathometers, manufacturing', ' fish finders (i.e., sonar), manufacturing', ' flight and navigation sensors, transmitters and displays, manufacturing', ' flight recorders (i.e., black boxes), manufacturing', ' glide slope instrumentation, manufacturing', ' guidance instruments manufacturing', ' gyrocompasses, manufacturing', ' gyrogimbals, manufacturing', ' gyroscopes, manufacturing', ' heads-up display (hud) systems, aeronautical, manufacturing', ' horizon situation instrumentation, manufacturing', ' inertial navigation systems, aeronautical, manufacturing', ' infrared homing systems, aeronautical, manufacturing', ' instrument landing system instrumentation, airborne or airport, manufacturing', ' light reconnaissance and surveillance systems and equipment, manufacturing', ' machmeters, manufacturing', ' mine detectors, sending out and responding to a signal, manufacturing', ' nautical instruments (except electronic), manufacturing', ' nautical instruments, electronic, manufacturing', ' nautical instruments, manufacturing', ' navigational instruments (except electronic), manufacturing', ' navigational instruments, electronic, manufacturing', ' navigational instruments, manufacturing', ' omnibearing instrumentation, manufacturing', ' pictorial situation instrumentation, manufacturing', ' position indicators (e.g., for landing gear, stabilizers), airframe equipment, manufacturing', ' proximity warning (i.e., collision avoidance) equipment, manufacturing', ' radar detectors, manufacturing', ' radar systems and equipment, manufacturing', ' radio magnetic instrumentation (rmi), manufacturing', ' rate-of-climb instrumentation, manufacturing', ' sextants (except surveying), manufacturing', ' sonar buoys, manufacturing', ' sonar fish finders, manufacturing', ' sonar systems and equipment, manufacturing', ' space vehicle guidance systems and equipment, manufacturing', ' speed, pitch and roll navigational instruments and systems, manufacturing', ' taffrail logs, manufacturing', ' underwater navigational systems, manufacturing', ' warfare countermeasures equipment, manufacturing', ' wheel position indicators and transmitters, aircraft, manufacturing']\n"
     ]
    }
   ],
   "source": [
    "for i in range(len(NAICS_2022[NAICS_2022.Code == NAICS]['EXAMPLE_SPLIT'].reset_index(drop = True))):\n",
    "    print(NAICS_2022[NAICS_2022.Code == NAICS]['EXAMPLE_SPLIT'].reset_index(drop = True)[i])"
   ]
  },
  {
   "cell_type": "code",
   "execution_count": 140,
   "id": "c488894a-b86f-4ab0-be94-f45a008563a0",
   "metadata": {},
   "outputs": [],
   "source": [
    "Sample_TM_800_Unique_Files_select_sebastien['ind_IG_Sebastien_bert_IG'] = (Sample_TM_800_Unique_Files_select_sebastien['IG_Sebastien'] == Sample_TM_800_Unique_Files_select_sebastien['industry_group_bert_pred']).astype(int)"
   ]
  },
  {
   "cell_type": "code",
   "execution_count": 144,
   "id": "83d17c8c-16ea-46e4-800a-19fdd82425e6",
   "metadata": {},
   "outputs": [],
   "source": [
    "Sample_TM_800_Unique_Files_select_sebastien['ind_IG_Sebastien_roberta_naics'] = (Sample_TM_800_Unique_Files_select_sebastien['IG_Sebastien'] == Sample_TM_800_Unique_Files_select_sebastien['naics_roberta_pred']//100).astype(int)"
   ]
  },
  {
   "cell_type": "code",
   "execution_count": 146,
   "id": "7ec0fb9c-3870-4da6-b996-74ed4099c96c",
   "metadata": {},
   "outputs": [],
   "source": [
    "Sample_TM_800_Unique_Files_select_sebastien['ind_IG_Sebastien_bert_naics'] = (Sample_TM_800_Unique_Files_select_sebastien['IG_Sebastien'] == Sample_TM_800_Unique_Files_select_sebastien['naics_bert_pred']//100).astype(int)"
   ]
  },
  {
   "cell_type": "code",
   "execution_count": 148,
   "id": "88f34c65-a509-4484-9ec1-d220b8bf159d",
   "metadata": {},
   "outputs": [],
   "source": [
    "Sample_TM_800_Unique_Files_select_sebastien['ind_naics_Sebastien_roberta'] = (Sample_TM_800_Unique_Files_select_sebastien['NAICS Sebastien'].astype(int) == Sample_TM_800_Unique_Files_select_sebastien['naics_roberta_pred']).astype(int)"
   ]
  },
  {
   "cell_type": "code",
   "execution_count": 150,
   "id": "c1e11408-3e6c-4b6a-bcf9-4a13397f3a0c",
   "metadata": {},
   "outputs": [],
   "source": [
    "Sample_TM_800_Unique_Files_select_sebastien['ind_naics_Sebastien_bert'] = (Sample_TM_800_Unique_Files_select_sebastien['NAICS Sebastien'].astype(int) == Sample_TM_800_Unique_Files_select_sebastien['naics_bert_pred']).astype(int)"
   ]
  },
  {
   "cell_type": "code",
   "execution_count": null,
   "id": "45099401-cbd2-45a0-8341-25a0103fbd43",
   "metadata": {},
   "outputs": [],
   "source": [
    "Sample_TM_800_Unique_Files_select_sebastien['ind_naics_Sebastien_roberta'] = (Sample_TM_800_Unique_Files_select_sebastien['IG_Sebastien'] == Sample_TM_800_Unique_Files_select_sebastien['naics_bert_pred']//100).astype(int)"
   ]
  },
  {
   "cell_type": "code",
   "execution_count": 153,
   "id": "d06a9030-42d3-4439-8326-98dcbfea5666",
   "metadata": {},
   "outputs": [
    {
     "data": {
      "text/plain": [
       "0.3058252427184466"
      ]
     },
     "execution_count": 153,
     "metadata": {},
     "output_type": "execute_result"
    }
   ],
   "source": [
    "Sample_TM_800_Unique_Files_select_sebastien.ind_IG_Sebastien_roberta_IG.sum()/len(Sample_TM_800_Unique_Files_select_sebastien)"
   ]
  },
  {
   "cell_type": "code",
   "execution_count": 154,
   "id": "d085e561-fccf-4f6e-818e-239957c4b8a1",
   "metadata": {},
   "outputs": [
    {
     "data": {
      "text/plain": [
       "0.2912621359223301"
      ]
     },
     "execution_count": 154,
     "metadata": {},
     "output_type": "execute_result"
    }
   ],
   "source": [
    "Sample_TM_800_Unique_Files_select_sebastien.ind_IG_Sebastien_bert_IG.sum()/len(Sample_TM_800_Unique_Files_select_sebastien)"
   ]
  },
  {
   "cell_type": "code",
   "execution_count": 155,
   "id": "6928c803-48ef-44a9-8330-7c450a0ced2a",
   "metadata": {},
   "outputs": [
    {
     "data": {
      "text/plain": [
       "0.3106796116504854"
      ]
     },
     "execution_count": 155,
     "metadata": {},
     "output_type": "execute_result"
    }
   ],
   "source": [
    "Sample_TM_800_Unique_Files_select_sebastien.ind_IG_Sebastien_roberta_naics.sum()/len(Sample_TM_800_Unique_Files_select_sebastien)"
   ]
  },
  {
   "cell_type": "code",
   "execution_count": 156,
   "id": "5e805935-4e1d-4596-b890-80be1b6b45dd",
   "metadata": {},
   "outputs": [
    {
     "data": {
      "text/plain": [
       "0.3155339805825243"
      ]
     },
     "execution_count": 156,
     "metadata": {},
     "output_type": "execute_result"
    }
   ],
   "source": [
    "Sample_TM_800_Unique_Files_select_sebastien.ind_IG_Sebastien_bert_naics.sum()/len(Sample_TM_800_Unique_Files_select_sebastien)"
   ]
  },
  {
   "cell_type": "code",
   "execution_count": 157,
   "id": "3a1383ec-f4fc-465f-8e49-5a9b2dfd6c89",
   "metadata": {},
   "outputs": [
    {
     "data": {
      "text/plain": [
       "0.25728155339805825"
      ]
     },
     "execution_count": 157,
     "metadata": {},
     "output_type": "execute_result"
    }
   ],
   "source": [
    "Sample_TM_800_Unique_Files_select_sebastien.ind_naics_Sebastien_roberta.sum()/len(Sample_TM_800_Unique_Files_select_sebastien)"
   ]
  },
  {
   "cell_type": "code",
   "execution_count": 158,
   "id": "d2f4cdf3-430e-4148-a831-9ea4b73cac21",
   "metadata": {},
   "outputs": [
    {
     "data": {
      "text/plain": [
       "0.25728155339805825"
      ]
     },
     "execution_count": 158,
     "metadata": {},
     "output_type": "execute_result"
    }
   ],
   "source": [
    "Sample_TM_800_Unique_Files_select_sebastien.ind_naics_Sebastien_bert.sum()/len(Sample_TM_800_Unique_Files_select_sebastien)"
   ]
  },
  {
   "cell_type": "code",
   "execution_count": 159,
   "id": "04b04996-230d-475e-a5a6-84587cc93cf8",
   "metadata": {},
   "outputs": [],
   "source": [
    "Sample_TM_800_Unique_Files_select_sebastien['ind_bert_roberat_naics'] = (Sample_TM_800_Unique_Files_select_sebastien['ind_naics_Sebastien_roberta'] == Sample_TM_800_Unique_Files_select_sebastien['ind_naics_Sebastien_bert']).astype(int)"
   ]
  },
  {
   "cell_type": "code",
   "execution_count": 163,
   "id": "7c1be0ff-7ad4-4f2f-abb6-e5358a4dcc82",
   "metadata": {},
   "outputs": [
    {
     "data": {
      "text/plain": [
       "0.9029126213592233"
      ]
     },
     "execution_count": 163,
     "metadata": {},
     "output_type": "execute_result"
    }
   ],
   "source": [
    "# the percentage that bert and roberta agree on the same NAICS\n",
    "Sample_TM_800_Unique_Files_select_sebastien.ind_bert_roberat_naics.sum()/len(Sample_TM_800_Unique_Files_select_sebastien)"
   ]
  },
  {
   "cell_type": "code",
   "execution_count": 167,
   "id": "19666a39-06fb-49e9-a949-68423d3f4853",
   "metadata": {},
   "outputs": [],
   "source": [
    "binary_columns_IG = ['ind_IG_Sebastien_roberta_IG', 'ind_IG_Sebastien_bert_IG', 'ind_IG_Sebastien_roberta_naics', 'ind_IG_Sebastien_bert_naics']\n",
    "\n",
    "# Create a new indicator column\n",
    "Sample_TM_800_Unique_Files_select_sebastien['indicator_IG'] = Sample_TM_800_Unique_Files_select_sebastien[binary_columns_IG].any(axis=1).astype(int)"
   ]
  },
  {
   "cell_type": "code",
   "execution_count": 169,
   "id": "2aea4745-ace9-4771-996e-a371be7b4a1f",
   "metadata": {
    "scrolled": true
   },
   "outputs": [
    {
     "data": {
      "text/plain": [
       "0.4174757281553398"
      ]
     },
     "execution_count": 169,
     "metadata": {},
     "output_type": "execute_result"
    }
   ],
   "source": [
    "# the percentage that bert and roberta agree on the same NAICS\n",
    "Sample_TM_800_Unique_Files_select_sebastien.indicator_IG.sum()/len(Sample_TM_800_Unique_Files_select_sebastien)"
   ]
  },
  {
   "cell_type": "code",
   "execution_count": 170,
   "id": "0f33c026-4043-4d95-a07a-a9a4e6f0d33e",
   "metadata": {},
   "outputs": [],
   "source": [
    "binary_columns_naics = ['ind_naics_Sebastien_roberta', 'ind_naics_Sebastien_bert']\n",
    "\n",
    "# Create a new indicator column\n",
    "Sample_TM_800_Unique_Files_select_sebastien['indicator_naics'] = Sample_TM_800_Unique_Files_select_sebastien[binary_columns_naics].any(axis=1).astype(int)"
   ]
  },
  {
   "cell_type": "code",
   "execution_count": 172,
   "id": "7a03cca8-bad2-4b81-9e85-ad571d1c1963",
   "metadata": {},
   "outputs": [
    {
     "data": {
      "text/plain": [
       "0.3058252427184466"
      ]
     },
     "execution_count": 172,
     "metadata": {},
     "output_type": "execute_result"
    }
   ],
   "source": [
    "# the percentage that bert and roberta agree on the same NAICS\n",
    "Sample_TM_800_Unique_Files_select_sebastien.indicator_naics.sum()/len(Sample_TM_800_Unique_Files_select_sebastien)"
   ]
  },
  {
   "cell_type": "code",
   "execution_count": 173,
   "id": "f9352ce8-a445-4434-a84f-2f90a15c482e",
   "metadata": {},
   "outputs": [],
   "source": [
    "#Sample_TM_800_Unique_Files_select_sebastien"
   ]
  },
  {
   "cell_type": "code",
   "execution_count": null,
   "id": "8b19156c-0b7d-44c7-b007-9ddfaf7b367d",
   "metadata": {},
   "outputs": [],
   "source": []
  }
 ],
 "metadata": {
  "kernelspec": {
   "display_name": "Python 3 (ipykernel)",
   "language": "python",
   "name": "python3"
  },
  "language_info": {
   "codemirror_mode": {
    "name": "ipython",
    "version": 3
   },
   "file_extension": ".py",
   "mimetype": "text/x-python",
   "name": "python",
   "nbconvert_exporter": "python",
   "pygments_lexer": "ipython3",
   "version": "3.11.6"
  }
 },
 "nbformat": 4,
 "nbformat_minor": 5
}
